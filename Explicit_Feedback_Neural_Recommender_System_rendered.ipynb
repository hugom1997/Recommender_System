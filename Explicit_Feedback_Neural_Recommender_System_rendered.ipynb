{
  "nbformat": 4,
  "nbformat_minor": 0,
  "metadata": {
    "kernelspec": {
      "name": "python3",
      "display_name": "Python 3"
    },
    "language_info": {
      "codemirror_mode": {
        "name": "ipython",
        "version": 3
      },
      "file_extension": ".py",
      "mimetype": "text/x-python",
      "name": "python",
      "nbconvert_exporter": "python",
      "pygments_lexer": "ipython3",
      "version": "3.7.6"
    },
    "colab": {
      "name": "Explicit_Feedback_Neural_Recommender_System_rendered.ipynb",
      "provenance": []
    },
    "accelerator": "GPU"
  },
  "cells": [
    {
      "cell_type": "markdown",
      "metadata": {
        "id": "3PuJmm7nR66E",
        "colab_type": "text"
      },
      "source": [
        "# Explicit Feedback Neural Recommender Systems\n",
        "\n",
        "Goals:\n",
        "- Understand recommender data\n",
        "- Build different models architectures using Keras\n",
        "- Retrieve Embeddings and visualize them\n",
        "- Add metadata information as input to the model"
      ]
    },
    {
      "cell_type": "code",
      "metadata": {
        "id": "AZ94HjfoR66L",
        "colab_type": "code",
        "colab": {
          "base_uri": "https://localhost:8080/",
          "height": 52
        },
        "outputId": "7babdbe6-077b-44d4-b6de-74d4d93029f7"
      },
      "source": [
        "%matplotlib inline\n",
        "import matplotlib.pyplot as plt\n",
        "import numpy as np\n",
        "import os.path as op\n",
        "\n",
        "from zipfile import ZipFile\n",
        "try:\n",
        "    from urllib.request import urlretrieve\n",
        "except ImportError:  # Python 2 compat\n",
        "    from urllib import urlretrieve\n",
        "\n",
        "\n",
        "ML_100K_URL = \"http://files.grouplens.org/datasets/movielens/ml-100k.zip\"\n",
        "ML_100K_FILENAME = ML_100K_URL.rsplit('/', 1)[1]\n",
        "ML_100K_FOLDER = 'ml-100k'\n",
        "\n",
        "if not op.exists(ML_100K_FILENAME):\n",
        "    print('Downloading %s to %s...' % (ML_100K_URL, ML_100K_FILENAME))\n",
        "    urlretrieve(ML_100K_URL, ML_100K_FILENAME)\n",
        "\n",
        "if not op.exists(ML_100K_FOLDER):\n",
        "    print('Extracting %s to %s...' % (ML_100K_FILENAME, ML_100K_FOLDER))\n",
        "    ZipFile(ML_100K_FILENAME).extractall('.')"
      ],
      "execution_count": 1,
      "outputs": [
        {
          "output_type": "stream",
          "text": [
            "Downloading http://files.grouplens.org/datasets/movielens/ml-100k.zip to ml-100k.zip...\n",
            "Extracting ml-100k.zip to ml-100k...\n"
          ],
          "name": "stdout"
        }
      ]
    },
    {
      "cell_type": "markdown",
      "metadata": {
        "id": "no89v9poR66i",
        "colab_type": "text"
      },
      "source": [
        "### Ratings file\n",
        "\n",
        "Each line contains a rated movie: \n",
        "- a user\n",
        "- an item\n",
        "- a rating from 1 to 5 stars"
      ]
    },
    {
      "cell_type": "code",
      "metadata": {
        "id": "Xec0MkeiR66n",
        "colab_type": "code",
        "colab": {
          "base_uri": "https://localhost:8080/",
          "height": 206
        },
        "outputId": "7299a111-b293-46ca-d905-d08ae1a207ba"
      },
      "source": [
        "import pandas as pd\n",
        "\n",
        "raw_ratings = pd.read_csv(op.join(ML_100K_FOLDER, 'u.data'), sep='\\t',\n",
        "                      names=[\"user_id\", \"item_id\", \"rating\", \"timestamp\"])\n",
        "raw_ratings.head()"
      ],
      "execution_count": 2,
      "outputs": [
        {
          "output_type": "execute_result",
          "data": {
            "text/html": [
              "<div>\n",
              "<style scoped>\n",
              "    .dataframe tbody tr th:only-of-type {\n",
              "        vertical-align: middle;\n",
              "    }\n",
              "\n",
              "    .dataframe tbody tr th {\n",
              "        vertical-align: top;\n",
              "    }\n",
              "\n",
              "    .dataframe thead th {\n",
              "        text-align: right;\n",
              "    }\n",
              "</style>\n",
              "<table border=\"1\" class=\"dataframe\">\n",
              "  <thead>\n",
              "    <tr style=\"text-align: right;\">\n",
              "      <th></th>\n",
              "      <th>user_id</th>\n",
              "      <th>item_id</th>\n",
              "      <th>rating</th>\n",
              "      <th>timestamp</th>\n",
              "    </tr>\n",
              "  </thead>\n",
              "  <tbody>\n",
              "    <tr>\n",
              "      <th>0</th>\n",
              "      <td>196</td>\n",
              "      <td>242</td>\n",
              "      <td>3</td>\n",
              "      <td>881250949</td>\n",
              "    </tr>\n",
              "    <tr>\n",
              "      <th>1</th>\n",
              "      <td>186</td>\n",
              "      <td>302</td>\n",
              "      <td>3</td>\n",
              "      <td>891717742</td>\n",
              "    </tr>\n",
              "    <tr>\n",
              "      <th>2</th>\n",
              "      <td>22</td>\n",
              "      <td>377</td>\n",
              "      <td>1</td>\n",
              "      <td>878887116</td>\n",
              "    </tr>\n",
              "    <tr>\n",
              "      <th>3</th>\n",
              "      <td>244</td>\n",
              "      <td>51</td>\n",
              "      <td>2</td>\n",
              "      <td>880606923</td>\n",
              "    </tr>\n",
              "    <tr>\n",
              "      <th>4</th>\n",
              "      <td>166</td>\n",
              "      <td>346</td>\n",
              "      <td>1</td>\n",
              "      <td>886397596</td>\n",
              "    </tr>\n",
              "  </tbody>\n",
              "</table>\n",
              "</div>"
            ],
            "text/plain": [
              "   user_id  item_id  rating  timestamp\n",
              "0      196      242       3  881250949\n",
              "1      186      302       3  891717742\n",
              "2       22      377       1  878887116\n",
              "3      244       51       2  880606923\n",
              "4      166      346       1  886397596"
            ]
          },
          "metadata": {
            "tags": []
          },
          "execution_count": 2
        }
      ]
    },
    {
      "cell_type": "markdown",
      "metadata": {
        "id": "QJA4a3TUR665",
        "colab_type": "text"
      },
      "source": [
        "### Item metadata file\n",
        "\n",
        "The item metadata file contains metadata like the name of the movie or the date it was released. The movies file contains columns indicating the movie's genres. Let's only load the first five columns of the file with `usecols`."
      ]
    },
    {
      "cell_type": "code",
      "metadata": {
        "id": "qaB9t4nQR66-",
        "colab_type": "code",
        "colab": {
          "base_uri": "https://localhost:8080/",
          "height": 206
        },
        "outputId": "2c9fd940-f897-478e-94bd-a873576ee53f"
      },
      "source": [
        "m_cols = ['item_id', 'title', 'release_date', 'video_release_date', 'imdb_url']\n",
        "items = pd.read_csv(op.join(ML_100K_FOLDER, 'u.item'), sep='|',\n",
        "                    names=m_cols, usecols=range(5), encoding='latin-1')\n",
        "items.head()"
      ],
      "execution_count": 3,
      "outputs": [
        {
          "output_type": "execute_result",
          "data": {
            "text/html": [
              "<div>\n",
              "<style scoped>\n",
              "    .dataframe tbody tr th:only-of-type {\n",
              "        vertical-align: middle;\n",
              "    }\n",
              "\n",
              "    .dataframe tbody tr th {\n",
              "        vertical-align: top;\n",
              "    }\n",
              "\n",
              "    .dataframe thead th {\n",
              "        text-align: right;\n",
              "    }\n",
              "</style>\n",
              "<table border=\"1\" class=\"dataframe\">\n",
              "  <thead>\n",
              "    <tr style=\"text-align: right;\">\n",
              "      <th></th>\n",
              "      <th>item_id</th>\n",
              "      <th>title</th>\n",
              "      <th>release_date</th>\n",
              "      <th>video_release_date</th>\n",
              "      <th>imdb_url</th>\n",
              "    </tr>\n",
              "  </thead>\n",
              "  <tbody>\n",
              "    <tr>\n",
              "      <th>0</th>\n",
              "      <td>1</td>\n",
              "      <td>Toy Story (1995)</td>\n",
              "      <td>01-Jan-1995</td>\n",
              "      <td>NaN</td>\n",
              "      <td>http://us.imdb.com/M/title-exact?Toy%20Story%2...</td>\n",
              "    </tr>\n",
              "    <tr>\n",
              "      <th>1</th>\n",
              "      <td>2</td>\n",
              "      <td>GoldenEye (1995)</td>\n",
              "      <td>01-Jan-1995</td>\n",
              "      <td>NaN</td>\n",
              "      <td>http://us.imdb.com/M/title-exact?GoldenEye%20(...</td>\n",
              "    </tr>\n",
              "    <tr>\n",
              "      <th>2</th>\n",
              "      <td>3</td>\n",
              "      <td>Four Rooms (1995)</td>\n",
              "      <td>01-Jan-1995</td>\n",
              "      <td>NaN</td>\n",
              "      <td>http://us.imdb.com/M/title-exact?Four%20Rooms%...</td>\n",
              "    </tr>\n",
              "    <tr>\n",
              "      <th>3</th>\n",
              "      <td>4</td>\n",
              "      <td>Get Shorty (1995)</td>\n",
              "      <td>01-Jan-1995</td>\n",
              "      <td>NaN</td>\n",
              "      <td>http://us.imdb.com/M/title-exact?Get%20Shorty%...</td>\n",
              "    </tr>\n",
              "    <tr>\n",
              "      <th>4</th>\n",
              "      <td>5</td>\n",
              "      <td>Copycat (1995)</td>\n",
              "      <td>01-Jan-1995</td>\n",
              "      <td>NaN</td>\n",
              "      <td>http://us.imdb.com/M/title-exact?Copycat%20(1995)</td>\n",
              "    </tr>\n",
              "  </tbody>\n",
              "</table>\n",
              "</div>"
            ],
            "text/plain": [
              "   item_id  ...                                           imdb_url\n",
              "0        1  ...  http://us.imdb.com/M/title-exact?Toy%20Story%2...\n",
              "1        2  ...  http://us.imdb.com/M/title-exact?GoldenEye%20(...\n",
              "2        3  ...  http://us.imdb.com/M/title-exact?Four%20Rooms%...\n",
              "3        4  ...  http://us.imdb.com/M/title-exact?Get%20Shorty%...\n",
              "4        5  ...  http://us.imdb.com/M/title-exact?Copycat%20(1995)\n",
              "\n",
              "[5 rows x 5 columns]"
            ]
          },
          "metadata": {
            "tags": []
          },
          "execution_count": 3
        }
      ]
    },
    {
      "cell_type": "markdown",
      "metadata": {
        "id": "st8ubr8pR67L",
        "colab_type": "text"
      },
      "source": [
        "Let's write a bit of Python preprocessing code to extract the release year as an integer value:"
      ]
    },
    {
      "cell_type": "code",
      "metadata": {
        "id": "vxTPSIgLR67O",
        "colab_type": "code",
        "colab": {
          "base_uri": "https://localhost:8080/",
          "height": 281
        },
        "outputId": "d4764976-639c-44d8-a0c6-2109f50ca0ff"
      },
      "source": [
        "def extract_year(release_date):\n",
        "    if hasattr(release_date, 'split'):\n",
        "        components = release_date.split('-')\n",
        "        if len(components) == 3:\n",
        "            return int(components[2])\n",
        "    # Missing value marker\n",
        "    return 1920\n",
        "\n",
        "\n",
        "items['release_year'] = items['release_date'].map(extract_year)\n",
        "items.hist('release_year', bins=50);"
      ],
      "execution_count": 4,
      "outputs": [
        {
          "output_type": "display_data",
          "data": {
            "image/png": "[encoded data removed]",
            "text/plain": [
              "<Figure size 432x288 with 1 Axes>"
            ]
          },
          "metadata": {
            "tags": []
          }
        }
      ]
    },
    {
      "cell_type": "markdown",
      "metadata": {
        "id": "zuFpCKxaR67b",
        "colab_type": "text"
      },
      "source": [
        "Enrich the raw ratings data with the collected items metadata:"
      ]
    },
    {
      "cell_type": "code",
      "metadata": {
        "id": "aXlSnQG-R67e",
        "colab_type": "code",
        "colab": {}
      },
      "source": [
        "all_ratings = pd.merge(items, raw_ratings)"
      ],
      "execution_count": 0,
      "outputs": []
    },
    {
      "cell_type": "code",
      "metadata": {
        "id": "FiaxkojLR67m",
        "colab_type": "code",
        "colab": {
          "base_uri": "https://localhost:8080/",
          "height": 293
        },
        "outputId": "fe042f64-4fee-4802-b536-c3927e64330c"
      },
      "source": [
        "all_ratings.head()"
      ],
      "execution_count": 6,
      "outputs": [
        {
          "output_type": "execute_result",
          "data": {
            "text/html": [
              "<div>\n",
              "<style scoped>\n",
              "    .dataframe tbody tr th:only-of-type {\n",
              "        vertical-align: middle;\n",
              "    }\n",
              "\n",
              "    .dataframe tbody tr th {\n",
              "        vertical-align: top;\n",
              "    }\n",
              "\n",
              "    .dataframe thead th {\n",
              "        text-align: right;\n",
              "    }\n",
              "</style>\n",
              "<table border=\"1\" class=\"dataframe\">\n",
              "  <thead>\n",
              "    <tr style=\"text-align: right;\">\n",
              "      <th></th>\n",
              "      <th>item_id</th>\n",
              "      <th>title</th>\n",
              "      <th>release_date</th>\n",
              "      <th>video_release_date</th>\n",
              "      <th>imdb_url</th>\n",
              "      <th>release_year</th>\n",
              "      <th>user_id</th>\n",
              "      <th>rating</th>\n",
              "      <th>timestamp</th>\n",
              "    </tr>\n",
              "  </thead>\n",
              "  <tbody>\n",
              "    <tr>\n",
              "      <th>0</th>\n",
              "      <td>1</td>\n",
              "      <td>Toy Story (1995)</td>\n",
              "      <td>01-Jan-1995</td>\n",
              "      <td>NaN</td>\n",
              "      <td>http://us.imdb.com/M/title-exact?Toy%20Story%2...</td>\n",
              "      <td>1995</td>\n",
              "      <td>308</td>\n",
              "      <td>4</td>\n",
              "      <td>887736532</td>\n",
              "    </tr>\n",
              "    <tr>\n",
              "      <th>1</th>\n",
              "      <td>1</td>\n",
              "      <td>Toy Story (1995)</td>\n",
              "      <td>01-Jan-1995</td>\n",
              "      <td>NaN</td>\n",
              "      <td>http://us.imdb.com/M/title-exact?Toy%20Story%2...</td>\n",
              "      <td>1995</td>\n",
              "      <td>287</td>\n",
              "      <td>5</td>\n",
              "      <td>875334088</td>\n",
              "    </tr>\n",
              "    <tr>\n",
              "      <th>2</th>\n",
              "      <td>1</td>\n",
              "      <td>Toy Story (1995)</td>\n",
              "      <td>01-Jan-1995</td>\n",
              "      <td>NaN</td>\n",
              "      <td>http://us.imdb.com/M/title-exact?Toy%20Story%2...</td>\n",
              "      <td>1995</td>\n",
              "      <td>148</td>\n",
              "      <td>4</td>\n",
              "      <td>877019411</td>\n",
              "    </tr>\n",
              "    <tr>\n",
              "      <th>3</th>\n",
              "      <td>1</td>\n",
              "      <td>Toy Story (1995)</td>\n",
              "      <td>01-Jan-1995</td>\n",
              "      <td>NaN</td>\n",
              "      <td>http://us.imdb.com/M/title-exact?Toy%20Story%2...</td>\n",
              "      <td>1995</td>\n",
              "      <td>280</td>\n",
              "      <td>4</td>\n",
              "      <td>891700426</td>\n",
              "    </tr>\n",
              "    <tr>\n",
              "      <th>4</th>\n",
              "      <td>1</td>\n",
              "      <td>Toy Story (1995)</td>\n",
              "      <td>01-Jan-1995</td>\n",
              "      <td>NaN</td>\n",
              "      <td>http://us.imdb.com/M/title-exact?Toy%20Story%2...</td>\n",
              "      <td>1995</td>\n",
              "      <td>66</td>\n",
              "      <td>3</td>\n",
              "      <td>883601324</td>\n",
              "    </tr>\n",
              "  </tbody>\n",
              "</table>\n",
              "</div>"
            ],
            "text/plain": [
              "   item_id             title release_date  ...  user_id rating  timestamp\n",
              "0        1  Toy Story (1995)  01-Jan-1995  ...      308      4  887736532\n",
              "1        1  Toy Story (1995)  01-Jan-1995  ...      287      5  875334088\n",
              "2        1  Toy Story (1995)  01-Jan-1995  ...      148      4  877019411\n",
              "3        1  Toy Story (1995)  01-Jan-1995  ...      280      4  891700426\n",
              "4        1  Toy Story (1995)  01-Jan-1995  ...       66      3  883601324\n",
              "\n",
              "[5 rows x 9 columns]"
            ]
          },
          "metadata": {
            "tags": []
          },
          "execution_count": 6
        }
      ]
    },
    {
      "cell_type": "markdown",
      "metadata": {
        "id": "DOvMfcagR670",
        "colab_type": "text"
      },
      "source": [
        "### Data preprocessing\n",
        "\n",
        "To understand well the distribution of the data, the following statistics are computed:\n",
        "- the number of users\n",
        "- the number of items\n",
        "- the rating distribution\n",
        "- the popularity of each movie"
      ]
    },
    {
      "cell_type": "code",
      "metadata": {
        "id": "KIwmjj-yR674",
        "colab_type": "code",
        "colab": {
          "base_uri": "https://localhost:8080/",
          "height": 34
        },
        "outputId": "7b074f1a-77dd-45b7-9135-5ddf2c03e595"
      },
      "source": [
        "min_user_id = all_ratings['user_id'].min()\n",
        "min_user_id"
      ],
      "execution_count": 7,
      "outputs": [
        {
          "output_type": "execute_result",
          "data": {
            "text/plain": [
              "1"
            ]
          },
          "metadata": {
            "tags": []
          },
          "execution_count": 7
        }
      ]
    },
    {
      "cell_type": "code",
      "metadata": {
        "id": "GUiOIfF1R68B",
        "colab_type": "code",
        "colab": {
          "base_uri": "https://localhost:8080/",
          "height": 34
        },
        "outputId": "2b4d1ea4-a70e-4e81-8727-dcb2fa264fc2"
      },
      "source": [
        "max_user_id = all_ratings['user_id'].max()\n",
        "max_user_id"
      ],
      "execution_count": 8,
      "outputs": [
        {
          "output_type": "execute_result",
          "data": {
            "text/plain": [
              "943"
            ]
          },
          "metadata": {
            "tags": []
          },
          "execution_count": 8
        }
      ]
    },
    {
      "cell_type": "code",
      "metadata": {
        "id": "Y6z1ClcER68K",
        "colab_type": "code",
        "colab": {
          "base_uri": "https://localhost:8080/",
          "height": 34
        },
        "outputId": "8dd9d1c5-701e-470e-e7fc-a53001d3a25e"
      },
      "source": [
        "min_item_id = all_ratings['item_id'].min()\n",
        "min_item_id"
      ],
      "execution_count": 9,
      "outputs": [
        {
          "output_type": "execute_result",
          "data": {
            "text/plain": [
              "1"
            ]
          },
          "metadata": {
            "tags": []
          },
          "execution_count": 9
        }
      ]
    },
    {
      "cell_type": "code",
      "metadata": {
        "id": "t-zRleD9R68T",
        "colab_type": "code",
        "colab": {
          "base_uri": "https://localhost:8080/",
          "height": 34
        },
        "outputId": "f100334b-8aab-4228-8389-822b40a318d2"
      },
      "source": [
        "max_item_id = all_ratings['item_id'].max()\n",
        "max_item_id"
      ],
      "execution_count": 10,
      "outputs": [
        {
          "output_type": "execute_result",
          "data": {
            "text/plain": [
              "1682"
            ]
          },
          "metadata": {
            "tags": []
          },
          "execution_count": 10
        }
      ]
    },
    {
      "cell_type": "code",
      "metadata": {
        "id": "VOEnniVlR68e",
        "colab_type": "code",
        "colab": {
          "base_uri": "https://localhost:8080/",
          "height": 173
        },
        "outputId": "8d762580-c186-418f-98e0-a1c06b392157"
      },
      "source": [
        "all_ratings['rating'].describe()"
      ],
      "execution_count": 11,
      "outputs": [
        {
          "output_type": "execute_result",
          "data": {
            "text/plain": [
              "count    100000.000000\n",
              "mean          3.529860\n",
              "std           1.125674\n",
              "min           1.000000\n",
              "25%           3.000000\n",
              "50%           4.000000\n",
              "75%           4.000000\n",
              "max           5.000000\n",
              "Name: rating, dtype: float64"
            ]
          },
          "metadata": {
            "tags": []
          },
          "execution_count": 11
        }
      ]
    },
    {
      "cell_type": "markdown",
      "metadata": {
        "id": "bsyeBFoIR68n",
        "colab_type": "text"
      },
      "source": [
        "Let's do a bit more pandas magic compute the popularity of each movie (number of ratings):"
      ]
    },
    {
      "cell_type": "code",
      "metadata": {
        "id": "S_KdS09TR68p",
        "colab_type": "code",
        "colab": {
          "base_uri": "https://localhost:8080/",
          "height": 467
        },
        "outputId": "879560ba-af9e-4c83-fbd0-bdfa70a8ba2d"
      },
      "source": [
        "popularity = all_ratings.groupby('item_id').size().reset_index(name='popularity')\n",
        "items = pd.merge(popularity, items)\n",
        "items.nlargest(10, 'popularity')"
      ],
      "execution_count": 12,
      "outputs": [
        {
          "output_type": "execute_result",
          "data": {
            "text/html": [
              "<div>\n",
              "<style scoped>\n",
              "    .dataframe tbody tr th:only-of-type {\n",
              "        vertical-align: middle;\n",
              "    }\n",
              "\n",
              "    .dataframe tbody tr th {\n",
              "        vertical-align: top;\n",
              "    }\n",
              "\n",
              "    .dataframe thead th {\n",
              "        text-align: right;\n",
              "    }\n",
              "</style>\n",
              "<table border=\"1\" class=\"dataframe\">\n",
              "  <thead>\n",
              "    <tr style=\"text-align: right;\">\n",
              "      <th></th>\n",
              "      <th>item_id</th>\n",
              "      <th>popularity</th>\n",
              "      <th>title</th>\n",
              "      <th>release_date</th>\n",
              "      <th>video_release_date</th>\n",
              "      <th>imdb_url</th>\n",
              "      <th>release_year</th>\n",
              "    </tr>\n",
              "  </thead>\n",
              "  <tbody>\n",
              "    <tr>\n",
              "      <th>49</th>\n",
              "      <td>50</td>\n",
              "      <td>583</td>\n",
              "      <td>Star Wars (1977)</td>\n",
              "      <td>01-Jan-1977</td>\n",
              "      <td>NaN</td>\n",
              "      <td>http://us.imdb.com/M/title-exact?Star%20Wars%2...</td>\n",
              "      <td>1977</td>\n",
              "    </tr>\n",
              "    <tr>\n",
              "      <th>257</th>\n",
              "      <td>258</td>\n",
              "      <td>509</td>\n",
              "      <td>Contact (1997)</td>\n",
              "      <td>11-Jul-1997</td>\n",
              "      <td>NaN</td>\n",
              "      <td>http://us.imdb.com/Title?Contact+(1997/I)</td>\n",
              "      <td>1997</td>\n",
              "    </tr>\n",
              "    <tr>\n",
              "      <th>99</th>\n",
              "      <td>100</td>\n",
              "      <td>508</td>\n",
              "      <td>Fargo (1996)</td>\n",
              "      <td>14-Feb-1997</td>\n",
              "      <td>NaN</td>\n",
              "      <td>http://us.imdb.com/M/title-exact?Fargo%20(1996)</td>\n",
              "      <td>1997</td>\n",
              "    </tr>\n",
              "    <tr>\n",
              "      <th>180</th>\n",
              "      <td>181</td>\n",
              "      <td>507</td>\n",
              "      <td>Return of the Jedi (1983)</td>\n",
              "      <td>14-Mar-1997</td>\n",
              "      <td>NaN</td>\n",
              "      <td>http://us.imdb.com/M/title-exact?Return%20of%2...</td>\n",
              "      <td>1997</td>\n",
              "    </tr>\n",
              "    <tr>\n",
              "      <th>293</th>\n",
              "      <td>294</td>\n",
              "      <td>485</td>\n",
              "      <td>Liar Liar (1997)</td>\n",
              "      <td>21-Mar-1997</td>\n",
              "      <td>NaN</td>\n",
              "      <td>http://us.imdb.com/Title?Liar+Liar+(1997)</td>\n",
              "      <td>1997</td>\n",
              "    </tr>\n",
              "    <tr>\n",
              "      <th>285</th>\n",
              "      <td>286</td>\n",
              "      <td>481</td>\n",
              "      <td>English Patient, The (1996)</td>\n",
              "      <td>15-Nov-1996</td>\n",
              "      <td>NaN</td>\n",
              "      <td>http://us.imdb.com/M/title-exact?English%20Pat...</td>\n",
              "      <td>1996</td>\n",
              "    </tr>\n",
              "    <tr>\n",
              "      <th>287</th>\n",
              "      <td>288</td>\n",
              "      <td>478</td>\n",
              "      <td>Scream (1996)</td>\n",
              "      <td>20-Dec-1996</td>\n",
              "      <td>NaN</td>\n",
              "      <td>http://us.imdb.com/M/title-exact?Scream%20(1996)</td>\n",
              "      <td>1996</td>\n",
              "    </tr>\n",
              "    <tr>\n",
              "      <th>0</th>\n",
              "      <td>1</td>\n",
              "      <td>452</td>\n",
              "      <td>Toy Story (1995)</td>\n",
              "      <td>01-Jan-1995</td>\n",
              "      <td>NaN</td>\n",
              "      <td>http://us.imdb.com/M/title-exact?Toy%20Story%2...</td>\n",
              "      <td>1995</td>\n",
              "    </tr>\n",
              "    <tr>\n",
              "      <th>299</th>\n",
              "      <td>300</td>\n",
              "      <td>431</td>\n",
              "      <td>Air Force One (1997)</td>\n",
              "      <td>01-Jan-1997</td>\n",
              "      <td>NaN</td>\n",
              "      <td>http://us.imdb.com/M/title-exact?Air+Force+One...</td>\n",
              "      <td>1997</td>\n",
              "    </tr>\n",
              "    <tr>\n",
              "      <th>120</th>\n",
              "      <td>121</td>\n",
              "      <td>429</td>\n",
              "      <td>Independence Day (ID4) (1996)</td>\n",
              "      <td>03-Jul-1996</td>\n",
              "      <td>NaN</td>\n",
              "      <td>http://us.imdb.com/M/title-exact?Independence%...</td>\n",
              "      <td>1996</td>\n",
              "    </tr>\n",
              "  </tbody>\n",
              "</table>\n",
              "</div>"
            ],
            "text/plain": [
              "     item_id  ...  release_year\n",
              "49        50  ...          1977\n",
              "257      258  ...          1997\n",
              "99       100  ...          1997\n",
              "180      181  ...          1997\n",
              "293      294  ...          1997\n",
              "285      286  ...          1996\n",
              "287      288  ...          1996\n",
              "0          1  ...          1995\n",
              "299      300  ...          1997\n",
              "120      121  ...          1996\n",
              "\n",
              "[10 rows x 7 columns]"
            ]
          },
          "metadata": {
            "tags": []
          },
          "execution_count": 12
        }
      ]
    },
    {
      "cell_type": "code",
      "metadata": {
        "id": "PLGZp8eVR68y",
        "colab_type": "code",
        "colab": {
          "base_uri": "https://localhost:8080/",
          "height": 34
        },
        "outputId": "6f562eb4-8a12-4189-ecc0-5fd166f5d350"
      },
      "source": [
        "items[\"title\"][181]"
      ],
      "execution_count": 13,
      "outputs": [
        {
          "output_type": "execute_result",
          "data": {
            "text/plain": [
              "'GoodFellas (1990)'"
            ]
          },
          "metadata": {
            "tags": []
          },
          "execution_count": 13
        }
      ]
    },
    {
      "cell_type": "code",
      "metadata": {
        "id": "i_-wrWYmR686",
        "colab_type": "code",
        "colab": {
          "base_uri": "https://localhost:8080/",
          "height": 34
        },
        "outputId": "fe4e5b6b-6579-431c-c499-1f2de26fa6b8"
      },
      "source": [
        "indexed_items = items.set_index('item_id')\n",
        "indexed_items[\"title\"][181]"
      ],
      "execution_count": 14,
      "outputs": [
        {
          "output_type": "execute_result",
          "data": {
            "text/plain": [
              "'Return of the Jedi (1983)'"
            ]
          },
          "metadata": {
            "tags": []
          },
          "execution_count": 14
        }
      ]
    },
    {
      "cell_type": "code",
      "metadata": {
        "id": "YdGtiLCNR69D",
        "colab_type": "code",
        "colab": {
          "base_uri": "https://localhost:8080/",
          "height": 300
        },
        "outputId": "2798420f-f308-4657-826f-2467c4d88ff5"
      },
      "source": [
        "all_ratings = pd.merge(popularity, all_ratings)\n",
        "all_ratings.describe()"
      ],
      "execution_count": 15,
      "outputs": [
        {
          "output_type": "execute_result",
          "data": {
            "text/html": [
              "<div>\n",
              "<style scoped>\n",
              "    .dataframe tbody tr th:only-of-type {\n",
              "        vertical-align: middle;\n",
              "    }\n",
              "\n",
              "    .dataframe tbody tr th {\n",
              "        vertical-align: top;\n",
              "    }\n",
              "\n",
              "    .dataframe thead th {\n",
              "        text-align: right;\n",
              "    }\n",
              "</style>\n",
              "<table border=\"1\" class=\"dataframe\">\n",
              "  <thead>\n",
              "    <tr style=\"text-align: right;\">\n",
              "      <th></th>\n",
              "      <th>item_id</th>\n",
              "      <th>popularity</th>\n",
              "      <th>video_release_date</th>\n",
              "      <th>release_year</th>\n",
              "      <th>user_id</th>\n",
              "      <th>rating</th>\n",
              "      <th>timestamp</th>\n",
              "    </tr>\n",
              "  </thead>\n",
              "  <tbody>\n",
              "    <tr>\n",
              "      <th>count</th>\n",
              "      <td>100000.000000</td>\n",
              "      <td>100000.000000</td>\n",
              "      <td>0.0</td>\n",
              "      <td>100000.000000</td>\n",
              "      <td>100000.00000</td>\n",
              "      <td>100000.000000</td>\n",
              "      <td>1.000000e+05</td>\n",
              "    </tr>\n",
              "    <tr>\n",
              "      <th>mean</th>\n",
              "      <td>425.530130</td>\n",
              "      <td>168.071900</td>\n",
              "      <td>NaN</td>\n",
              "      <td>1987.950100</td>\n",
              "      <td>462.48475</td>\n",
              "      <td>3.529860</td>\n",
              "      <td>8.835289e+08</td>\n",
              "    </tr>\n",
              "    <tr>\n",
              "      <th>std</th>\n",
              "      <td>330.798356</td>\n",
              "      <td>121.784558</td>\n",
              "      <td>NaN</td>\n",
              "      <td>14.169558</td>\n",
              "      <td>266.61442</td>\n",
              "      <td>1.125674</td>\n",
              "      <td>5.343856e+06</td>\n",
              "    </tr>\n",
              "    <tr>\n",
              "      <th>min</th>\n",
              "      <td>1.000000</td>\n",
              "      <td>1.000000</td>\n",
              "      <td>NaN</td>\n",
              "      <td>1920.000000</td>\n",
              "      <td>1.00000</td>\n",
              "      <td>1.000000</td>\n",
              "      <td>8.747247e+08</td>\n",
              "    </tr>\n",
              "    <tr>\n",
              "      <th>25%</th>\n",
              "      <td>175.000000</td>\n",
              "      <td>71.000000</td>\n",
              "      <td>NaN</td>\n",
              "      <td>1986.000000</td>\n",
              "      <td>254.00000</td>\n",
              "      <td>3.000000</td>\n",
              "      <td>8.794487e+08</td>\n",
              "    </tr>\n",
              "    <tr>\n",
              "      <th>50%</th>\n",
              "      <td>322.000000</td>\n",
              "      <td>145.000000</td>\n",
              "      <td>NaN</td>\n",
              "      <td>1994.000000</td>\n",
              "      <td>447.00000</td>\n",
              "      <td>4.000000</td>\n",
              "      <td>8.828269e+08</td>\n",
              "    </tr>\n",
              "    <tr>\n",
              "      <th>75%</th>\n",
              "      <td>631.000000</td>\n",
              "      <td>239.000000</td>\n",
              "      <td>NaN</td>\n",
              "      <td>1996.000000</td>\n",
              "      <td>682.00000</td>\n",
              "      <td>4.000000</td>\n",
              "      <td>8.882600e+08</td>\n",
              "    </tr>\n",
              "    <tr>\n",
              "      <th>max</th>\n",
              "      <td>1682.000000</td>\n",
              "      <td>583.000000</td>\n",
              "      <td>NaN</td>\n",
              "      <td>1998.000000</td>\n",
              "      <td>943.00000</td>\n",
              "      <td>5.000000</td>\n",
              "      <td>8.932866e+08</td>\n",
              "    </tr>\n",
              "  </tbody>\n",
              "</table>\n",
              "</div>"
            ],
            "text/plain": [
              "             item_id     popularity  ...         rating     timestamp\n",
              "count  100000.000000  100000.000000  ...  100000.000000  1.000000e+05\n",
              "mean      425.530130     168.071900  ...       3.529860  8.835289e+08\n",
              "std       330.798356     121.784558  ...       1.125674  5.343856e+06\n",
              "min         1.000000       1.000000  ...       1.000000  8.747247e+08\n",
              "25%       175.000000      71.000000  ...       3.000000  8.794487e+08\n",
              "50%       322.000000     145.000000  ...       4.000000  8.828269e+08\n",
              "75%       631.000000     239.000000  ...       4.000000  8.882600e+08\n",
              "max      1682.000000     583.000000  ...       5.000000  8.932866e+08\n",
              "\n",
              "[8 rows x 7 columns]"
            ]
          },
          "metadata": {
            "tags": []
          },
          "execution_count": 15
        }
      ]
    },
    {
      "cell_type": "code",
      "metadata": {
        "id": "yhbSM2O9R69L",
        "colab_type": "code",
        "colab": {
          "base_uri": "https://localhost:8080/",
          "height": 293
        },
        "outputId": "84ba7346-1e25-4fe6-cd5e-ff046b05cb01"
      },
      "source": [
        "all_ratings.head()"
      ],
      "execution_count": 16,
      "outputs": [
        {
          "output_type": "execute_result",
          "data": {
            "text/html": [
              "<div>\n",
              "<style scoped>\n",
              "    .dataframe tbody tr th:only-of-type {\n",
              "        vertical-align: middle;\n",
              "    }\n",
              "\n",
              "    .dataframe tbody tr th {\n",
              "        vertical-align: top;\n",
              "    }\n",
              "\n",
              "    .dataframe thead th {\n",
              "        text-align: right;\n",
              "    }\n",
              "</style>\n",
              "<table border=\"1\" class=\"dataframe\">\n",
              "  <thead>\n",
              "    <tr style=\"text-align: right;\">\n",
              "      <th></th>\n",
              "      <th>item_id</th>\n",
              "      <th>popularity</th>\n",
              "      <th>title</th>\n",
              "      <th>release_date</th>\n",
              "      <th>video_release_date</th>\n",
              "      <th>imdb_url</th>\n",
              "      <th>release_year</th>\n",
              "      <th>user_id</th>\n",
              "      <th>rating</th>\n",
              "      <th>timestamp</th>\n",
              "    </tr>\n",
              "  </thead>\n",
              "  <tbody>\n",
              "    <tr>\n",
              "      <th>0</th>\n",
              "      <td>1</td>\n",
              "      <td>452</td>\n",
              "      <td>Toy Story (1995)</td>\n",
              "      <td>01-Jan-1995</td>\n",
              "      <td>NaN</td>\n",
              "      <td>http://us.imdb.com/M/title-exact?Toy%20Story%2...</td>\n",
              "      <td>1995</td>\n",
              "      <td>308</td>\n",
              "      <td>4</td>\n",
              "      <td>887736532</td>\n",
              "    </tr>\n",
              "    <tr>\n",
              "      <th>1</th>\n",
              "      <td>1</td>\n",
              "      <td>452</td>\n",
              "      <td>Toy Story (1995)</td>\n",
              "      <td>01-Jan-1995</td>\n",
              "      <td>NaN</td>\n",
              "      <td>http://us.imdb.com/M/title-exact?Toy%20Story%2...</td>\n",
              "      <td>1995</td>\n",
              "      <td>287</td>\n",
              "      <td>5</td>\n",
              "      <td>875334088</td>\n",
              "    </tr>\n",
              "    <tr>\n",
              "      <th>2</th>\n",
              "      <td>1</td>\n",
              "      <td>452</td>\n",
              "      <td>Toy Story (1995)</td>\n",
              "      <td>01-Jan-1995</td>\n",
              "      <td>NaN</td>\n",
              "      <td>http://us.imdb.com/M/title-exact?Toy%20Story%2...</td>\n",
              "      <td>1995</td>\n",
              "      <td>148</td>\n",
              "      <td>4</td>\n",
              "      <td>877019411</td>\n",
              "    </tr>\n",
              "    <tr>\n",
              "      <th>3</th>\n",
              "      <td>1</td>\n",
              "      <td>452</td>\n",
              "      <td>Toy Story (1995)</td>\n",
              "      <td>01-Jan-1995</td>\n",
              "      <td>NaN</td>\n",
              "      <td>http://us.imdb.com/M/title-exact?Toy%20Story%2...</td>\n",
              "      <td>1995</td>\n",
              "      <td>280</td>\n",
              "      <td>4</td>\n",
              "      <td>891700426</td>\n",
              "    </tr>\n",
              "    <tr>\n",
              "      <th>4</th>\n",
              "      <td>1</td>\n",
              "      <td>452</td>\n",
              "      <td>Toy Story (1995)</td>\n",
              "      <td>01-Jan-1995</td>\n",
              "      <td>NaN</td>\n",
              "      <td>http://us.imdb.com/M/title-exact?Toy%20Story%2...</td>\n",
              "      <td>1995</td>\n",
              "      <td>66</td>\n",
              "      <td>3</td>\n",
              "      <td>883601324</td>\n",
              "    </tr>\n",
              "  </tbody>\n",
              "</table>\n",
              "</div>"
            ],
            "text/plain": [
              "   item_id  popularity             title  ... user_id  rating  timestamp\n",
              "0        1         452  Toy Story (1995)  ...     308       4  887736532\n",
              "1        1         452  Toy Story (1995)  ...     287       5  875334088\n",
              "2        1         452  Toy Story (1995)  ...     148       4  877019411\n",
              "3        1         452  Toy Story (1995)  ...     280       4  891700426\n",
              "4        1         452  Toy Story (1995)  ...      66       3  883601324\n",
              "\n",
              "[5 rows x 10 columns]"
            ]
          },
          "metadata": {
            "tags": []
          },
          "execution_count": 16
        }
      ]
    },
    {
      "cell_type": "markdown",
      "metadata": {
        "id": "C5eQ-PSRR69R",
        "colab_type": "text"
      },
      "source": [
        "Later in the analysis we will assume that this popularity does not come from the ratings themselves but from an external metadata, e.g. box office numbers in the month after the release in movie theaters.\n",
        "\n",
        "Let's split the enriched data in a train / test split to make it possible to do predictive modeling:"
      ]
    },
    {
      "cell_type": "code",
      "metadata": {
        "id": "2m9CPbLsR69T",
        "colab_type": "code",
        "colab": {}
      },
      "source": [
        "from sklearn.model_selection import train_test_split\n",
        "\n",
        "ratings_train, ratings_test = train_test_split(\n",
        "    all_ratings, test_size=0.2, random_state=0)\n",
        "\n",
        "user_id_train = np.array(ratings_train['user_id'])\n",
        "item_id_train = np.array(ratings_train['item_id'])\n",
        "rating_train = np.array(ratings_train['rating'])\n",
        "\n",
        "user_id_test = np.array(ratings_test['user_id'])\n",
        "item_id_test = np.array(ratings_test['item_id'])\n",
        "rating_test = np.array(ratings_test['rating'])"
      ],
      "execution_count": 0,
      "outputs": []
    },
    {
      "cell_type": "markdown",
      "metadata": {
        "id": "C4ulDvdnR69Z",
        "colab_type": "text"
      },
      "source": [
        "# Explicit feedback: supervised ratings prediction\n",
        "\n",
        "For each pair of (user, item) try to predict the rating the user would give to the item.\n",
        "\n",
        "This is the classical setup for building recommender systems from offline data with explicit supervision signal. "
      ]
    },
    {
      "cell_type": "markdown",
      "metadata": {
        "id": "IsJvrUNBR69e",
        "colab_type": "text"
      },
      "source": [
        "## Predictive ratings  as a regression problem\n",
        "\n",
        "The following code implements the following architecture:\n"
      ]
    },
    {
      "cell_type": "code",
      "metadata": {
        "id": "MqbmbeZoW4eb",
        "colab_type": "code",
        "colab": {
          "base_uri": "https://localhost:8080/",
          "height": 392
        },
        "outputId": "64d86779-ce49-41f0-e8f7-118b7ef8ddf5"
      },
      "source": [
        "from IPython.display import Image\n",
        "Image('rec_archi_1.png', width=600)"
      ],
      "execution_count": 69,
      "outputs": [
        {
          "output_type": "execute_result",
          "data": {
            "image/png": "[encoded data removed]",
            "text/plain": [
              "<IPython.core.display.Image object>"
            ]
          },
          "metadata": {
            "tags": [],
            "image/png": {
              "width": 600
            }
          },
          "execution_count": 69
        }
      ]
    },
    {
      "cell_type": "code",
      "metadata": {
        "id": "APGnHTmCR69g",
        "colab_type": "code",
        "colab": {}
      },
      "source": [
        "from tensorflow.keras.layers import Embedding, Flatten, Dense, Dropout\n",
        "from tensorflow.keras.layers import Dot\n",
        "from tensorflow.keras.models import Model"
      ],
      "execution_count": 0,
      "outputs": []
    },
    {
      "cell_type": "code",
      "metadata": {
        "id": "VjRfOJcQR69o",
        "colab_type": "code",
        "colab": {
          "base_uri": "https://localhost:8080/",
          "height": 89
        },
        "outputId": "af952caf-e1ed-49d0-b874-15602ff2689a"
      },
      "source": [
        "# For each sample we input the integer identifiers\n",
        "# of a single user and a single item\n",
        "class RegressionModel(Model):\n",
        "    def __init__(self, embedding_size, max_user_id, max_item_id):\n",
        "        super().__init__()\n",
        "        \n",
        "        self.user_embedding = Embedding(output_dim=embedding_size,\n",
        "                                        input_dim=max_user_id + 1,\n",
        "                                        input_length=1,\n",
        "                                        name='user_embedding')\n",
        "        self.item_embedding = Embedding(output_dim=embedding_size,\n",
        "                                        input_dim=max_item_id + 1,\n",
        "                                        input_length=1,\n",
        "                                        name='item_embedding')\n",
        "        \n",
        "        # The following two layers don't have parameters.\n",
        "        self.flatten = Flatten()\n",
        "        self.dot = Dot(axes=1)\n",
        "        \n",
        "    def call(self, inputs):\n",
        "        user_inputs = inputs[0]\n",
        "        item_inputs = inputs[1]\n",
        "        \n",
        "        user_vecs = self.flatten(self.user_embedding(user_inputs))\n",
        "        item_vecs = self.flatten(self.item_embedding(item_inputs))\n",
        "        \n",
        "        y = self.dot([user_vecs, item_vecs])\n",
        "        return y\n",
        "\n",
        "\n",
        "model = RegressionModel(64, max_user_id, max_item_id)\n",
        "model.compile(optimizer=\"adam\", loss='mae')"
      ],
      "execution_count": 19,
      "outputs": [
        {
          "output_type": "stream",
          "text": [
            "WARNING:tensorflow:From /usr/local/lib/python3.6/dist-packages/tensorflow_core/python/keras/initializers.py:119: calling RandomUniform.__init__ (from tensorflow.python.ops.init_ops) with dtype is deprecated and will be removed in a future version.\n",
            "Instructions for updating:\n",
            "Call initializer instance with the dtype argument instead of passing it to the constructor\n"
          ],
          "name": "stdout"
        }
      ]
    },
    {
      "cell_type": "code",
      "metadata": {
        "id": "GcXDGitfR69s",
        "colab_type": "code",
        "colab": {
          "base_uri": "https://localhost:8080/",
          "height": 106
        },
        "outputId": "7cad3d18-a7b8-4ed7-b4cd-bd05a8cda391"
      },
      "source": [
        "# Useful for debugging the output shape of model\n",
        "initial_train_preds = model.predict([user_id_train, item_id_train])\n",
        "initial_train_preds.shape"
      ],
      "execution_count": 20,
      "outputs": [
        {
          "output_type": "stream",
          "text": [
            "WARNING:tensorflow:From /usr/local/lib/python3.6/dist-packages/tensorflow_core/python/ops/resource_variable_ops.py:1630: calling BaseResourceVariable.__init__ (from tensorflow.python.ops.resource_variable_ops) with constraint is deprecated and will be removed in a future version.\n",
            "Instructions for updating:\n",
            "If using Keras pass *_constraint arguments to layers.\n"
          ],
          "name": "stdout"
        },
        {
          "output_type": "execute_result",
          "data": {
            "text/plain": [
              "(80000, 1)"
            ]
          },
          "metadata": {
            "tags": []
          },
          "execution_count": 20
        }
      ]
    },
    {
      "cell_type": "markdown",
      "metadata": {
        "id": "W_bamacbR690",
        "colab_type": "text"
      },
      "source": [
        "### Model error\n",
        "\n",
        "Using `initial_train_preds`, compute the model errors:\n",
        "- mean absolute error\n",
        "- mean squared error\n",
        "\n",
        "Converting a pandas Series to numpy array is usually implicit, but you may use `rating_train.values` to do so explicitly. Be sure to monitor the shapes of each object you deal with by using `object.shape`."
      ]
    },
    {
      "cell_type": "code",
      "metadata": {
        "id": "1qZg_kJKR692",
        "colab_type": "code",
        "colab": {
          "base_uri": "https://localhost:8080/",
          "height": 86
        },
        "outputId": "d7cd8d0f-381b-4b08-cae0-ac85e7db472c"
      },
      "source": [
        "# %load solutions/compute_errors.py\n",
        "squared_differences = np.square(initial_train_preds[:,0] - rating_train)\n",
        "absolute_differences = np.abs(initial_train_preds[:,0] - rating_train)\n",
        "\n",
        "print(\"Random init MSE: %0.3f\" % np.mean(squared_differences))\n",
        "print(\"Random init MAE: %0.3f\" % np.mean(absolute_differences))\n",
        "\n",
        "# You may also use sklearn metrics to do so using scikit-learn:\n",
        "\n",
        "from sklearn.metrics import mean_absolute_error, mean_squared_error\n",
        "\n",
        "print(\"Random init MSE: %0.3f\" % mean_squared_error(initial_train_preds, rating_train))\n",
        "print(\"Random init MAE: %0.3f\" % mean_absolute_error(initial_train_preds, rating_train))\n"
      ],
      "execution_count": 21,
      "outputs": [
        {
          "output_type": "stream",
          "text": [
            "Random init MSE: 13.720\n",
            "Random init MAE: 3.529\n",
            "Random init MSE: 13.720\n",
            "Random init MAE: 3.529\n"
          ],
          "name": "stdout"
        }
      ]
    },
    {
      "cell_type": "markdown",
      "metadata": {
        "id": "k7-4G5BnR698",
        "colab_type": "text"
      },
      "source": [
        "### Monitoring runs\n",
        "\n",
        "Keras enables to monitor various variables during training. \n",
        "\n",
        "`history.history` returned by the `model.fit` function is a dictionary\n",
        "containing the `'loss'` and validation loss `'val_loss'` after each epoch"
      ]
    },
    {
      "cell_type": "code",
      "metadata": {
        "id": "DjTqMltyR699",
        "colab_type": "code",
        "colab": {
          "base_uri": "https://localhost:8080/",
          "height": 416
        },
        "outputId": "b4ae8266-2447-4eff-853b-e51396baa4bd"
      },
      "source": [
        "%%time\n",
        "\n",
        "# Training the model\n",
        "history = model.fit([user_id_train, item_id_train], rating_train,\n",
        "                    batch_size=64, epochs=10, validation_split=0.1,\n",
        "                    shuffle=True)"
      ],
      "execution_count": 22,
      "outputs": [
        {
          "output_type": "stream",
          "text": [
            "Train on 72000 samples, validate on 8000 samples\n",
            "Epoch 1/10\n",
            "72000/72000 [==============================] - 3s 45us/sample - loss: 2.6765 - val_loss: 1.0600\n",
            "Epoch 2/10\n",
            "72000/72000 [==============================] - 3s 44us/sample - loss: 0.8538 - val_loss: 0.7956\n",
            "Epoch 3/10\n",
            "72000/72000 [==============================] - 3s 43us/sample - loss: 0.7545 - val_loss: 0.7647\n",
            "Epoch 4/10\n",
            "72000/72000 [==============================] - 3s 43us/sample - loss: 0.7276 - val_loss: 0.7513\n",
            "Epoch 5/10\n",
            "72000/72000 [==============================] - 3s 43us/sample - loss: 0.7056 - val_loss: 0.7468\n",
            "Epoch 6/10\n",
            "72000/72000 [==============================] - 3s 43us/sample - loss: 0.6847 - val_loss: 0.7425\n",
            "Epoch 7/10\n",
            "72000/72000 [==============================] - 3s 43us/sample - loss: 0.6652 - val_loss: 0.7382\n",
            "Epoch 8/10\n",
            "72000/72000 [==============================] - 3s 44us/sample - loss: 0.6438 - val_loss: 0.7354\n",
            "Epoch 9/10\n",
            "72000/72000 [==============================] - 3s 44us/sample - loss: 0.6211 - val_loss: 0.7368\n",
            "Epoch 10/10\n",
            "72000/72000 [==============================] - 3s 43us/sample - loss: 0.5968 - val_loss: 0.7386\n",
            "CPU times: user 42 s, sys: 3.6 s, total: 45.6 s\n",
            "Wall time: 31.5 s\n"
          ],
          "name": "stdout"
        }
      ]
    },
    {
      "cell_type": "code",
      "metadata": {
        "id": "LGy24Bt1R6-D",
        "colab_type": "code",
        "colab": {
          "base_uri": "https://localhost:8080/",
          "height": 281
        },
        "outputId": "8959a4fe-73bb-4411-a6be-3b3ab48717a5"
      },
      "source": [
        "plt.plot(history.history['loss'], label='train')\n",
        "plt.plot(history.history['val_loss'], label='validation')\n",
        "plt.ylim(0, 2)\n",
        "plt.legend(loc='best')\n",
        "plt.title('Loss');"
      ],
      "execution_count": 23,
      "outputs": [
        {
          "output_type": "display_data",
          "data": {
            "image/png": "[encoded data removed]",
            "text/plain": [
              "<Figure size 432x288 with 1 Axes>"
            ]
          },
          "metadata": {
            "tags": []
          }
        }
      ]
    },
    {
      "cell_type": "markdown",
      "metadata": {
        "id": "NoGiwGQlR6-J",
        "colab_type": "text"
      },
      "source": [
        "**Questions**:\n",
        "\n",
        "- Why is the train loss higher than the first loss in the first few epochs?\n",
        "- Why is Keras not computing the train loss on the full training set at the end of each epoch as it does on the validation set?\n",
        "\n",
        "\n",
        "Now that the model is trained, the model MSE and MAE look nicer:"
      ]
    },
    {
      "cell_type": "code",
      "metadata": {
        "id": "Ho89i0GKR6-K",
        "colab_type": "code",
        "colab": {}
      },
      "source": [
        "def plot_predictions(y_true, y_pred):\n",
        "    plt.figure(figsize=(4, 4))\n",
        "    plt.xlim(-1, 6)\n",
        "    plt.xlabel(\"True rating\")\n",
        "    plt.ylim(-1, 6)\n",
        "    plt.xlabel(\"Predicted rating\")\n",
        "    plt.scatter(y_true, y_pred, s=60, alpha=0.01)"
      ],
      "execution_count": 0,
      "outputs": []
    },
    {
      "cell_type": "code",
      "metadata": {
        "id": "D8eMX3txR6-P",
        "colab_type": "code",
        "colab": {
          "base_uri": "https://localhost:8080/",
          "height": 318
        },
        "outputId": "2a1d5e42-56d1-4b05-ef82-cc258cac9656"
      },
      "source": [
        "from sklearn.metrics import mean_squared_error\n",
        "from sklearn.metrics import mean_absolute_error\n",
        "\n",
        "test_preds = model.predict([user_id_test, item_id_test])\n",
        "print(\"Final test MSE: %0.3f\" % mean_squared_error(test_preds, rating_test))\n",
        "print(\"Final test MAE: %0.3f\" % mean_absolute_error(test_preds, rating_test))\n",
        "plot_predictions(rating_test, test_preds)"
      ],
      "execution_count": 25,
      "outputs": [
        {
          "output_type": "stream",
          "text": [
            "Final test MSE: 0.889\n",
            "Final test MAE: 0.729\n"
          ],
          "name": "stdout"
        },
        {
          "output_type": "display_data",
          "data": {
            "image/png": "[encoded data removed]",
            "text/plain": [
              "<Figure size 288x288 with 1 Axes>"
            ]
          },
          "metadata": {
            "tags": []
          }
        }
      ]
    },
    {
      "cell_type": "code",
      "metadata": {
        "id": "-ZpHsU1fR6-a",
        "colab_type": "code",
        "colab": {
          "base_uri": "https://localhost:8080/",
          "height": 318
        },
        "outputId": "a3ff5a12-e987-497b-f651-c903c4af0913"
      },
      "source": [
        "train_preds = model.predict([user_id_train, item_id_train])\n",
        "print(\"Final train MSE: %0.3f\" % mean_squared_error(train_preds, rating_train))\n",
        "print(\"Final train MAE: %0.3f\" % mean_absolute_error(train_preds, rating_train))\n",
        "plot_predictions(rating_train, train_preds)"
      ],
      "execution_count": 26,
      "outputs": [
        {
          "output_type": "stream",
          "text": [
            "Final train MSE: 0.622\n",
            "Final train MAE: 0.577\n"
          ],
          "name": "stdout"
        },
        {
          "output_type": "display_data",
          "data": {
            "image/png": "[encoded data removed]",
            "text/plain": [
              "<Figure size 288x288 with 1 Axes>"
            ]
          },
          "metadata": {
            "tags": []
          }
        }
      ]
    },
    {
      "cell_type": "markdown",
      "metadata": {
        "id": "0zs1vHasR6-e",
        "colab_type": "text"
      },
      "source": [
        "### Model Embeddings\n",
        "\n",
        "- It is possible to retrieve the embeddings by simply using the Keras function `model.get_weights` which returns all the model learnable parameters.\n",
        "- The weights are returned the same order as they were build in the model\n",
        "- What is the total number of parameters?"
      ]
    },
    {
      "cell_type": "code",
      "metadata": {
        "id": "MhdZx3_fR6-g",
        "colab_type": "code",
        "colab": {
          "base_uri": "https://localhost:8080/",
          "height": 34
        },
        "outputId": "b7065201-3786-4e4f-f082-e6685d0c825d"
      },
      "source": [
        "# weights and shape\n",
        "weights = model.get_weights()\n",
        "[w.shape for w in weights]"
      ],
      "execution_count": 27,
      "outputs": [
        {
          "output_type": "execute_result",
          "data": {
            "text/plain": [
              "[(944, 64), (1683, 64)]"
            ]
          },
          "metadata": {
            "tags": []
          },
          "execution_count": 27
        }
      ]
    },
    {
      "cell_type": "code",
      "metadata": {
        "id": "pcU1oNVNR6-n",
        "colab_type": "code",
        "colab": {}
      },
      "source": [
        "# Solution: \n",
        "# model.summary()"
      ],
      "execution_count": 0,
      "outputs": []
    },
    {
      "cell_type": "code",
      "metadata": {
        "id": "Fq-dbnsJR6-s",
        "colab_type": "code",
        "colab": {}
      },
      "source": [
        "user_embeddings = weights[0]\n",
        "item_embeddings = weights[1]"
      ],
      "execution_count": 0,
      "outputs": []
    },
    {
      "cell_type": "code",
      "metadata": {
        "id": "mlhV5TTrR6-y",
        "colab_type": "code",
        "colab": {
          "base_uri": "https://localhost:8080/",
          "height": 34
        },
        "outputId": "b55528be-d14b-416d-c180-42f481b30084"
      },
      "source": [
        "item_id = 181\n",
        "print(f\"Title for item_id={item_id}: {indexed_items['title'][item_id]}\")"
      ],
      "execution_count": 30,
      "outputs": [
        {
          "output_type": "stream",
          "text": [
            "Title for item_id=181: Return of the Jedi (1983)\n"
          ],
          "name": "stdout"
        }
      ]
    },
    {
      "cell_type": "code",
      "metadata": {
        "id": "Di1z5EwIR6-2",
        "colab_type": "code",
        "colab": {
          "base_uri": "https://localhost:8080/",
          "height": 243
        },
        "outputId": "a191ae05-c431-46b8-adaf-bf8d42acdd16"
      },
      "source": [
        "print(f\"Embedding vector for item_id={item_id}\")\n",
        "print(item_embeddings[item_id])\n",
        "print(\"shape:\", item_embeddings[item_id].shape)"
      ],
      "execution_count": 31,
      "outputs": [
        {
          "output_type": "stream",
          "text": [
            "Embedding vector for item_id=181\n",
            "[-0.1223809   0.35224092  0.01106843 -0.3548185   0.06717856  0.30822137\n",
            "  0.3815416  -0.43465337 -0.1461048  -0.1041069   0.37373814  0.22419915\n",
            " -0.3749233   0.5078507   0.45341748  0.34631786 -0.16377932 -0.3737825\n",
            " -0.26545122 -0.47549334 -0.15362495 -0.3956864   0.54430234 -0.32549646\n",
            " -0.09521419  0.42512095 -0.5118505  -0.45071158 -0.30035108 -0.36058134\n",
            " -0.26269916  0.5253425   0.18719305 -0.16542234 -0.56861037 -0.30353183\n",
            " -0.27316126 -0.3698235  -0.3303001  -0.22963959 -0.21928902 -0.48516625\n",
            " -0.03513336 -0.10746755  0.3375004   0.23824042  0.3746407  -0.06241262\n",
            "  0.05455384 -0.04203117 -0.3088555   0.05154789 -0.12316945  0.21301335\n",
            " -0.01677757 -0.48200256  0.00888807 -0.4062389   0.4394091   0.02885934\n",
            " -0.48321998 -0.04596816  0.37748563  0.5045857 ]\n",
            "shape: (64,)\n"
          ],
          "name": "stdout"
        }
      ]
    },
    {
      "cell_type": "markdown",
      "metadata": {
        "id": "7GBfReSUR6-6",
        "colab_type": "text"
      },
      "source": [
        "### Finding most similar items\n",
        "\n",
        "Finding k most similar items to a point in embedding space\n",
        "\n",
        "- Write in numpy a function to compute the cosine similarity between two points in embedding space.\n",
        "- Test it on the following cells to check the similarities between popular movies.\n",
        "- Bonus: try to generalize the function to compute the similarities between one movie and all the others and return the most related movies.\n",
        "\n",
        "Notes:\n",
        "- you may use `np.linalg.norm` to compute the norm of vector, and you may specify the `axis=`\n",
        "- the numpy function `np.argsort(...)` enables to compute the sorted indices of a vector\n",
        "- `items[\"name\"][idxs]` returns the names of the items indexed by array idxs"
      ]
    },
    {
      "cell_type": "code",
      "metadata": {
        "id": "bhFUOSVVR6-8",
        "colab_type": "code",
        "colab": {}
      },
      "source": [
        "EPSILON = 1e-07  # to avoid division by 0.\n",
        "\n",
        "\n",
        "def cosine(x, y):\n",
        "    # TODO: implement me!\n",
        "    return 0."
      ],
      "execution_count": 0,
      "outputs": []
    },
    {
      "cell_type": "code",
      "metadata": {
        "id": "qTxLYXNVR6_D",
        "colab_type": "code",
        "colab": {}
      },
      "source": [
        "# %load solutions/similarity.py\n",
        "EPSILON = 1e-07\n",
        "\n",
        "\n",
        "def cosine(x, y):\n",
        "    dot_products = np.dot(x, y.T)\n",
        "    norm_products = np.linalg.norm(x) * np.linalg.norm(y)\n",
        "    return dot_products / (norm_products + EPSILON)\n"
      ],
      "execution_count": 0,
      "outputs": []
    },
    {
      "cell_type": "code",
      "metadata": {
        "id": "_Nb6uQHER6_I",
        "colab_type": "code",
        "colab": {
          "base_uri": "https://localhost:8080/",
          "height": 69
        },
        "outputId": "3db2839c-81dd-4a73-b86a-82904b9aeeff"
      },
      "source": [
        "def print_similarity(item_a, item_b, item_embeddings, titles):\n",
        "    print(titles[item_a])\n",
        "    print(titles[item_b])\n",
        "    similarity = cosine(item_embeddings[item_a],\n",
        "                        item_embeddings[item_b])\n",
        "    print(f\"Cosine similarity: {similarity:.3}\")\n",
        "    \n",
        "print_similarity(50, 181, item_embeddings, indexed_items[\"title\"])"
      ],
      "execution_count": 34,
      "outputs": [
        {
          "output_type": "stream",
          "text": [
            "Star Wars (1977)\n",
            "Return of the Jedi (1983)\n",
            "Cosine similarity: 0.92\n"
          ],
          "name": "stdout"
        }
      ]
    },
    {
      "cell_type": "code",
      "metadata": {
        "id": "--7-gx6gR6_L",
        "colab_type": "code",
        "colab": {
          "base_uri": "https://localhost:8080/",
          "height": 69
        },
        "outputId": "b8204221-a4d1-4136-b258-86384e4b11d3"
      },
      "source": [
        "print_similarity(181, 288, item_embeddings, indexed_items[\"title\"])"
      ],
      "execution_count": 35,
      "outputs": [
        {
          "output_type": "stream",
          "text": [
            "Return of the Jedi (1983)\n",
            "Scream (1996)\n",
            "Cosine similarity: 0.764\n"
          ],
          "name": "stdout"
        }
      ]
    },
    {
      "cell_type": "code",
      "metadata": {
        "id": "Pd6NUrxPR6_P",
        "colab_type": "code",
        "colab": {
          "base_uri": "https://localhost:8080/",
          "height": 69
        },
        "outputId": "57df2f96-8ea4-495d-f755-bb4ecc96495f"
      },
      "source": [
        "print_similarity(181, 1, item_embeddings, indexed_items[\"title\"])"
      ],
      "execution_count": 36,
      "outputs": [
        {
          "output_type": "stream",
          "text": [
            "Return of the Jedi (1983)\n",
            "Toy Story (1995)\n",
            "Cosine similarity: 0.815\n"
          ],
          "name": "stdout"
        }
      ]
    },
    {
      "cell_type": "code",
      "metadata": {
        "id": "PeujKroJR6_W",
        "colab_type": "code",
        "colab": {
          "base_uri": "https://localhost:8080/",
          "height": 69
        },
        "outputId": "1712e697-3061-48c1-cf7d-7d731fd581af"
      },
      "source": [
        "print_similarity(181, 181, item_embeddings, indexed_items[\"title\"])"
      ],
      "execution_count": 37,
      "outputs": [
        {
          "output_type": "stream",
          "text": [
            "Return of the Jedi (1983)\n",
            "Return of the Jedi (1983)\n",
            "Cosine similarity: 1.0\n"
          ],
          "name": "stdout"
        }
      ]
    },
    {
      "cell_type": "code",
      "metadata": {
        "id": "qYjijLOBR6_b",
        "colab_type": "code",
        "colab": {
          "base_uri": "https://localhost:8080/",
          "height": 52
        },
        "outputId": "de9fe112-99f5-4db4-9c7d-42426b79b22c"
      },
      "source": [
        "def cosine_similarities(item_id, item_embeddings):\n",
        "    \"\"\"Compute similarities between item_id and all items embeddings\"\"\"\n",
        "    query_vector = item_embeddings[item_id]\n",
        "    dot_products = item_embeddings @ query_vector\n",
        "\n",
        "    query_vector_norm = np.linalg.norm(query_vector)\n",
        "    all_item_norms = np.linalg.norm(item_embeddings, axis=1)\n",
        "    norm_products = query_vector_norm * all_item_norms\n",
        "    return dot_products / (norm_products + EPSILON)\n",
        "\n",
        "\n",
        "similarities = cosine_similarities(181, item_embeddings)\n",
        "similarities"
      ],
      "execution_count": 38,
      "outputs": [
        {
          "output_type": "execute_result",
          "data": {
            "text/plain": [
              "array([0.03052905, 0.81483537, 0.7720688 , ..., 0.67535406, 0.80427927,\n",
              "       0.6638487 ], dtype=float32)"
            ]
          },
          "metadata": {
            "tags": []
          },
          "execution_count": 38
        }
      ]
    },
    {
      "cell_type": "code",
      "metadata": {
        "id": "grhejQeuR6_i",
        "colab_type": "code",
        "colab": {
          "base_uri": "https://localhost:8080/",
          "height": 265
        },
        "outputId": "3b28eda2-fe5e-462e-b7d1-95e7bacd721a"
      },
      "source": [
        "plt.hist(similarities, bins=30);"
      ],
      "execution_count": 39,
      "outputs": [
        {
          "output_type": "display_data",
          "data": {
            "image/png": "[encoded data removed]",
            "text/plain": [
              "<Figure size 432x288 with 1 Axes>"
            ]
          },
          "metadata": {
            "tags": []
          }
        }
      ]
    },
    {
      "cell_type": "code",
      "metadata": {
        "id": "-rEXsZ4AR6_p",
        "colab_type": "code",
        "colab": {
          "base_uri": "https://localhost:8080/",
          "height": 191
        },
        "outputId": "f36dc0c3-9064-40f1-9c80-a5b381baaa80"
      },
      "source": [
        "def most_similar(item_id, item_embeddings, titles,\n",
        "                 top_n=30):\n",
        "    sims = cosine_similarities(item_id, item_embeddings)\n",
        "    # [::-1] makes it possible to reverse the order of a numpy\n",
        "    # array, this is required because most similar items have\n",
        "    # a larger cosine similarity value\n",
        "    sorted_indexes = np.argsort(sims)[::-1]\n",
        "    idxs = sorted_indexes[0:top_n]\n",
        "    return list(zip(idxs, titles[idxs], sims[idxs]))\n",
        "\n",
        "\n",
        "most_similar(50, item_embeddings, indexed_items[\"title\"], top_n=10)"
      ],
      "execution_count": 40,
      "outputs": [
        {
          "output_type": "execute_result",
          "data": {
            "text/plain": [
              "[(50, 'Star Wars (1977)', 1.0000001),\n",
              " (181, 'Return of the Jedi (1983)', 0.92047393),\n",
              " (174, 'Raiders of the Lost Ark (1981)', 0.9191527),\n",
              " (172, 'Empire Strikes Back, The (1980)', 0.9071878),\n",
              " (173, 'Princess Bride, The (1987)', 0.9045387),\n",
              " (204, 'Back to the Future (1985)', 0.8999336),\n",
              " (12, 'Usual Suspects, The (1995)', 0.88377136),\n",
              " (64, 'Shawshank Redemption, The (1994)', 0.88073575),\n",
              " (96, 'Terminator 2: Judgment Day (1991)', 0.8754163),\n",
              " (265, 'Hunt for Red October, The (1990)', 0.867723)]"
            ]
          },
          "metadata": {
            "tags": []
          },
          "execution_count": 40
        }
      ]
    },
    {
      "cell_type": "code",
      "metadata": {
        "id": "AMPpooZeR6_3",
        "colab_type": "code",
        "colab": {}
      },
      "source": [
        "# items[items['title'].str.contains(\"Star Trek\")]"
      ],
      "execution_count": 0,
      "outputs": []
    },
    {
      "cell_type": "code",
      "metadata": {
        "id": "8r1jG6fhR6_8",
        "colab_type": "code",
        "colab": {
          "base_uri": "https://localhost:8080/",
          "height": 191
        },
        "outputId": "e2ee99e9-23e7-4f39-bab3-f05267d5b3e7"
      },
      "source": [
        "most_similar(227, item_embeddings, indexed_items[\"title\"], top_n=10)"
      ],
      "execution_count": 42,
      "outputs": [
        {
          "output_type": "execute_result",
          "data": {
            "text/plain": [
              "[(227, 'Star Trek VI: The Undiscovered Country (1991)', 1.0),\n",
              " (354, 'Wedding Singer, The (1998)', 0.8747482),\n",
              " (787, 'Roommates (1995)', 0.87337613),\n",
              " (233, 'Under Siege (1992)', 0.8618613),\n",
              " (1000, 'Lightning Jack (1994)', 0.85872245),\n",
              " (1238, 'Full Speed (1996)', 0.85671675),\n",
              " (431, 'Highlander (1986)', 0.8561665),\n",
              " (778, 'Don Juan DeMarco (1995)', 0.8540088),\n",
              " (101, 'Heavy Metal (1981)', 0.8536571),\n",
              " (109, 'Mystery Science Theater 3000: The Movie (1996)', 0.8530137)]"
            ]
          },
          "metadata": {
            "tags": []
          },
          "execution_count": 42
        }
      ]
    },
    {
      "cell_type": "markdown",
      "metadata": {
        "id": "M3b4KgJqR7AA",
        "colab_type": "text"
      },
      "source": [
        "The similarities do not always make sense: the number of ratings is low and the embedding  does not automatically capture semantic relationships in that context. Better representations arise with higher number of ratings, and less overfitting  in models or maybe better loss function, such as those based on implicit feedback."
      ]
    },
    {
      "cell_type": "markdown",
      "metadata": {
        "id": "Q3UBBt1rR7AB",
        "colab_type": "text"
      },
      "source": [
        "### Visualizing embeddings using TSNE\n",
        "\n",
        "- we use scikit learn to visualize items embeddings\n",
        "- Try different perplexities, and visualize user embeddings as well\n",
        "- What can you conclude ?"
      ]
    },
    {
      "cell_type": "code",
      "metadata": {
        "id": "PVT3ZbwyR7AD",
        "colab_type": "code",
        "colab": {}
      },
      "source": [
        "from sklearn.manifold import TSNE\n",
        "\n",
        "item_tsne = TSNE(perplexity=30).fit_transform(item_embeddings)"
      ],
      "execution_count": 0,
      "outputs": []
    },
    {
      "cell_type": "code",
      "metadata": {
        "id": "7FLxdOJxR7AK",
        "colab_type": "code",
        "colab": {
          "base_uri": "https://localhost:8080/",
          "height": 578
        },
        "outputId": "4d80d0bb-e24d-4224-8aa2-412f41e86cb4"
      },
      "source": [
        "import matplotlib.pyplot as plt\n",
        "\n",
        "plt.figure(figsize=(10, 10))\n",
        "plt.scatter(item_tsne[:, 0], item_tsne[:, 1]);\n",
        "plt.xticks(()); plt.yticks(());\n",
        "plt.show()"
      ],
      "execution_count": 44,
      "outputs": [
        {
          "output_type": "display_data",
          "data": {
            "image/png": "[encoded data removed]",
            "text/plain": [
              "<Figure size 720x720 with 1 Axes>"
            ]
          },
          "metadata": {
            "tags": []
          }
        }
      ]
    },
    {
      "cell_type": "code",
      "metadata": {
        "id": "z2xj3eVBR7AO",
        "colab_type": "code",
        "colab": {}
      },
      "source": [
        "%pip install -q plotly"
      ],
      "execution_count": 0,
      "outputs": []
    },
    {
      "cell_type": "code",
      "metadata": {
        "id": "aVELaQCXR7AT",
        "colab_type": "code",
        "colab": {
          "base_uri": "https://localhost:8080/",
          "height": 542
        },
        "outputId": "bc31e624-4457-45fc-e864-fcb77e4e1a71"
      },
      "source": [
        "import plotly.express as px\n",
        "\n",
        "tsne_df = pd.DataFrame(item_tsne, columns=[\"tsne_1\", \"tsne_2\"])\n",
        "tsne_df[\"item_id\"] = np.arange(item_tsne.shape[0])\n",
        "tsne_df = tsne_df.merge(items.reset_index())\n",
        "\n",
        "px.scatter(tsne_df, x=\"tsne_1\", y=\"tsne_2\",\n",
        "           color=\"popularity\",\n",
        "           hover_data=[\"item_id\", \"title\",\n",
        "                       \"release_year\", \"popularity\"])"
      ],
      "execution_count": 46,
      "outputs": [
        {
          "output_type": "display_data",
          "data": {
            "text/html": [
              "<html>\n",
              "<head><meta charset=\"utf-8\" /></head>\n",
              "<body>\n",
              "    <div>\n",
              "            <script src=\"https://cdnjs.cloudflare.com/ajax/libs/mathjax/2.7.5/MathJax.js?config=TeX-AMS-MML_SVG\"></script><script type=\"text/javascript\">if (window.MathJax) {MathJax.Hub.Config({SVG: {font: \"STIX-Web\"}});}</script>\n",
              "                <script type=\"text/javascript\">window.PlotlyConfig = {MathJaxConfig: 'local'};</script>\n",
              "        <script src=\"https://cdn.plot.ly/plotly-latest.min.js\"></script>    \n",
              "            <div id=\"5ad419b9-19ec-4e10-807c-ba283244f0e2\" class=\"plotly-graph-div\" style=\"height:525px; width:100%;\"></div>\n",
              "            <script type=\"text/javascript\">\n",
              "                \n",
              "                    window.PLOTLYENV=window.PLOTLYENV || {};\n",
              "                    \n",
              "                if (document.getElementById(\"5ad419b9-19ec-4e10-807c-ba283244f0e2\")) {\n",
              "                    Plotly.newPlot(\n",
              "                        '5ad419b9-19ec-4e10-807c-ba283244f0e2',\n",
              "                        [{\"customdata\": [[1, \"Toy Story (1995)\", 1995, 452], [2, \"GoldenEye (1995)\", 1995, 131], [3, \"Four Rooms (1995)\", 1995, 90], [4, \"Get Shorty (1995)\", 1995, 209], [5, \"Copycat (1995)\", 1995, 86], [6, \"Shanghai Triad (Yao a yao yao dao waipo qiao) (1995)\", 1995, 26], [7, \"Twelve Monkeys (1995)\", 1995, 392], [8, \"Babe (1995)\", 1995, 219], [9, \"Dead Man Walking (1995)\", 1995, 299], [10, \"Richard III (1995)\", 1996, 89], [11, \"Seven (Se7en) (1995)\", 1995, 236], [12, \"Usual Suspects, The (1995)\", 1995, 267], [13, \"Mighty Aphrodite (1995)\", 1995, 184], [14, \"Postino, Il (1994)\", 1994, 183], [15, \"Mr. Holland's Opus (1995)\", 1996, 293], [16, \"French Twist (Gazon maudit) (1995)\", 1995, 39], [17, \"From Dusk Till Dawn (1996)\", 1996, 92], [18, \"White Balloon, The (1995)\", 1995, 10], [19, \"Antonia's Line (1995)\", 1995, 69], [20, \"Angels and Insects (1995)\", 1995, 72], [21, \"Muppet Treasure Island (1996)\", 1996, 84], [22, \"Braveheart (1995)\", 1996, 297], [23, \"Taxi Driver (1976)\", 1996, 182], [24, \"Rumble in the Bronx (1995)\", 1996, 174], [25, \"Birdcage, The (1996)\", 1996, 293], [26, \"Brothers McMullen, The (1995)\", 1995, 73], [27, \"Bad Boys (1995)\", 1995, 57], [28, \"Apollo 13 (1995)\", 1995, 276], [29, \"Batman Forever (1995)\", 1995, 114], [30, \"Belle de jour (1967)\", 1967, 37], [31, \"Crimson Tide (1995)\", 1995, 154], [32, \"Crumb (1994)\", 1994, 81], [33, \"Desperado (1995)\", 1995, 97], [34, \"Doom Generation, The (1995)\", 1995, 7], [35, \"Free Willy 2: The Adventure Home (1995)\", 1995, 11], [36, \"Mad Love (1995)\", 1995, 13], [37, \"Nadja (1994)\", 1994, 8], [38, \"Net, The (1995)\", 1995, 120], [39, \"Strange Days (1995)\", 1995, 87], [40, \"To Wong Foo, Thanks for Everything! Julie Newmar (1995)\", 1995, 57], [41, \"Billy Madison (1995)\", 1995, 37], [42, \"Clerks (1994)\", 1994, 148], [43, \"Disclosure (1994)\", 1994, 40], [44, \"Dolores Claiborne (1994)\", 1994, 79], [45, \"Eat Drink Man Woman (1994)\", 1994, 80], [46, \"Exotica (1994)\", 1994, 27], [47, \"Ed Wood (1994)\", 1994, 133], [48, \"Hoop Dreams (1994)\", 1994, 117], [49, \"I.Q. (1994)\", 1994, 81], [50, \"Star Wars (1977)\", 1977, 583], [51, \"Legends of the Fall (1994)\", 1994, 81], [52, \"Madness of King George, The (1994)\", 1994, 91], [53, \"Natural Born Killers (1994)\", 1994, 128], [54, \"Outbreak (1995)\", 1995, 104], [55, \"Professional, The (1994)\", 1994, 149], [56, \"Pulp Fiction (1994)\", 1994, 394], [57, \"Priest (1994)\", 1994, 40], [58, \"Quiz Show (1994)\", 1994, 175], [59, \"Three Colors: Red (1994)\", 1994, 83], [60, \"Three Colors: Blue (1993)\", 1993, 64], [61, \"Three Colors: White (1994)\", 1994, 59], [62, \"Stargate (1994)\", 1994, 127], [63, \"Santa Clause, The (1994)\", 1994, 82], [64, \"Shawshank Redemption, The (1994)\", 1994, 283], [65, \"What's Eating Gilbert Grape (1993)\", 1993, 115], [66, \"While You Were Sleeping (1995)\", 1995, 162], [67, \"Ace Ventura: Pet Detective (1994)\", 1994, 103], [68, \"Crow, The (1994)\", 1994, 134], [69, \"Forrest Gump (1994)\", 1994, 321], [70, \"Four Weddings and a Funeral (1994)\", 1994, 251], [71, \"Lion King, The (1994)\", 1994, 220], [72, \"Mask, The (1994)\", 1994, 129], [73, \"Maverick (1994)\", 1994, 128], [74, \"Faster Pussycat! Kill! Kill! (1965)\", 1965, 7], [75, \"Brother Minister: The Assassination of Malcolm X (1994)\", 1994, 5], [76, \"Carlito's Way (1993)\", 1993, 54], [77, \"Firm, The (1993)\", 1993, 151], [78, \"Free Willy (1993)\", 1993, 33], [79, \"Fugitive, The (1993)\", 1993, 336], [80, \"Hot Shots! Part Deux (1993)\", 1993, 68], [81, \"Hudsucker Proxy, The (1994)\", 1994, 110], [82, \"Jurassic Park (1993)\", 1993, 261], [83, \"Much Ado About Nothing (1993)\", 1993, 176], [84, \"Robert A. Heinlein's The Puppet Masters (1994)\", 1994, 18], [85, \"Ref, The (1994)\", 1994, 58], [86, \"Remains of the Day, The (1993)\", 1993, 150], [87, \"Searching for Bobby Fischer (1993)\", 1993, 138], [88, \"Sleepless in Seattle (1993)\", 1993, 213], [89, \"Blade Runner (1982)\", 1982, 275], [90, \"So I Married an Axe Murderer (1993)\", 1993, 95], [91, \"Nightmare Before Christmas, The (1993)\", 1993, 143], [92, \"True Romance (1993)\", 1993, 104], [93, \"Welcome to the Dollhouse (1995)\", 1996, 112], [94, \"Home Alone (1990)\", 1990, 137], [95, \"Aladdin (1992)\", 1992, 219], [96, \"Terminator 2: Judgment Day (1991)\", 1991, 295], [97, \"Dances with Wolves (1990)\", 1990, 256], [98, \"Silence of the Lambs, The (1991)\", 1991, 390], [99, \"Snow White and the Seven Dwarfs (1937)\", 1937, 172], [100, \"Fargo (1996)\", 1997, 508], [101, \"Heavy Metal (1981)\", 1981, 73], [102, \"Aristocats, The (1970)\", 1970, 54], [103, \"All Dogs Go to Heaven 2 (1996)\", 1996, 15], [104, \"Theodore Rex (1995)\", 1996, 5], [105, \"Sgt. Bilko (1996)\", 1996, 74], [106, \"Diabolique (1996)\", 1996, 71], [107, \"Moll Flanders (1996)\", 1996, 42], [108, \"Kids in the Hall: Brain Candy (1996)\", 1996, 65], [109, \"Mystery Science Theater 3000: The Movie (1996)\", 1996, 130], [110, \"Operation Dumbo Drop (1995)\", 1995, 31], [111, \"Truth About Cats & Dogs, The (1996)\", 1996, 272], [112, \"Flipper (1996)\", 1996, 20], [113, \"Horseman on the Roof, The (Hussard sur le toit, Le) (1995)\", 1996, 9], [114, \"Wallace & Gromit: The Best of Aardman Animation (1996)\", 1996, 67], [115, \"Haunted World of Edward D. Wood Jr., The (1995)\", 1996, 15], [116, \"Cold Comfort Farm (1995)\", 1996, 125], [117, \"Rock, The (1996)\", 1996, 378], [118, \"Twister (1996)\", 1996, 293], [119, \"Maya Lin: A Strong Clear Vision (1994)\", 1994, 4], [120, \"Striptease (1996)\", 1996, 67], [121, \"Independence Day (ID4) (1996)\", 1996, 429], [122, \"Cable Guy, The (1996)\", 1996, 106], [123, \"Frighteners, The (1996)\", 1996, 115], [124, \"Lone Star (1996)\", 1996, 187], [125, \"Phenomenon (1996)\", 1996, 244], [126, \"Spitfire Grill, The (1996)\", 1996, 97], [127, \"Godfather, The (1972)\", 1972, 413], [128, \"Supercop (1992)\", 1996, 65], [129, \"Bound (1996)\", 1996, 129], [130, \"Kansas City (1996)\", 1996, 23], [131, \"Breakfast at Tiffany's (1961)\", 1961, 95], [132, \"Wizard of Oz, The (1939)\", 1939, 246], [133, \"Gone with the Wind (1939)\", 1939, 171], [134, \"Citizen Kane (1941)\", 1941, 198], [135, \"2001: A Space Odyssey (1968)\", 1968, 259], [136, \"Mr. Smith Goes to Washington (1939)\", 1939, 105], [137, \"Big Night (1996)\", 1996, 171], [138, \"D3: The Mighty Ducks (1996)\", 1996, 19], [139, \"Love Bug, The (1969)\", 1969, 50], [140, \"Homeward Bound: The Incredible Journey (1993)\", 1993, 61], [141, \"20,000 Leagues Under the Sea (1954)\", 1954, 72], [142, \"Bedknobs and Broomsticks (1971)\", 1971, 57], [143, \"Sound of Music, The (1965)\", 1965, 222], [144, \"Die Hard (1988)\", 1988, 243], [145, \"Lawnmower Man, The (1992)\", 1992, 65], [146, \"Unhook the Stars (1996)\", 1996, 10], [147, \"Long Kiss Goodnight, The (1996)\", 1996, 185], [148, \"Ghost and the Darkness, The (1996)\", 1996, 128], [149, \"Jude (1996)\", 1996, 23], [150, \"Swingers (1996)\", 1996, 157], [151, \"Willy Wonka and the Chocolate Factory (1971)\", 1971, 326], [152, \"Sleeper (1973)\", 1973, 82], [153, \"Fish Called Wanda, A (1988)\", 1988, 247], [154, \"Monty Python's Life of Brian (1979)\", 1979, 174], [155, \"Dirty Dancing (1987)\", 1987, 98], [156, \"Reservoir Dogs (1992)\", 1992, 148], [157, \"Platoon (1986)\", 1986, 127], [158, \"Weekend at Bernie's (1989)\", 1989, 60], [159, \"Basic Instinct (1992)\", 1992, 101], [160, \"Glengarry Glen Ross (1992)\", 1992, 69], [161, \"Top Gun (1986)\", 1986, 220], [162, \"On Golden Pond (1981)\", 1981, 106], [163, \"Return of the Pink Panther, The (1974)\", 1974, 92], [164, \"Abyss, The (1989)\", 1989, 151], [165, \"Jean de Florette (1986)\", 1986, 64], [166, \"Manon of the Spring (Manon des sources) (1986)\", 1986, 58], [167, \"Private Benjamin (1980)\", 1980, 67], [168, \"Monty Python and the Holy Grail (1974)\", 1974, 316], [169, \"Wrong Trousers, The (1993)\", 1993, 118], [170, \"Cinema Paradiso (1988)\", 1988, 121], [171, \"Delicatessen (1991)\", 1991, 65], [172, \"Empire Strikes Back, The (1980)\", 1980, 367], [173, \"Princess Bride, The (1987)\", 1987, 324], [174, \"Raiders of the Lost Ark (1981)\", 1981, 420], [175, \"Brazil (1985)\", 1985, 208], [176, \"Aliens (1986)\", 1986, 284], [177, \"Good, The Bad and The Ugly, The (1966)\", 1966, 137], [178, \"12 Angry Men (1957)\", 1957, 125], [179, \"Clockwork Orange, A (1971)\", 1971, 221], [180, \"Apocalypse Now (1979)\", 1979, 221], [181, \"Return of the Jedi (1983)\", 1997, 507], [182, \"GoodFellas (1990)\", 1990, 226], [183, \"Alien (1979)\", 1979, 291], [184, \"Army of Darkness (1993)\", 1993, 116], [185, \"Psycho (1960)\", 1960, 239], [186, \"Blues Brothers, The (1980)\", 1980, 251], [187, \"Godfather: Part II, The (1974)\", 1974, 209], [188, \"Full Metal Jacket (1987)\", 1987, 170], [189, \"Grand Day Out, A (1992)\", 1992, 66], [190, \"Henry V (1989)\", 1989, 124], [191, \"Amadeus (1984)\", 1984, 276], [192, \"Raging Bull (1980)\", 1980, 116], [193, \"Right Stuff, The (1983)\", 1983, 157], [194, \"Sting, The (1973)\", 1973, 241], [195, \"Terminator, The (1984)\", 1984, 301], [196, \"Dead Poets Society (1989)\", 1989, 251], [197, \"Graduate, The (1967)\", 1967, 239], [198, \"Nikita (La Femme Nikita) (1990)\", 1990, 127], [199, \"Bridge on the River Kwai, The (1957)\", 1957, 165], [200, \"Shining, The (1980)\", 1980, 206], [201, \"Evil Dead II (1987)\", 1987, 89], [202, \"Groundhog Day (1993)\", 1993, 280], [203, \"Unforgiven (1992)\", 1992, 182], [204, \"Back to the Future (1985)\", 1985, 350], [205, \"Patton (1970)\", 1970, 136], [206, \"Akira (1988)\", 1988, 50], [207, \"Cyrano de Bergerac (1990)\", 1990, 66], [208, \"Young Frankenstein (1974)\", 1974, 200], [209, \"This Is Spinal Tap (1984)\", 1984, 191], [210, \"Indiana Jones and the Last Crusade (1989)\", 1989, 331], [211, \"M*A*S*H (1970)\", 1970, 206], [212, \"Unbearable Lightness of Being, The (1988)\", 1988, 92], [213, \"Room with a View, A (1986)\", 1986, 134], [214, \"Pink Floyd - The Wall (1982)\", 1982, 114], [215, \"Field of Dreams (1989)\", 1989, 212], [216, \"When Harry Met Sally... (1989)\", 1989, 290], [217, \"Bram Stoker's Dracula (1992)\", 1992, 120], [218, \"Cape Fear (1991)\", 1991, 171], [219, \"Nightmare on Elm Street, A (1984)\", 1984, 111], [220, \"Mirror Has Two Faces, The (1996)\", 1996, 66], [221, \"Breaking the Waves (1996)\", 1996, 74], [222, \"Star Trek: First Contact (1996)\", 1996, 365], [223, \"Sling Blade (1996)\", 1996, 136], [224, \"Ridicule (1996)\", 1996, 44], [225, \"101 Dalmatians (1996)\", 1996, 109], [226, \"Die Hard 2 (1990)\", 1990, 166], [227, \"Star Trek VI: The Undiscovered Country (1991)\", 1991, 161], [228, \"Star Trek: The Wrath of Khan (1982)\", 1982, 244], [229, \"Star Trek III: The Search for Spock (1984)\", 1984, 171], [230, \"Star Trek IV: The Voyage Home (1986)\", 1986, 199], [231, \"Batman Returns (1992)\", 1992, 142], [232, \"Young Guns (1988)\", 1988, 101], [233, \"Under Siege (1992)\", 1992, 124], [234, \"Jaws (1975)\", 1975, 280], [235, \"Mars Attacks! (1996)\", 1996, 217], [236, \"Citizen Ruth (1996)\", 1996, 45], [237, \"Jerry Maguire (1996)\", 1996, 384], [238, \"Raising Arizona (1987)\", 1987, 256], [239, \"Sneakers (1992)\", 1992, 150], [240, \"Beavis and Butt-head Do America (1996)\", 1996, 156], [241, \"Last of the Mohicans, The (1992)\", 1992, 128], [242, \"Kolya (1996)\", 1997, 117], [243, \"Jungle2Jungle (1997)\", 1997, 132], [244, \"Smilla's Sense of Snow (1997)\", 1997, 48], [245, \"Devil's Own, The (1997)\", 1997, 240], [246, \"Chasing Amy (1997)\", 1997, 124], [247, \"Turbo: A Power Rangers Movie (1997)\", 1997, 5], [248, \"Grosse Pointe Blank (1997)\", 1997, 160], [249, \"Austin Powers: International Man of Mystery (1997)\", 1997, 130], [250, \"Fifth Element, The (1997)\", 1997, 197], [251, \"Shall We Dance? (1996)\", 1997, 46], [252, \"Lost World: Jurassic Park, The (1997)\", 1997, 158], [253, \"Pillow Book, The (1995)\", 1997, 26], [254, \"Batman & Robin (1997)\", 1997, 62], [255, \"My Best Friend's Wedding (1997)\", 1997, 172], [256, \"When the Cats Away (Chacun cherche son chat) (1996)\", 1997, 16], [257, \"Men in Black (1997)\", 1997, 303], [258, \"Contact (1997)\", 1997, 509], [259, \"George of the Jungle (1997)\", 1997, 162], [260, \"Event Horizon (1997)\", 1997, 127], [261, \"Air Bud (1997)\", 1997, 43], [262, \"In the Company of Men (1997)\", 1997, 66], [263, \"Steel (1997)\", 1997, 19], [264, \"Mimic (1997)\", 1997, 101], [265, \"Hunt for Red October, The (1990)\", 1990, 227], [266, \"Kull the Conqueror (1997)\", 1997, 35], [267, \"unknown\", 1920, 9], [268, \"Chasing Amy (1997)\", 1997, 255], [269, \"Full Monty, The (1997)\", 1997, 315], [270, \"Gattaca (1997)\", 1997, 136], [271, \"Starship Troopers (1997)\", 1997, 211], [272, \"Good Will Hunting (1997)\", 1997, 198], [273, \"Heat (1995)\", 1995, 223], [274, \"Sabrina (1995)\", 1995, 190], [275, \"Sense and Sensibility (1995)\", 1995, 268], [276, \"Leaving Las Vegas (1995)\", 1995, 298], [277, \"Restoration (1995)\", 1995, 71], [278, \"Bed of Roses (1996)\", 1996, 60], [279, \"Once Upon a Time... When We Were Colored (1995)\", 1995, 28], [280, \"Up Close and Personal (1996)\", 1996, 85], [281, \"River Wild, The (1994)\", 1994, 146], [282, \"Time to Kill, A (1996)\", 1996, 232], [283, \"Emma (1996)\", 1996, 177], [284, \"Tin Cup (1996)\", 1996, 193], [285, \"Secrets & Lies (1996)\", 1996, 162], [286, \"English Patient, The (1996)\", 1996, 481], [287, \"Marvin's Room (1996)\", 1996, 78], [288, \"Scream (1996)\", 1996, 478], [289, \"Evita (1996)\", 1996, 259], [290, \"Fierce Creatures (1997)\", 1997, 96], [291, \"Absolute Power (1997)\", 1997, 127], [292, \"Rosewood (1997)\", 1997, 114], [293, \"Donnie Brasco (1997)\", 1997, 147], [294, \"Liar Liar (1997)\", 1997, 485], [295, \"Breakdown (1997)\", 1997, 77], [296, \"Promesse, La (1996)\", 1997, 6], [297, \"Ulee's Gold (1997)\", 1997, 50], [298, \"Face/Off (1997)\", 1997, 194], [299, \"Hoodlum (1997)\", 1997, 73], [300, \"Air Force One (1997)\", 1997, 431], [301, \"In & Out (1997)\", 1997, 230], [302, \"L.A. Confidential (1997)\", 1997, 297], [303, \"Ulee's Gold (1997)\", 1997, 134], [304, \"Fly Away Home (1996)\", 1996, 149], [305, \"Ice Storm, The (1997)\", 1997, 87], [306, \"Mrs. Brown (Her Majesty, Mrs. Brown) (1997)\", 1997, 96], [307, \"Devil's Advocate, The (1997)\", 1997, 188], [308, \"FairyTale: A True Story (1997)\", 1997, 30], [309, \"Deceiver (1997)\", 1997, 28], [310, \"Rainmaker, The (1997)\", 1997, 145], [311, \"Wings of the Dove, The (1997)\", 1997, 75], [312, \"Midnight in the Garden of Good and Evil (1997)\", 1997, 80], [313, \"Titanic (1997)\", 1997, 350], [314, \"3 Ninjas: High Noon At Mega Mountain (1998)\", 1997, 5], [315, \"Apt Pupil (1998)\", 1998, 160], [316, \"As Good As It Gets (1997)\", 1997, 112], [317, \"In the Name of the Father (1993)\", 1993, 102], [318, \"Schindler's List (1993)\", 1993, 298], [319, \"Everyone Says I Love You (1996)\", 1996, 168], [320, \"Paradise Lost: The Child Murders at Robin Hood Hills (1996)\", 1996, 20], [321, \"Mother (1996)\", 1996, 169], [322, \"Murder at 1600 (1997)\", 1997, 218], [323, \"Dante's Peak (1997)\", 1997, 240], [324, \"Lost Highway (1997)\", 1997, 125], [325, \"Crash (1996)\", 1997, 128], [326, \"G.I. Jane (1997)\", 1997, 175], [327, \"Cop Land (1997)\", 1997, 175], [328, \"Conspiracy Theory (1997)\", 1997, 295], [329, \"Desperate Measures (1998)\", 1998, 45], [330, \"187 (1997)\", 1997, 41], [331, \"Edge, The (1997)\", 1997, 113], [332, \"Kiss the Girls (1997)\", 1997, 143], [333, \"Game, The (1997)\", 1997, 251], [334, \"U Turn (1997)\", 1997, 64], [335, \"How to Be a Player (1997)\", 1997, 21], [336, \"Playing God (1997)\", 1997, 43], [337, \"House of Yes, The (1997)\", 1997, 18], [338, \"Bean (1997)\", 1997, 91], [339, \"Mad City (1997)\", 1997, 47], [340, \"Boogie Nights (1997)\", 1997, 189], [341, \"Critical Care (1997)\", 1997, 11], [342, \"Man Who Knew Too Little, The (1997)\", 1997, 52], [343, \"Alien: Resurrection (1997)\", 1997, 124], [344, \"Apostle, The (1997)\", 1997, 55], [345, \"Deconstructing Harry (1997)\", 1997, 65], [346, \"Jackie Brown (1997)\", 1997, 126], [347, \"Wag the Dog (1997)\", 1998, 137], [348, \"Desperate Measures (1998)\", 1998, 27], [349, \"Hard Rain (1998)\", 1998, 31], [350, \"Fallen (1998)\", 1998, 41], [351, \"Prophecy II, The (1998)\", 1998, 20], [352, \"Spice World (1997)\", 1997, 26], [353, \"Deep Rising (1998)\", 1998, 14], [354, \"Wedding Singer, The (1998)\", 1998, 72], [355, \"Sphere (1998)\", 1998, 41], [356, \"Client, The (1994)\", 1994, 97], [357, \"One Flew Over the Cuckoo's Nest (1975)\", 1975, 264], [358, \"Spawn (1997)\", 1997, 143], [359, \"Assignment, The (1997)\", 1997, 18], [360, \"Wonderland (1997)\", 1997, 10], [361, \"Incognito (1997)\", 1997, 10], [362, \"Blues Brothers 2000 (1998)\", 1998, 28], [363, \"Sudden Death (1995)\", 1995, 47], [364, \"Ace Ventura: When Nature Calls (1995)\", 1995, 37], [365, \"Powder (1995)\", 1995, 48], [366, \"Dangerous Minds (1995)\", 1995, 47], [367, \"Clueless (1995)\", 1995, 170], [368, \"Bio-Dome (1996)\", 1996, 31], [369, \"Black Sheep (1996)\", 1996, 55], [370, \"Mary Reilly (1996)\", 1996, 39], [371, \"Bridges of Madison County, The (1995)\", 1996, 67], [372, \"Jeffrey (1995)\", 1995, 34], [373, \"Judge Dredd (1995)\", 1995, 39], [374, \"Mighty Morphin Power Rangers: The Movie (1995)\", 1995, 11], [375, \"Showgirls (1995)\", 1995, 23], [376, \"Houseguest (1994)\", 1994, 24], [377, \"Heavyweights (1994)\", 1994, 13], [378, \"Miracle on 34th Street (1994)\", 1994, 101], [379, \"Tales From the Crypt Presents: Demon Knight (1995)\", 1995, 43], [380, \"Star Trek: Generations (1994)\", 1994, 116], [381, \"Muriel's Wedding (1994)\", 1994, 100], [382, \"Adventures of Priscilla, Queen of the Desert, The (1994)\", 1994, 111], [383, \"Flintstones, The (1994)\", 1994, 31], [384, \"Naked Gun 33 1/3: The Final Insult (1994)\", 1994, 69], [385, \"True Lies (1994)\", 1994, 208], [386, \"Addams Family Values (1993)\", 1993, 87], [387, \"Age of Innocence, The (1993)\", 1993, 65], [388, \"Beverly Hills Cop III (1994)\", 1994, 28], [389, \"Black Beauty (1994)\", 1994, 27], [390, \"Fear of a Black Hat (1993)\", 1993, 10], [391, \"Last Action Hero (1993)\", 1993, 59], [392, \"Man Without a Face, The (1993)\", 1993, 68], [393, \"Mrs. Doubtfire (1993)\", 1993, 192], [394, \"Radioland Murders (1994)\", 1994, 12], [395, \"Robin Hood: Men in Tights (1993)\", 1993, 56], [396, \"Serial Mom (1994)\", 1994, 54], [397, \"Striking Distance (1993)\", 1993, 12], [398, \"Super Mario Bros. (1993)\", 1993, 26], [399, \"Three Musketeers, The (1993)\", 1993, 89], [400, \"Little Rascals, The (1994)\", 1994, 18], [401, \"Brady Bunch Movie, The (1995)\", 1995, 76], [402, \"Ghost (1990)\", 1990, 170], [403, \"Batman (1989)\", 1989, 201], [404, \"Pinocchio (1940)\", 1940, 101], [405, \"Mission: Impossible (1996)\", 1996, 344], [406, \"Thinner (1996)\", 1996, 49], [407, \"Spy Hard (1996)\", 1996, 43], [408, \"Close Shave, A (1995)\", 1996, 112], [409, \"Jack (1996)\", 1996, 70], [410, \"Kingpin (1996)\", 1996, 162], [411, \"Nutty Professor, The (1996)\", 1996, 163], [412, \"Very Brady Sequel, A (1996)\", 1996, 93], [413, \"Tales from the Crypt Presents: Bordello of Blood (1996)\", 1996, 55], [414, \"My Favorite Year (1982)\", 1982, 62], [415, \"Apple Dumpling Gang, The (1975)\", 1975, 25], [416, \"Old Yeller (1957)\", 1957, 64], [417, \"Parent Trap, The (1961)\", 1961, 73], [418, \"Cinderella (1950)\", 1950, 129], [419, \"Mary Poppins (1964)\", 1964, 178], [420, \"Alice in Wonderland (1951)\", 1951, 81], [421, \"William Shakespeare's Romeo and Juliet (1996)\", 1996, 106], [422, \"Aladdin and the King of Thieves (1996)\", 1996, 26], [423, \"E.T. the Extra-Terrestrial (1982)\", 1982, 300], [424, \"Children of the Corn: The Gathering (1996)\", 1996, 19], [425, \"Bob Roberts (1992)\", 1992, 85], [426, \"Transformers: The Movie, The (1986)\", 1986, 32], [427, \"To Kill a Mockingbird (1962)\", 1962, 219], [428, \"Harold and Maude (1971)\", 1971, 121], [429, \"Day the Earth Stood Still, The (1951)\", 1951, 97], [430, \"Duck Soup (1933)\", 1933, 93], [431, \"Highlander (1986)\", 1986, 153], [432, \"Fantasia (1940)\", 1940, 174], [433, \"Heathers (1989)\", 1989, 171], [434, \"Forbidden Planet (1956)\", 1956, 67], [435, \"Butch Cassidy and the Sundance Kid (1969)\", 1969, 216], [436, \"American Werewolf in London, An (1981)\", 1981, 99], [437, \"Amityville 1992: It's About Time (1992)\", 1992, 5], [438, \"Amityville 3-D (1983)\", 1983, 6], [439, \"Amityville: A New Generation (1993)\", 1993, 5], [440, \"Amityville II: The Possession (1982)\", 1982, 14], [441, \"Amityville Horror, The (1979)\", 1979, 53], [442, \"Amityville Curse, The (1990)\", 1990, 4], [443, \"Birds, The (1963)\", 1963, 162], [444, \"Blob, The (1958)\", 1958, 46], [445, \"Body Snatcher, The (1945)\", 1945, 22], [446, \"Burnt Offerings (1976)\", 1976, 9], [447, \"Carrie (1976)\", 1976, 121], [448, \"Omen, The (1976)\", 1976, 85], [449, \"Star Trek: The Motion Picture (1979)\", 1979, 117], [450, \"Star Trek V: The Final Frontier (1989)\", 1989, 63], [451, \"Grease (1978)\", 1978, 170], [452, \"Jaws 2 (1978)\", 1978, 66], [453, \"Jaws 3-D (1983)\", 1983, 16], [454, \"Bastard Out of Carolina (1996)\", 1996, 16], [455, \"Jackie Chan's First Strike (1996)\", 1997, 145], [456, \"Beverly Hills Ninja (1997)\", 1997, 48], [457, \"Free Willy 3: The Rescue (1997)\", 1997, 27], [458, \"Nixon (1995)\", 1995, 90], [459, \"Cry, the Beloved Country (1995)\", 1995, 24], [460, \"Crossing Guard, The (1995)\", 1995, 28], [461, \"Smoke (1995)\", 1995, 74], [462, \"Like Water For Chocolate (Como agua para chocolate) (1992)\", 1992, 148], [463, \"Secret of Roan Inish, The (1994)\", 1994, 71], [464, \"Vanya on 42nd Street (1994)\", 1994, 27], [465, \"Jungle Book, The (1994)\", 1994, 85], [466, \"Red Rock West (1992)\", 1992, 52], [467, \"Bronx Tale, A (1993)\", 1993, 48], [468, \"Rudy (1993)\", 1993, 64], [469, \"Short Cuts (1993)\", 1993, 67], [470, \"Tombstone (1993)\", 1993, 108], [471, \"Courage Under Fire (1996)\", 1996, 221], [472, \"Dragonheart (1996)\", 1996, 158], [473, \"James and the Giant Peach (1996)\", 1996, 126], [474, \"Dr. Strangelove or: How I Learned to Stop Worrying and Love the Bomb (1963)\", 1963, 194], [475, \"Trainspotting (1996)\", 1996, 250], [476, \"First Wives Club, The (1996)\", 1996, 160], [477, \"Matilda (1996)\", 1996, 95], [478, \"Philadelphia Story, The (1940)\", 1940, 104], [479, \"Vertigo (1958)\", 1958, 179], [480, \"North by Northwest (1959)\", 1959, 179], [481, \"Apartment, The (1960)\", 1960, 63], [482, \"Some Like It Hot (1959)\", 1959, 128], [483, \"Casablanca (1942)\", 1942, 243], [484, \"Maltese Falcon, The (1941)\", 1941, 138], [485, \"My Fair Lady (1964)\", 1964, 125], [486, \"Sabrina (1954)\", 1954, 64], [487, \"Roman Holiday (1953)\", 1953, 68], [488, \"Sunset Blvd. (1950)\", 1950, 65], [489, \"Notorious (1946)\", 1946, 52], [490, \"To Catch a Thief (1955)\", 1955, 50], [491, \"Adventures of Robin Hood, The (1938)\", 1938, 67], [492, \"East of Eden (1955)\", 1955, 59], [493, \"Thin Man, The (1934)\", 1934, 60], [494, \"His Girl Friday (1940)\", 1940, 56], [495, \"Around the World in 80 Days (1956)\", 1956, 59], [496, \"It's a Wonderful Life (1946)\", 1946, 231], [497, \"Bringing Up Baby (1938)\", 1938, 68], [498, \"African Queen, The (1951)\", 1951, 152], [499, \"Cat on a Hot Tin Roof (1958)\", 1958, 62], [500, \"Fly Away Home (1996)\", 1996, 31], [501, \"Dumbo (1941)\", 1941, 123], [502, \"Bananas (1971)\", 1971, 57], [503, \"Candidate, The (1972)\", 1972, 39], [504, \"Bonnie and Clyde (1967)\", 1967, 122], [505, \"Dial M for Murder (1954)\", 1954, 68], [506, \"Rebel Without a Cause (1955)\", 1955, 90], [507, \"Streetcar Named Desire, A (1951)\", 1951, 98], [508, \"People vs. Larry Flynt, The (1996)\", 1996, 215], [509, \"My Left Foot (1989)\", 1989, 121], [510, \"Magnificent Seven, The (1954)\", 1954, 121], [511, \"Lawrence of Arabia (1962)\", 1962, 173], [512, \"Wings of Desire (1987)\", 1987, 57], [513, \"Third Man, The (1949)\", 1949, 72], [514, \"Annie Hall (1977)\", 1977, 180], [515, \"Boot, Das (1981)\", 1997, 201], [516, \"Local Hero (1983)\", 1983, 63], [517, \"Manhattan (1979)\", 1979, 91], [518, \"Miller's Crossing (1990)\", 1990, 89], [519, \"Treasure of the Sierra Madre, The (1948)\", 1948, 80], [520, \"Great Escape, The (1963)\", 1963, 124], [521, \"Deer Hunter, The (1978)\", 1978, 120], [522, \"Down by Law (1986)\", 1986, 35], [523, \"Cool Hand Luke (1967)\", 1967, 164], [524, \"Great Dictator, The (1940)\", 1940, 46], [525, \"Big Sleep, The (1946)\", 1946, 73], [526, \"Ben-Hur (1959)\", 1959, 124], [527, \"Gandhi (1982)\", 1982, 195], [528, \"Killing Fields, The (1984)\", 1984, 121], [529, \"My Life as a Dog (Mitt liv som hund) (1985)\", 1985, 93], [530, \"Man Who Would Be King, The (1975)\", 1975, 80], [531, \"Shine (1996)\", 1996, 129], [532, \"Kama Sutra: A Tale of Love (1996)\", 1997, 22], [533, \"Daytrippers, The (1996)\", 1997, 15], [534, \"Traveller (1997)\", 1997, 13], [535, \"Addicted to Love (1997)\", 1997, 54], [536, \"Ponette (1996)\", 1997, 10], [537, \"My Own Private Idaho (1991)\", 1991, 30], [538, \"Anastasia (1997)\", 1997, 66], [539, \"Mouse Hunt (1997)\", 1997, 44], [540, \"Money Train (1995)\", 1995, 43], [541, \"Mortal Kombat (1995)\", 1995, 49], [542, \"Pocahontas (1995)\", 1995, 51], [543, \"Mis\\u00e9rables, Les (1995)\", 1995, 21], [544, \"Things to Do in Denver when You're Dead (1995)\", 1996, 71], [545, \"Vampire in Brooklyn (1995)\", 1995, 12], [546, \"Broken Arrow (1996)\", 1996, 254], [547, \"Young Poisoner's Handbook, The (1995)\", 1996, 41], [548, \"NeverEnding Story III, The (1994)\", 1996, 12], [549, \"Rob Roy (1995)\", 1995, 92], [550, \"Die Hard: With a Vengeance (1995)\", 1995, 151], [551, \"Lord of Illusions (1995)\", 1995, 24], [552, \"Species (1995)\", 1995, 45], [553, \"Walk in the Clouds, A (1995)\", 1995, 63], [554, \"Waterworld (1995)\", 1995, 102], [555, \"White Man's Burden (1995)\", 1995, 10], [556, \"Wild Bill (1995)\", 1995, 12], [557, \"Farinelli: il castrato (1994)\", 1994, 17], [558, \"Heavenly Creatures (1994)\", 1994, 70], [559, \"Interview with the Vampire (1994)\", 1994, 137], [560, \"Kid in King Arthur's Court, A (1995)\", 1995, 22], [561, \"Mary Shelley's Frankenstein (1994)\", 1994, 59], [562, \"Quick and the Dead, The (1995)\", 1995, 48], [563, \"Stephen King's The Langoliers (1995)\", 1995, 29], [564, \"Tales from the Hood (1995)\", 1995, 27], [565, \"Village of the Damned (1995)\", 1995, 22], [566, \"Clear and Present Danger (1994)\", 1994, 179], [567, \"Wes Craven's New Nightmare (1994)\", 1994, 35], [568, \"Speed (1994)\", 1994, 230], [569, \"Wolf (1994)\", 1994, 67], [570, \"Wyatt Earp (1994)\", 1994, 50], [571, \"Another Stakeout (1993)\", 1993, 28], [572, \"Blown Away (1994)\", 1994, 29], [573, \"Body Snatchers (1993)\", 1993, 33], [574, \"Boxing Helena (1993)\", 1993, 15], [575, \"City Slickers II: The Legend of Curly's Gold (1994)\", 1994, 44], [576, \"Cliffhanger (1993)\", 1993, 93], [577, \"Coneheads (1993)\", 1993, 41], [578, \"Demolition Man (1993)\", 1993, 92], [579, \"Fatal Instinct (1993)\", 1993, 19], [580, \"Englishman Who Went Up a Hill, But Came Down a Mountain, The (1995)\", 1995, 32], [581, \"Kalifornia (1993)\", 1993, 59], [582, \"Piano, The (1993)\", 1993, 168], [583, \"Romeo Is Bleeding (1993)\", 1993, 37], [584, \"Secret Garden, The (1993)\", 1993, 79], [585, \"Son in Law (1993)\", 1993, 39], [586, \"Terminal Velocity (1994)\", 1994, 34], [587, \"Hour of the Pig, The (1993)\", 1993, 14], [588, \"Beauty and the Beast (1991)\", 1991, 202], [589, \"Wild Bunch, The (1969)\", 1969, 43], [590, \"Hellraiser: Bloodline (1996)\", 1996, 18], [591, \"Primal Fear (1996)\", 1996, 178], [592, \"True Crime (1995)\", 1995, 9], [593, \"Stalingrad (1993)\", 1993, 12], [594, \"Heavy (1995)\", 1996, 5], [595, \"Fan, The (1996)\", 1996, 64], [596, \"Hunchback of Notre Dame, The (1996)\", 1996, 127], [597, \"Eraser (1996)\", 1996, 206], [598, \"Big Squeeze, The (1996)\", 1996, 4], [599, \"Police Story 4: Project S (Chao ji ji hua) (1993)\", 1996, 1], [600, \"Daniel Defoe's Robinson Crusoe (1996)\", 1996, 2], [601, \"For Whom the Bell Tolls (1943)\", 1943, 20], [602, \"American in Paris, An (1951)\", 1951, 50], [603, \"Rear Window (1954)\", 1954, 209], [604, \"It Happened One Night (1934)\", 1934, 81], [605, \"Meet Me in St. Louis (1944)\", 1944, 31], [606, \"All About Eve (1950)\", 1950, 66], [607, \"Rebecca (1940)\", 1940, 66], [608, \"Spellbound (1945)\", 1945, 30], [609, \"Father of the Bride (1950)\", 1950, 60], [610, \"Gigi (1958)\", 1958, 41], [611, \"Laura (1944)\", 1944, 40], [612, \"Lost Horizon (1937)\", 1937, 34], [613, \"My Man Godfrey (1936)\", 1936, 27], [614, \"Giant (1956)\", 1956, 51], [615, \"39 Steps, The (1935)\", 1935, 59], [616, \"Night of the Living Dead (1968)\", 1968, 64], [617, \"Blue Angel, The (Blaue Engel, Der) (1930)\", 1930, 18], [618, \"Picnic (1955)\", 1955, 18], [619, \"Extreme Measures (1996)\", 1996, 64], [620, \"Chamber, The (1996)\", 1996, 43], [621, \"Davy Crockett, King of the Wild Frontier (1955)\", 1955, 11], [622, \"Swiss Family Robinson (1960)\", 1960, 39], [623, \"Angels in the Outfield (1994)\", 1994, 39], [624, \"Three Caballeros, The (1945)\", 1945, 22], [625, \"Sword in the Stone, The (1963)\", 1963, 82], [626, \"So Dear to My Heart (1949)\", 1949, 4], [627, \"Robin Hood: Prince of Thieves (1991)\", 1991, 75], [628, \"Sleepers (1996)\", 1996, 169], [629, \"Victor/Victoria (1982)\", 1982, 77], [630, \"Great Race, The (1965)\", 1965, 31], [631, \"Crying Game, The (1992)\", 1992, 119], [632, \"Sophie's Choice (1982)\", 1982, 58], [633, \"Christmas Carol, A (1938)\", 1938, 69], [634, \"Microcosmos: Le peuple de l'herbe (1996)\", 1996, 24], [635, \"Fog, The (1980)\", 1980, 23], [636, \"Escape from New York (1981)\", 1981, 91], [637, \"Howling, The (1981)\", 1981, 38], [638, \"Return of Martin Guerre, The (Retour de Martin Guerre, Le) (1982)\", 1982, 44], [639, \"Tin Drum, The (Blechtrommel, Die) (1979)\", 1979, 40], [640, \"Cook the Thief His Wife & Her Lover, The (1989)\", 1989, 82], [641, \"Paths of Glory (1957)\", 1957, 33], [642, \"Grifters, The (1990)\", 1990, 89], [643, \"The Innocent (1994)\", 1994, 4], [644, \"Thin Blue Line, The (1988)\", 1988, 35], [645, \"Paris Is Burning (1990)\", 1990, 27], [646, \"Once Upon a Time in the West (1969)\", 1969, 38], [647, \"Ran (1985)\", 1985, 70], [648, \"Quiet Man, The (1952)\", 1952, 67], [649, \"Once Upon a Time in America (1984)\", 1984, 50], [650, \"Seventh Seal, The (Sjunde inseglet, Det) (1957)\", 1957, 72], [651, \"Glory (1989)\", 1989, 171], [652, \"Rosencrantz and Guildenstern Are Dead (1990)\", 1990, 90], [653, \"Touch of Evil (1958)\", 1958, 34], [654, \"Chinatown (1974)\", 1974, 147], [655, \"Stand by Me (1986)\", 1986, 227], [656, \"M (1931)\", 1931, 44], [657, \"Manchurian Candidate, The (1962)\", 1962, 131], [658, \"Pump Up the Volume (1990)\", 1990, 79], [659, \"Arsenic and Old Lace (1944)\", 1944, 115], [660, \"Fried Green Tomatoes (1991)\", 1991, 153], [661, \"High Noon (1952)\", 1952, 88], [662, \"Somewhere in Time (1980)\", 1980, 82], [663, \"Being There (1979)\", 1979, 116], [664, \"Paris, Texas (1984)\", 1984, 46], [665, \"Alien 3 (1992)\", 1992, 100], [666, \"Blood For Dracula (Andy Warhol's Dracula) (1974)\", 1974, 5], [667, \"Audrey Rose (1977)\", 1977, 12], [668, \"Blood Beach (1981)\", 1981, 6], [669, \"Body Parts (1991)\", 1991, 13], [670, \"Body Snatchers (1993)\", 1993, 36], [671, \"Bride of Frankenstein (1935)\", 1935, 46], [672, \"Candyman (1992)\", 1992, 65], [673, \"Cape Fear (1962)\", 1962, 86], [674, \"Cat People (1982)\", 1982, 48], [675, \"Nosferatu (Nosferatu, eine Symphonie des Grauens) (1922)\", 1922, 54], [676, \"Crucible, The (1996)\", 1996, 77], [677, \"Fire on the Mountain (1996)\", 1997, 1], [678, \"Volcano (1997)\", 1997, 219], [679, \"Conan the Barbarian (1981)\", 1981, 107], [680, \"Kull the Conqueror (1997)\", 1997, 34], [681, \"Wishmaster (1997)\", 1997, 27], [682, \"I Know What You Did Last Summer (1997)\", 1997, 100], [683, \"Rocket Man (1997)\", 1997, 49], [684, \"In the Line of Fire (1993)\", 1993, 169], [685, \"Executive Decision (1996)\", 1996, 157], [686, \"Perfect World, A (1993)\", 1993, 50], [687, \"McHale's Navy (1997)\", 1997, 69], [688, \"Leave It to Beaver (1997)\", 1997, 44], [689, \"Jackal, The (1997)\", 1997, 87], [690, \"Seven Years in Tibet (1997)\", 1997, 155], [691, \"Dark City (1998)\", 1998, 16], [692, \"American President, The (1995)\", 1995, 164], [693, \"Casino (1995)\", 1995, 91], [694, \"Persuasion (1995)\", 1995, 44], [695, \"Kicking and Screaming (1995)\", 1995, 13], [696, \"City Hall (1996)\", 1996, 79], [697, \"Basketball Diaries, The (1995)\", 1995, 40], [698, \"Browning Version, The (1994)\", 1994, 10], [699, \"Little Women (1994)\", 1994, 102], [700, \"Miami Rhapsody (1995)\", 1995, 15], [701, \"Wonderful, Horrible Life of Leni Riefenstahl, The (1993)\", 1993, 10], [702, \"Barcelona (1994)\", 1994, 53], [703, \"Widows' Peak (1994)\", 1994, 19], [704, \"House of the Spirits, The (1993)\", 1993, 24], [705, \"Singin' in the Rain (1952)\", 1952, 137], [706, \"Bad Moon (1996)\", 1996, 6], [707, \"Enchanted April (1991)\", 1991, 70], [708, \"Sex, Lies, and Videotape (1989)\", 1989, 101], [709, \"Strictly Ballroom (1992)\", 1992, 104], [710, \"Better Off Dead... (1985)\", 1985, 79], [711, \"Substance of Fire, The (1996)\", 1996, 1], [712, \"Tin Men (1987)\", 1987, 51], [713, \"Othello (1995)\", 1995, 72], [714, \"Carrington (1995)\", 1995, 13], [715, \"To Die For (1995)\", 1995, 87], [716, \"Home for the Holidays (1995)\", 1995, 58], [717, \"Juror, The (1996)\", 1996, 82], [718, \"In the Bleak Midwinter (1995)\", 1996, 16], [719, \"Canadian Bacon (1994)\", 1994, 29], [720, \"First Knight (1995)\", 1995, 86], [721, \"Mallrats (1995)\", 1995, 54], [722, \"Nine Months (1995)\", 1995, 58], [723, \"Boys on the Side (1995)\", 1995, 34], [724, \"Circle of Friends (1995)\", 1995, 76], [725, \"Exit to Eden (1994)\", 1994, 16], [726, \"Fluke (1995)\", 1995, 14], [727, \"Immortal Beloved (1994)\", 1994, 63], [728, \"Junior (1994)\", 1994, 45], [729, \"Nell (1994)\", 1994, 81], [730, \"Queen Margot (Reine Margot, La) (1994)\", 1996, 24], [731, \"Corrina, Corrina (1994)\", 1994, 39], [732, \"Dave (1993)\", 1993, 180], [733, \"Go Fish (1994)\", 1994, 15], [734, \"Made in America (1993)\", 1993, 27], [735, \"Philadelphia (1993)\", 1993, 137], [736, \"Shadowlands (1993)\", 1993, 78], [737, \"Sirens (1994)\", 1994, 59], [738, \"Threesome (1994)\", 1994, 31], [739, \"Pretty Woman (1990)\", 1990, 164], [740, \"Jane Eyre (1996)\", 1996, 63], [741, \"Last Supper, The (1995)\", 1996, 58], [742, \"Ransom (1996)\", 1996, 267], [743, \"Crow: City of Angels, The (1996)\", 1996, 39], [744, \"Michael Collins (1996)\", 1996, 92], [745, \"Ruling Class, The (1972)\", 1972, 16], [746, \"Real Genius (1985)\", 1985, 119], [747, \"Benny & Joon (1993)\", 1993, 102], [748, \"Saint, The (1997)\", 1997, 316], [749, \"MatchMaker, The (1997)\", 1997, 51], [750, \"Amistad (1997)\", 1997, 124], [751, \"Tomorrow Never Dies (1997)\", 1997, 180], [752, \"Replacement Killers, The (1998)\", 1998, 39], [753, \"Burnt By the Sun (1994)\", 1994, 24], [754, \"Red Corner (1997)\", 1997, 57], [755, \"Jumanji (1995)\", 1995, 96], [756, \"Father of the Bride Part II (1995)\", 1995, 128], [757, \"Across the Sea of Time (1995)\", 1995, 4], [758, \"Lawnmower Man 2: Beyond Cyberspace (1996)\", 1996, 21], [759, \"Fair Game (1995)\", 1995, 11], [760, \"Screamers (1995)\", 1995, 46], [761, \"Nick of Time (1995)\", 1995, 44], [762, \"Beautiful Girls (1996)\", 1996, 115], [763, \"Happy Gilmore (1996)\", 1996, 149], [764, \"If Lucy Fell (1996)\", 1996, 29], [765, \"Boomerang (1992)\", 1992, 32], [766, \"Man of the Year (1995)\", 1996, 9], [767, \"Addiction, The (1995)\", 1995, 11], [768, \"Casper (1995)\", 1995, 52], [769, \"Congo (1995)\", 1995, 42], [770, \"Devil in a Blue Dress (1995)\", 1995, 57], [771, \"Johnny Mnemonic (1995)\", 1995, 41], [772, \"Kids (1995)\", 1995, 49], [773, \"Mute Witness (1994)\", 1994, 17], [774, \"Prophecy, The (1995)\", 1995, 32], [775, \"Something to Talk About (1995)\", 1995, 26], [776, \"Three Wishes (1995)\", 1995, 9], [777, \"Castle Freak (1995)\", 1995, 4], [778, \"Don Juan DeMarco (1995)\", 1995, 76], [779, \"Drop Zone (1994)\", 1994, 31], [780, \"Dumb & Dumber (1994)\", 1994, 69], [781, \"French Kiss (1995)\", 1995, 84], [782, \"Little Odessa (1994)\", 1994, 10], [783, \"Milk Money (1994)\", 1994, 37], [784, \"Beyond Bedlam (1993)\", 1993, 2], [785, \"Only You (1994)\", 1994, 39], [786, \"Perez Family, The (1995)\", 1995, 14], [787, \"Roommates (1995)\", 1995, 13], [788, \"Relative Fear (1994)\", 1994, 3], [789, \"Swimming with Sharks (1995)\", 1995, 47], [790, \"Tommy Boy (1995)\", 1995, 66], [791, \"Baby-Sitters Club, The (1995)\", 1995, 10], [792, \"Bullets Over Broadway (1994)\", 1994, 86], [793, \"Crooklyn (1994)\", 1994, 10], [794, \"It Could Happen to You (1994)\", 1994, 46], [795, \"Richie Rich (1994)\", 1994, 21], [796, \"Speechless (1994)\", 1994, 36], [797, \"Timecop (1994)\", 1994, 31], [798, \"Bad Company (1995)\", 1995, 9], [799, \"Boys Life (1995)\", 1995, 5], [800, \"In the Mouth of Madness (1995)\", 1995, 26], [801, \"Air Up There, The (1994)\", 1994, 16], [802, \"Hard Target (1993)\", 1993, 40], [803, \"Heaven & Earth (1993)\", 1993, 9], [804, \"Jimmy Hollywood (1994)\", 1994, 8], [805, \"Manhattan Murder Mystery (1993)\", 1993, 27], [806, \"Menace II Society (1993)\", 1993, 50], [807, \"Poetic Justice (1993)\", 1993, 9], [808, \"Program, The (1993)\", 1993, 31], [809, \"Rising Sun (1993)\", 1993, 43], [810, \"Shadow, The (1994)\", 1994, 45], [811, \"Thirty-Two Short Films About Glenn Gould (1993)\", 1993, 18], [812, \"Andre (1994)\", 1994, 18], [813, \"Celluloid Closet, The (1995)\", 1996, 56], [814, \"Great Day in Harlem, A (1994)\", 1994, 1], [815, \"One Fine Day (1996)\", 1996, 112], [816, \"Candyman: Farewell to the Flesh (1995)\", 1995, 21], [817, \"Frisk (1995)\", 1996, 3], [818, \"Girl 6 (1996)\", 1996, 25], [819, \"Eddie (1996)\", 1996, 40], [820, \"Space Jam (1996)\", 1996, 93], [821, \"Mrs. Winterbourne (1996)\", 1996, 22], [822, \"Faces (1968)\", 1968, 4], [823, \"Mulholland Falls (1996)\", 1996, 82], [824, \"Great White Hype, The (1996)\", 1996, 49], [825, \"Arrival, The (1996)\", 1996, 83], [826, \"Phantom, The (1996)\", 1996, 80], [827, \"Daylight (1996)\", 1996, 57], [828, \"Alaska (1996)\", 1996, 13], [829, \"Fled (1996)\", 1996, 34], [830, \"Power 98 (1995)\", 1996, 1], [831, \"Escape from L.A. (1996)\", 1996, 91], [832, \"Bogus (1996)\", 1996, 22], [833, \"Bulletproof (1996)\", 1996, 49], [834, \"Halloween: The Curse of Michael Myers (1995)\", 1995, 25], [835, \"Gay Divorcee, The (1934)\", 1934, 15], [836, \"Ninotchka (1939)\", 1939, 26], [837, \"Meet John Doe (1941)\", 1941, 25], [838, \"In the Line of Duty 2 (1987)\", 1996, 4], [839, \"Loch Ness (1995)\", 1995, 4], [840, \"Last Man Standing (1996)\", 1996, 53], [841, \"Glimmer Man, The (1996)\", 1996, 48], [842, \"Pollyanna (1960)\", 1960, 27], [843, \"Shaggy Dog, The (1959)\", 1959, 30], [844, \"Freeway (1996)\", 1996, 42], [845, \"That Thing You Do! (1996)\", 1996, 176], [846, \"To Gillian on Her 37th Birthday (1996)\", 1996, 44], [847, \"Looking for Richard (1996)\", 1996, 55], [848, \"Murder, My Sweet (1944)\", 1944, 9], [849, \"Days of Thunder (1990)\", 1990, 53], [850, \"Perfect Candidate, A (1996)\", 1996, 4], [851, \"Two or Three Things I Know About Her (1966)\", 1966, 4], [852, \"Bloody Child, The (1996)\", 1996, 1], [853, \"Braindead (1992)\", 1992, 14], [854, \"Bad Taste (1987)\", 1987, 16], [855, \"Diva (1981)\", 1981, 66], [856, \"Night on Earth (1991)\", 1991, 36], [857, \"Paris Was a Woman (1995)\", 1996, 1], [858, \"Amityville: Dollhouse (1996)\", 1996, 3], [859, \"April Fool's Day (1986)\", 1986, 15], [860, \"Believers, The (1987)\", 1987, 16], [861, \"Nosferatu a Venezia (1986)\", 1986, 3], [862, \"Jingle All the Way (1996)\", 1996, 18], [863, \"Garden of Finzi-Contini, The (Giardino dei Finzi-Contini, Il) (1970)\", 1996, 24], [864, \"My Fellow Americans (1996)\", 1996, 86], [865, \"Ice Storm, The (1997)\", 1997, 21], [866, \"Michael (1996)\", 1996, 119], [867, \"Whole Wide World, The (1996)\", 1996, 6], [868, \"Hearts and Minds (1996)\", 1997, 5], [869, \"Fools Rush In (1997)\", 1997, 24], [870, \"Touch (1997)\", 1997, 9], [871, \"Vegas Vacation (1997)\", 1997, 75], [872, \"Love Jones (1997)\", 1997, 42], [873, \"Picture Perfect (1997)\", 1997, 81], [874, \"Career Girls (1997)\", 1997, 39], [875, \"She's So Lovely (1997)\", 1997, 53], [876, \"Money Talks (1997)\", 1997, 47], [877, \"Excess Baggage (1997)\", 1997, 52], [878, \"That Darn Cat! (1997)\", 1997, 33], [879, \"Peacemaker, The (1997)\", 1997, 136], [880, \"Soul Food (1997)\", 1997, 59], [881, \"Money Talks (1997)\", 1997, 45], [882, \"Washington Square (1997)\", 1997, 34], [883, \"Telling Lies in America (1997)\", 1997, 13], [884, \"Year of the Horse (1997)\", 1997, 7], [885, \"Phantoms (1998)\", 1998, 13], [886, \"Life Less Ordinary, A (1997)\", 1997, 53], [887, \"Eve's Bayou (1997)\", 1997, 64], [888, \"One Night Stand (1997)\", 1997, 15], [889, \"Tango Lesson, The (1997)\", 1997, 13], [890, \"Mortal Kombat: Annihilation (1997)\", 1997, 43], [891, \"Bent (1997)\", 1997, 6], [892, \"Flubber (1997)\", 1997, 53], [893, \"For Richer or Poorer (1997)\", 1997, 14], [894, \"Home Alone 3 (1997)\", 1997, 19], [895, \"Scream 2 (1997)\", 1997, 106], [896, \"Sweet Hereafter, The (1997)\", 1997, 44], [897, \"Time Tracers (1995)\", 1995, 2], [898, \"Postman, The (1997)\", 1997, 58], [899, \"Winter Guest, The (1997)\", 1997, 9], [900, \"Kundun (1997)\", 1997, 42], [901, \"Mr. Magoo (1997)\", 1997, 12], [902, \"Big Lebowski, The (1998)\", 1997, 42], [903, \"Afterglow (1997)\", 1997, 18], [904, \"Ma vie en rose (My Life in Pink) (1997)\", 1997, 20], [905, \"Great Expectations (1998)\", 1998, 27], [906, \"Oscar & Lucinda (1997)\", 1997, 21], [907, \"Vermin (1998)\", 1997, 2], [908, \"Half Baked (1998)\", 1998, 20], [909, \"Dangerous Beauty (1998)\", 1998, 13], [910, \"Nil By Mouth (1997)\", 1998, 4], [911, \"Twilight (1998)\", 1998, 4], [912, \"U.S. Marshalls (1998)\", 1998, 9], [913, \"Love and Death on Long Island (1997)\", 1998, 2], [914, \"Wild Things (1998)\", 1998, 11], [915, \"Primary Colors (1998)\", 1998, 13], [916, \"Lost in Space (1998)\", 1998, 18], [917, \"Mercury Rising (1998)\", 1998, 7], [918, \"City of Angels (1998)\", 1998, 8], [919, \"City of Lost Children, The (1995)\", 1995, 96], [920, \"Two Bits (1995)\", 1995, 5], [921, \"Farewell My Concubine (1993)\", 1993, 46], [922, \"Dead Man (1995)\", 1996, 34], [923, \"Raise the Red Lantern (1991)\", 1991, 58], [924, \"White Squall (1996)\", 1996, 85], [925, \"Unforgettable (1996)\", 1996, 34], [926, \"Down Periscope (1996)\", 1996, 101], [927, \"Flower of My Secret, The (Flor de mi secreto, La) (1995)\", 1996, 6], [928, \"Craft, The (1996)\", 1996, 104], [929, \"Harriet the Spy (1996)\", 1996, 40], [930, \"Chain Reaction (1996)\", 1996, 80], [931, \"Island of Dr. Moreau, The (1996)\", 1996, 57], [932, \"First Kid (1996)\", 1996, 40], [933, \"Funeral, The (1996)\", 1996, 21], [934, \"Preacher's Wife, The (1996)\", 1996, 68], [935, \"Paradise Road (1997)\", 1997, 7], [936, \"Brassed Off (1996)\", 1997, 32], [937, \"Thousand Acres, A (1997)\", 1997, 37], [938, \"Smile Like Yours, A (1997)\", 1997, 25], [939, \"Murder in the First (1995)\", 1995, 60], [940, \"Airheads (1994)\", 1994, 32], [941, \"With Honors (1994)\", 1994, 46], [942, \"What's Love Got to Do with It (1993)\", 1993, 45], [943, \"Killing Zoe (1994)\", 1994, 40], [944, \"Renaissance Man (1994)\", 1994, 43], [945, \"Charade (1963)\", 1963, 40], [946, \"Fox and the Hound, The (1981)\", 1981, 61], [947, \"Big Blue, The (Grand bleu, Le) (1988)\", 1988, 17], [948, \"Booty Call (1997)\", 1997, 48], [949, \"How to Make an American Quilt (1995)\", 1995, 71], [950, \"Georgia (1995)\", 1995, 30], [951, \"Indian in the Cupboard, The (1995)\", 1995, 39], [952, \"Blue in the Face (1995)\", 1995, 45], [953, \"Unstrung Heroes (1995)\", 1995, 22], [954, \"Unzipped (1995)\", 1995, 11], [955, \"Before Sunrise (1995)\", 1995, 49], [956, \"Nobody's Fool (1994)\", 1994, 46], [957, \"Pushing Hands (1992)\", 1992, 2], [958, \"To Live (Huozhe) (1994)\", 1994, 14], [959, \"Dazed and Confused (1993)\", 1993, 64], [960, \"Naked (1993)\", 1993, 25], [961, \"Orlando (1993)\", 1993, 34], [962, \"Ruby in Paradise (1993)\", 1993, 23], [963, \"Some Folks Call It a Sling Blade (1993)\", 1993, 41], [964, \"Month by the Lake, A (1995)\", 1995, 9], [965, \"Funny Face (1957)\", 1957, 21], [966, \"Affair to Remember, An (1957)\", 1957, 26], [967, \"Little Lord Fauntleroy (1936)\", 1936, 12], [968, \"Inspector General, The (1949)\", 1949, 18], [969, \"Winnie the Pooh and the Blustery Day (1968)\", 1968, 75], [970, \"Hear My Song (1991)\", 1991, 8], [971, \"Mediterraneo (1991)\", 1991, 34], [972, \"Passion Fish (1992)\", 1992, 28], [973, \"Grateful Dead (1995)\", 1996, 4], [974, \"Eye for an Eye (1996)\", 1996, 32], [975, \"Fear (1996)\", 1996, 44], [976, \"Solo (1996)\", 1996, 12], [977, \"Substitute, The (1996)\", 1996, 49], [978, \"Heaven's Prisoners (1996)\", 1996, 27], [979, \"Trigger Effect, The (1996)\", 1996, 35], [980, \"Mother Night (1996)\", 1996, 22], [981, \"Dangerous Ground (1997)\", 1996, 8], [982, \"Maximum Risk (1996)\", 1996, 20], [983, \"Rich Man's Wife, The (1996)\", 1996, 15], [984, \"Shadow Conspiracy (1997)\", 1997, 44], [985, \"Blood & Wine (1997)\", 1996, 22], [986, \"Turbulence (1997)\", 1997, 23], [987, \"Underworld (1997)\", 1997, 4], [988, \"Beautician and the Beast, The (1997)\", 1997, 86], [989, \"Cats Don't Dance (1997)\", 1997, 32], [990, \"Anna Karenina (1997)\", 1997, 33], [991, \"Keys to Tulsa (1997)\", 1997, 25], [992, \"Head Above Water (1996)\", 1997, 4], [993, \"Hercules (1997)\", 1997, 66], [994, \"Last Time I Committed Suicide, The (1997)\", 1997, 7], [995, \"Kiss Me, Guido (1997)\", 1997, 31], [996, \"Big Green, The (1995)\", 1995, 14], [997, \"Stuart Saves His Family (1995)\", 1995, 16], [998, \"Cabin Boy (1994)\", 1994, 16], [999, \"Clean Slate (1994)\", 1994, 10], [1000, \"Lightning Jack (1994)\", 1994, 10], [1001, \"Stupids, The (1996)\", 1996, 17], [1002, \"Pest, The (1997)\", 1997, 8], [1003, \"That Darn Cat! (1997)\", 1997, 8], [1004, \"Geronimo: An American Legend (1993)\", 1993, 9], [1005, \"Double vie de V\\u00e9ronique, La (Double Life of Veronique, The) (1991)\", 1991, 22], [1006, \"Until the End of the World (Bis ans Ende der Welt) (1991)\", 1991, 23], [1007, \"Waiting for Guffman (1996)\", 1997, 47], [1008, \"I Shot Andy Warhol (1996)\", 1996, 37], [1009, \"Stealing Beauty (1996)\", 1996, 64], [1010, \"Basquiat (1996)\", 1996, 44], [1011, \"2 Days in the Valley (1996)\", 1996, 93], [1012, \"Private Parts (1997)\", 1997, 100], [1013, \"Anaconda (1997)\", 1997, 38], [1014, \"Romy and Michele's High School Reunion (1997)\", 1997, 98], [1015, \"Shiloh (1997)\", 1997, 12], [1016, \"Con Air (1997)\", 1997, 137], [1017, \"Trees Lounge (1996)\", 1996, 50], [1018, \"Tie Me Up! Tie Me Down! (1990)\", 1990, 32], [1019, \"Die xue shuang xiong (Killer, The) (1989)\", 1989, 31], [1020, \"Gaslight (1944)\", 1944, 35], [1021, \"8 1/2 (1963)\", 1963, 38], [1022, \"Fast, Cheap & Out of Control (1997)\", 1997, 32], [1023, \"Fathers' Day (1997)\", 1997, 31], [1024, \"Mrs. Dalloway (1997)\", 1997, 15], [1025, \"Fire Down Below (1997)\", 1997, 44], [1026, \"Lay of the Land, The (1997)\", 1997, 4], [1027, \"Shooter, The (1995)\", 1995, 3], [1028, \"Grumpier Old Men (1995)\", 1995, 148], [1029, \"Jury Duty (1995)\", 1995, 14], [1030, \"Beverly Hillbillies, The (1993)\", 1993, 20], [1031, \"Lassie (1994)\", 1994, 7], [1032, \"Little Big League (1994)\", 1994, 16], [1033, \"Homeward Bound II: Lost in San Francisco (1996)\", 1996, 32], [1034, \"Quest, The (1996)\", 1996, 27], [1035, \"Cool Runnings (1993)\", 1993, 68], [1036, \"Drop Dead Fred (1991)\", 1991, 24], [1037, \"Grease 2 (1982)\", 1982, 24], [1038, \"Switchback (1997)\", 1997, 17], [1039, \"Hamlet (1996)\", 1997, 90], [1040, \"Two if by Sea (1996)\", 1996, 25], [1041, \"Forget Paris (1995)\", 1995, 62], [1042, \"Just Cause (1995)\", 1995, 28], [1043, \"Rent-a-Kid (1995)\", 1995, 8], [1044, \"Paper, The (1994)\", 1994, 40], [1045, \"Fearless (1993)\", 1993, 25], [1046, \"Malice (1993)\", 1993, 46], [1047, \"Multiplicity (1996)\", 1996, 134], [1048, \"She's the One (1996)\", 1996, 73], [1049, \"House Arrest (1996)\", 1996, 25], [1050, \"Ghost and Mrs. Muir, The (1947)\", 1947, 43], [1051, \"Associate, The (1996)\", 1996, 41], [1052, \"Dracula: Dead and Loving It (1995)\", 1995, 25], [1053, \"Now and Then (1995)\", 1995, 24], [1054, \"Mr. Wrong (1996)\", 1996, 23], [1055, \"Simple Twist of Fate, A (1994)\", 1994, 10], [1056, \"Cronos (1992)\", 1992, 10], [1057, \"Pallbearer, The (1996)\", 1996, 22], [1058, \"War, The (1994)\", 1994, 15], [1059, \"Don't Be a Menace to South Central While Drinking Your Juice in the Hood (1996)\", 1996, 35], [1060, \"Adventures of Pinocchio, The (1996)\", 1996, 39], [1061, \"Evening Star, The (1996)\", 1996, 29], [1062, \"Four Days in September (1997)\", 1998, 12], [1063, \"Little Princess, A (1995)\", 1995, 41], [1064, \"Crossfire (1947)\", 1947, 4], [1065, \"Koyaanisqatsi (1983)\", 1983, 53], [1066, \"Balto (1995)\", 1995, 16], [1067, \"Bottle Rocket (1996)\", 1996, 44], [1068, \"Star Maker, The (Uomo delle stelle, L') (1995)\", 1996, 12], [1069, \"Amateur (1994)\", 1994, 18], [1070, \"Living in Oblivion (1995)\", 1995, 27], [1071, \"Party Girl (1995)\", 1995, 16], [1072, \"Pyromaniac's Love Story, A (1995)\", 1995, 7], [1073, \"Shallow Grave (1994)\", 1994, 66], [1074, \"Reality Bites (1994)\", 1994, 77], [1075, \"Man of No Importance, A (1994)\", 1994, 7], [1076, \"Pagemaster, The (1994)\", 1994, 12], [1077, \"Love and a .45 (1994)\", 1994, 8], [1078, \"Oliver & Company (1988)\", 1988, 22], [1079, \"Joe's Apartment (1996)\", 1996, 45], [1080, \"Celestial Clockwork (1994)\", 1996, 2], [1081, \"Curdled (1996)\", 1996, 8], [1082, \"Female Perversions (1996)\", 1997, 8], [1083, \"Albino Alligator (1996)\", 1997, 6], [1084, \"Anne Frank Remembered (1995)\", 1996, 21], [1085, \"Carried Away (1996)\", 1996, 11], [1086, \"It's My Party (1995)\", 1996, 21], [1087, \"Bloodsport 2 (1995)\", 1996, 10], [1088, \"Double Team (1997)\", 1997, 13], [1089, \"Speed 2: Cruise Control (1997)\", 1997, 38], [1090, \"Sliver (1993)\", 1993, 37], [1091, \"Pete's Dragon (1977)\", 1977, 43], [1092, \"Dear God (1996)\", 1996, 12], [1093, \"Live Nude Girls (1995)\", 1996, 23], [1094, \"Thin Line Between Love and Hate, A (1996)\", 1996, 12], [1095, \"High School High (1996)\", 1996, 29], [1096, \"Commandments (1997)\", 1997, 3], [1097, \"Hate (Haine, La) (1995)\", 1996, 18], [1098, \"Flirting With Disaster (1996)\", 1996, 42], [1099, \"Red Firecracker, Green Firecracker (1994)\", 1994, 13], [1100, \"What Happened Was... (1994)\", 1994, 8], [1101, \"Six Degrees of Separation (1993)\", 1993, 74], [1102, \"Two Much (1996)\", 1996, 7], [1103, \"Trust (1990)\", 1990, 19], [1104, \"C'est arriv\\u00e9 pr\\u00e8s de chez vous (1992)\", 1992, 4], [1105, \"Firestorm (1998)\", 1998, 18], [1106, \"Newton Boys, The (1998)\", 1998, 4], [1107, \"Beyond Rangoon (1995)\", 1995, 18], [1108, \"Feast of July (1995)\", 1995, 5], [1109, \"Death and the Maiden (1994)\", 1994, 28], [1110, \"Tank Girl (1995)\", 1995, 41], [1111, \"Double Happiness (1994)\", 1996, 7], [1112, \"Cobb (1994)\", 1994, 15], [1113, \"Mrs. Parker and the Vicious Circle (1994)\", 1994, 22], [1114, \"Faithful (1996)\", 1996, 10], [1115, \"Twelfth Night (1996)\", 1996, 29], [1116, \"Mark of Zorro, The (1940)\", 1940, 13], [1117, \"Surviving Picasso (1996)\", 1996, 19], [1118, \"Up in Smoke (1978)\", 1978, 47], [1119, \"Some Kind of Wonderful (1987)\", 1987, 59], [1120, \"I'm Not Rappaport (1996)\", 1996, 17], [1121, \"Umbrellas of Cherbourg, The (Parapluies de Cherbourg, Les) (1964)\", 1996, 21], [1122, \"They Made Me a Criminal (1939)\", 1939, 1], [1123, \"Last Time I Saw Paris, The (1954)\", 1954, 3], [1124, \"Farewell to Arms, A (1932)\", 1932, 12], [1125, \"Innocents, The (1961)\", 1961, 4], [1126, \"Old Man and the Sea, The (1958)\", 1958, 32], [1127, \"Truman Show, The (1998)\", 1998, 11], [1128, \"Heidi Fleiss: Hollywood Madam (1995) \", 1996, 13], [1129, \"Chungking Express (1994)\", 1996, 28], [1130, \"Jupiter's Wife (1994)\", 1996, 1], [1131, \"Safe (1995)\", 1995, 13], [1132, \"Feeling Minnesota (1996)\", 1996, 32], [1133, \"Escape to Witch Mountain (1975)\", 1975, 30], [1134, \"Get on the Bus (1996)\", 1996, 38], [1135, \"Doors, The (1991)\", 1991, 46], [1136, \"Ghosts of Mississippi (1996)\", 1996, 29], [1137, \"Beautiful Thing (1996)\", 1996, 29], [1138, \"Best Men (1997)\", 1997, 5], [1139, \"Hackers (1995)\", 1995, 33], [1140, \"Road to Wellville, The (1994)\", 1994, 17], [1141, \"War Room, The (1993)\", 1993, 9], [1142, \"When We Were Kings (1996)\", 1997, 44], [1143, \"Hard Eight (1996)\", 1997, 15], [1144, \"Quiet Room, The (1996)\", 1997, 3], [1145, \"Blue Chips (1994)\", 1994, 9], [1146, \"Calendar Girl (1993)\", 1993, 3], [1147, \"My Family (1995)\", 1995, 21], [1148, \"Tom & Viv (1994)\", 1994, 9], [1149, \"Walkabout (1971)\", 1971, 26], [1150, \"Last Dance (1996)\", 1996, 9], [1151, \"Original Gangstas (1996)\", 1996, 7], [1152, \"In Love and War (1996)\", 1997, 28], [1153, \"Backbeat (1993)\", 1993, 19], [1154, \"Alphaville (1965)\", 1965, 12], [1155, \"Rendezvous in Paris (Rendez-vous de Paris, Les) (1995)\", 1996, 3], [1156, \"Cyclo (1995)\", 1996, 1], [1157, \"Relic, The (1997)\", 1997, 25], [1158, \"Fille seule, La (A Single Girl) (1995)\", 1996, 4], [1159, \"Stalker (1979)\", 1979, 11], [1160, \"Love! Valour! Compassion! (1997)\", 1997, 26], [1161, \"Palookaville (1996)\", 1996, 13], [1162, \"Phat Beach (1996)\", 1996, 5], [1163, \"Portrait of a Lady, The (1996)\", 1996, 25], [1164, \"Zeus and Roxanne (1997)\", 1997, 6], [1165, \"Big Bully (1996)\", 1996, 14], [1166, \"Love & Human Remains (1993)\", 1993, 12], [1167, \"Sum of Us, The (1994)\", 1994, 11], [1168, \"Little Buddha (1993)\", 1993, 22], [1169, \"Fresh (1994)\", 1994, 10], [1170, \"Spanking the Monkey (1994)\", 1994, 27], [1171, \"Wild Reeds (1994)\", 1994, 14], [1172, \"Women, The (1939)\", 1939, 15], [1173, \"Bliss (1997)\", 1997, 7], [1174, \"Caught (1996)\", 1996, 8], [1175, \"Hugo Pool (1997)\", 1997, 5], [1176, \"Welcome To Sarajevo (1997)\", 1997, 22], [1177, \"Dunston Checks In (1996)\", 1996, 7], [1178, \"Major Payne (1994)\", 1994, 19], [1179, \"Man of the House (1995)\", 1995, 9], [1180, \"I Love Trouble (1994)\", 1994, 10], [1181, \"Low Down Dirty Shame, A (1994)\", 1994, 10], [1182, \"Cops and Robbersons (1994)\", 1994, 13], [1183, \"Cowboy Way, The (1994)\", 1994, 19], [1184, \"Endless Summer 2, The (1994)\", 1994, 10], [1185, \"In the Army Now (1994)\", 1994, 18], [1186, \"Inkwell, The (1994)\", 1994, 3], [1187, \"Switchblade Sisters (1975)\", 1975, 13], [1188, \"Young Guns II (1990)\", 1990, 44], [1189, \"Prefontaine (1997)\", 1997, 3], [1190, \"That Old Feeling (1997)\", 1997, 11], [1191, \"Letter From Death Row, A (1998)\", 1998, 3], [1192, \"Boys of St. Vincent, The (1993)\", 1993, 13], [1193, \"Before the Rain (Pred dozhdot) (1994)\", 1994, 10], [1194, \"Once Were Warriors (1994)\", 1994, 31], [1195, \"Strawberry and Chocolate (Fresa y chocolate) (1993)\", 1993, 11], [1196, \"Savage Nights (Nuits fauves, Les) (1992)\", 1992, 3], [1197, \"Family Thing, A (1996)\", 1996, 45], [1198, \"Purple Noon (1960)\", 1960, 7], [1199, \"Cemetery Man (Dellamorte Dellamore) (1994)\", 1996, 23], [1200, \"Kim (1950)\", 1950, 7], [1201, \"Marlene Dietrich: Shadow and Light (1996) \", 1996, 1], [1202, \"Maybe, Maybe Not (Bewegte Mann, Der) (1994)\", 1996, 8], [1203, \"Top Hat (1935)\", 1935, 21], [1204, \"To Be or Not to Be (1942)\", 1942, 18], [1205, \"Secret Agent, The (1996)\", 1996, 6], [1206, \"Amos & Andrew (1993)\", 1993, 19], [1207, \"Jade (1995)\", 1995, 17], [1208, \"Kiss of Death (1995)\", 1995, 20], [1209, \"Mixed Nuts (1994)\", 1994, 15], [1210, \"Virtuosity (1995)\", 1995, 38], [1211, \"Blue Sky (1994)\", 1994, 12], [1212, \"Flesh and Bone (1993)\", 1993, 6], [1213, \"Guilty as Sin (1993)\", 1993, 6], [1214, \"In the Realm of the Senses (Ai no corrida) (1976)\", 1976, 9], [1215, \"Barb Wire (1996)\", 1996, 30], [1216, \"Kissed (1996)\", 1997, 6], [1217, \"Assassins (1995)\", 1995, 39], [1218, \"Friday (1995)\", 1995, 26], [1219, \"Goofy Movie, A (1995)\", 1995, 20], [1220, \"Higher Learning (1995)\", 1995, 30], [1221, \"When a Man Loves a Woman (1994)\", 1994, 39], [1222, \"Judgment Night (1993)\", 1993, 25], [1223, \"King of the Hill (1993)\", 1993, 4], [1224, \"Scout, The (1994)\", 1994, 12], [1225, \"Angus (1995)\", 1995, 14], [1226, \"Night Falls on Manhattan (1997)\", 1997, 32], [1227, \"Awfully Big Adventure, An (1995)\", 1995, 8], [1228, \"Under Siege 2: Dark Territory (1995)\", 1995, 48], [1229, \"Poison Ivy II (1995)\", 1995, 13], [1230, \"Ready to Wear (Pret-A-Porter) (1994)\", 1994, 18], [1231, \"Marked for Death (1990)\", 1990, 22], [1232, \"Madonna: Truth or Dare (1991)\", 1991, 17], [1233, \"N\\u00e9nette et Boni (1996)\", 1996, 6], [1234, \"Chairman of the Board (1998)\", 1998, 8], [1235, \"Big Bang Theory, The (1994)\", 1994, 1], [1236, \"Other Voices, Other Rooms (1997)\", 1997, 1], [1237, \"Twisted (1996)\", 1996, 6], [1238, \"Full Speed (1996)\", 1996, 8], [1239, \"Cutthroat Island (1995)\", 1995, 18], [1240, \"Ghost in the Shell (Kokaku kidotai) (1995)\", 1996, 26], [1241, \"Van, The (1996)\", 1997, 6], [1242, \"Old Lady Who Walked in the Sea, The (Vieille qui marchait dans la mer, La) (1991)\", 1991, 5], [1243, \"Night Flier (1997)\", 1998, 7], [1244, \"Metro (1997)\", 1997, 36], [1245, \"Gridlock'd (1997)\", 1997, 19], [1246, \"Bushwhacked (1995)\", 1995, 7], [1247, \"Bad Girls (1994)\", 1994, 6], [1248, \"Blink (1994)\", 1994, 19], [1249, \"For Love or Money (1993)\", 1993, 12], [1250, \"Best of the Best 3: No Turning Back (1995)\", 1995, 6], [1251, \"A Chef in Love (1996)\", 1997, 8], [1252, \"Contempt (M\\u00e9pris, Le) (1963)\", 1997, 9], [1253, \"Tie That Binds, The (1995)\", 1995, 7], [1254, \"Gone Fishin' (1997)\", 1997, 11], [1255, \"Broken English (1996)\", 1997, 8], [1256, \"Designated Mourner, The (1997)\", 1997, 3], [1257, \"Designated Mourner, The (1997)\", 1997, 4], [1258, \"Trial and Error (1997)\", 1997, 23], [1259, \"Pie in the Sky (1995)\", 1996, 4], [1260, \"Total Eclipse (1995)\", 1995, 4], [1261, \"Run of the Country, The (1995)\", 1995, 4], [1262, \"Walking and Talking (1996)\", 1996, 8], [1263, \"Foxfire (1996)\", 1996, 15], [1264, \"Nothing to Lose (1994)\", 1996, 7], [1265, \"Star Maps (1997)\", 1997, 19], [1266, \"Bread and Chocolate (Pane e cioccolata) (1973)\", 1973, 12], [1267, \"Clockers (1995)\", 1995, 33], [1268, \"Bitter Moon (1992)\", 1992, 10], [1269, \"Love in the Afternoon (1957)\", 1957, 10], [1270, \"Life with Mikey (1993)\", 1993, 7], [1271, \"North (1994)\", 1994, 7], [1272, \"Talking About Sex (1994)\", 1994, 5], [1273, \"Color of Night (1994)\", 1994, 15], [1274, \"Robocop 3 (1993)\", 1993, 11], [1275, \"Killer (Bulletproof Heart) (1994)\", 1994, 4], [1276, \"Sunset Park (1996)\", 1996, 8], [1277, \"Set It Off (1996)\", 1996, 19], [1278, \"Selena (1997)\", 1997, 16], [1279, \"Wild America (1997)\", 1997, 9], [1280, \"Gang Related (1997)\", 1997, 16], [1281, \"Manny & Lo (1996)\", 1996, 13], [1282, \"Grass Harp, The (1995)\", 1996, 9], [1283, \"Out to Sea (1997)\", 1997, 19], [1284, \"Before and After (1996)\", 1996, 26], [1285, \"Princess Caraboo (1994)\", 1994, 15], [1286, \"Shall We Dance? (1937)\", 1937, 17], [1287, \"Ed (1996)\", 1996, 6], [1288, \"Denise Calls Up (1995)\", 1996, 7], [1289, \"Jack and Sarah (1995)\", 1996, 7], [1290, \"Country Life (1994)\", 1994, 2], [1291, \"Celtic Pride (1996)\", 1996, 15], [1292, \"Simple Wish, A (1997)\", 1997, 3], [1293, \"Star Kid (1997)\", 1998, 3], [1294, \"Ayn Rand: A Sense of Life (1997)\", 1998, 7], [1295, \"Kicked in the Head (1997)\", 1997, 7], [1296, \"Indian Summer (1996)\", 1996, 20], [1297, \"Love Affair (1994)\", 1994, 12], [1298, \"Band Wagon, The (1953)\", 1953, 9], [1299, \"Penny Serenade (1941)\", 1941, 8], [1300, \"'Til There Was You (1997)\", 1997, 9], [1301, \"Stripes (1981)\", 1981, 5], [1302, \"Late Bloomers (1996)\", 1997, 5], [1303, \"Getaway, The (1994)\", 1994, 18], [1304, \"New York Cop (1996)\", 1996, 2], [1305, \"National Lampoon's Senior Trip (1995)\", 1995, 7], [1306, \"Delta of Venus (1994)\", 1994, 2], [1307, \"Carmen Miranda: Bananas Is My Business (1994)\", 1994, 2], [1308, \"Babyfever (1994)\", 1994, 2], [1309, \"Very Natural Thing, A (1974)\", 1974, 1], [1310, \"Walk in the Sun, A (1945)\", 1945, 1], [1311, \"Waiting to Exhale (1995)\", 1996, 16], [1312, \"Pompatus of Love, The (1996)\", 1996, 7], [1313, \"Palmetto (1998)\", 1998, 14], [1314, \"Surviving the Game (1994)\", 1994, 11], [1315, \"Inventing the Abbotts (1997)\", 1997, 23], [1316, \"Horse Whisperer, The (1998)\", 1997, 7], [1317, \"Journey of August King, The (1995)\", 1996, 4], [1318, \"Catwalk (1995)\", 1996, 3], [1319, \"Neon Bible, The (1995)\", 1996, 4], [1320, \"Homage (1995)\", 1996, 1], [1321, \"Open Season (1996)\", 1996, 2], [1322, \"Metisse (Caf\\u00e9 au Lait) (1993)\", 1993, 6], [1323, \"Wooden Man's Bride, The (Wu Kui) (1994)\", 1994, 3], [1324, \"Loaded (1994)\", 1996, 5], [1325, \"August (1996)\", 1996, 1], [1326, \"Boys (1996)\", 1996, 6], [1327, \"Captives (1994)\", 1994, 3], [1328, \"Of Love and Shadows (1994)\", 1996, 6], [1329, \"Low Life, The (1994)\", 1996, 1], [1330, \"An Unforgettable Summer (1994)\", 1994, 4], [1331, \"Last Klezmer: Leopold Kozlowski, His Life and Music, The (1995)\", 1995, 4], [1332, \"My Life and Times With Antonin Artaud (En compagnie d'Antonin Artaud) (1993)\", 1993, 2], [1333, \"Midnight Dancers (Sibak) (1994)\", 1994, 5], [1334, \"Somebody to Love (1994)\", 1996, 2], [1335, \"American Buffalo (1996)\", 1996, 11], [1336, \"Kazaam (1996)\", 1996, 10], [1337, \"Larger Than Life (1996)\", 1996, 9], [1338, \"Two Deaths (1995)\", 1996, 4], [1339, \"Stefano Quantestorie (1993)\", 1993, 1], [1340, \"Crude Oasis, The (1995)\", 1995, 1], [1341, \"Hedd Wyn (1992)\", 1992, 1], [1342, \"Convent, The (Convento, O) (1995)\", 1996, 2], [1343, \"Lotto Land (1995)\", 1995, 1], [1344, \"Story of Xinghua, The (1993)\", 1993, 5], [1345, \"Day the Sun Turned Cold, The (Tianguo niezi) (1994)\", 1994, 2], [1346, \"Dingo (1992)\", 1992, 5], [1347, \"Ballad of Narayama, The (Narayama Bushiko) (1958)\", 1958, 4], [1348, \"Every Other Weekend (1990)\", 1990, 1], [1349, \"Mille bolle blu (1993)\", 1993, 1], [1350, \"Crows and Sparrows (1949)\", 1949, 2], [1351, \"Lover's Knot (1996)\", 1996, 3], [1352, \"Shadow of Angels (Schatten der Engel) (1976)\", 1976, 1], [1353, \"1-900 (1994)\", 1994, 5], [1354, \"Venice/Venice (1992)\", 1992, 2], [1355, \"Infinity (1996)\", 1996, 6], [1356, \"Ed's Next Move (1996)\", 1996, 3], [1357, \"For the Moment (1994)\", 1994, 3], [1358, \"The Deadly Cure (1996)\", 1996, 2], [1359, \"Boys in Venice (1996)\", 1996, 2], [1360, \"Sexual Life of the Belgians, The (1994)\", 1994, 2], [1361, \"Search for One-eye Jimmy, The (1996)\", 1996, 3], [1362, \"American Strays (1996)\", 1996, 2], [1363, \"Leopard Son, The (1996)\", 1996, 1], [1364, \"Bird of Prey (1996)\", 1996, 1], [1365, \"Johnny 100 Pesos (1993)\", 1993, 2], [1366, \"JLG/JLG - autoportrait de d\\u00e9cembre (1994)\", 1994, 1], [1367, \"Faust (1994)\", 1994, 5], [1368, \"Mina Tannenbaum (1994)\", 1994, 6], [1369, \"Forbidden Christ, The (Cristo proibito, Il) (1950)\", 1950, 4], [1370, \"I Can't Sleep (J'ai pas sommeil) (1994)\", 1994, 3], [1371, \"Machine, The (1994)\", 1994, 2], [1372, \"Stranger, The (1994)\", 1994, 3], [1373, \"Good Morning (1971)\", 1971, 1], [1374, \"Falling in Love Again (1980)\", 1980, 2], [1375, \"Cement Garden, The (1993)\", 1993, 10], [1376, \"Meet Wally Sparks (1997)\", 1997, 7], [1377, \"Hotel de Love (1996)\", 1997, 4], [1378, \"Rhyme & Reason (1997)\", 1997, 5], [1379, \"Love and Other Catastrophes (1996)\", 1997, 7], [1380, \"Hollow Reed (1996)\", 1997, 6], [1381, \"Losing Chase (1996)\", 1996, 8], [1382, \"Bonheur, Le (1965)\", 1997, 4], [1383, \"Second Jungle Book: Mowgli & Baloo, The (1997)\", 1997, 6], [1384, \"Squeeze (1996)\", 1997, 3], [1385, \"Roseanna's Grave (For Roseanna) (1997)\", 1997, 5], [1386, \"Tetsuo II: Body Hammer (1992)\", 1997, 6], [1387, \"Fall (1997)\", 1997, 3], [1388, \"Gabbeh (1996)\", 1997, 6], [1389, \"Mondo (1996)\", 1997, 3], [1390, \"Innocent Sleep, The (1995)\", 1997, 2], [1391, \"For Ever Mozart (1996)\", 1997, 3], [1392, \"Locusts, The (1997)\", 1997, 5], [1393, \"Stag (1997)\", 1997, 9], [1394, \"Swept from the Sea (1997)\", 1997, 7], [1395, \"Hurricane Streets (1998)\", 1998, 6], [1396, \"Stonewall (1995)\", 1996, 5], [1397, \"Of Human Bondage (1934)\", 1934, 5], [1398, \"Anna (1996)\", 1996, 2], [1399, \"Stranger in the House (1997)\", 1997, 7], [1400, \"Picture Bride (1995)\", 1995, 10], [1401, \"M. Butterfly (1993)\", 1993, 18], [1402, \"Ciao, Professore! (1993)\", 1993, 4], [1403, \"Caro Diario (Dear Diary) (1994)\", 1994, 4], [1404, \"Withnail and I (1987)\", 1987, 13], [1405, \"Boy's Life 2 (1997)\", 1997, 6], [1406, \"When Night Is Falling (1995)\", 1995, 5], [1407, \"Specialist, The (1994)\", 1994, 20], [1408, \"Gordy (1995)\", 1995, 3], [1409, \"Swan Princess, The (1994)\", 1994, 7], [1410, \"Harlem (1993)\", 1993, 4], [1411, \"Barbarella (1968)\", 1968, 28], [1412, \"Land Before Time III: The Time of the Great Giving (1995) (V)\", 1995, 6], [1413, \"Street Fighter (1994)\", 1994, 8], [1414, \"Coldblooded (1995)\", 1995, 1], [1415, \"Next Karate Kid, The (1994)\", 1994, 9], [1416, \"No Escape (1994)\", 1994, 5], [1417, \"Turning, The (1992)\", 1997, 2], [1418, \"Joy Luck Club, The (1993)\", 1993, 3], [1419, \"Highlander III: The Sorcerer (1994)\", 1994, 16], [1420, \"Gilligan's Island: The Movie (1998)\", 1997, 3], [1421, \"My Crazy Life (Mi vida loca) (1993)\", 1993, 11], [1422, \"Suture (1993)\", 1993, 4], [1423, \"Walking Dead, The (1995)\", 1995, 4], [1424, \"I Like It Like That (1994)\", 1994, 3], [1425, \"I'll Do Anything (1994)\", 1994, 10], [1426, \"Grace of My Heart (1996)\", 1996, 8], [1427, \"Drunks (1995)\", 1996, 5], [1428, \"SubUrbia (1997)\", 1997, 12], [1429, \"Sliding Doors (1998)\", 1998, 4], [1430, \"Ill Gotten Gains (1997)\", 1997, 3], [1431, \"Legal Deceit (1997)\", 1997, 5], [1432, \"Mighty, The (1998)\", 1998, 3], [1433, \"Men of Means (1998)\", 1997, 2], [1434, \"Shooting Fish (1997)\", 1998, 10], [1435, \"Steal Big, Steal Little (1995)\", 1995, 7], [1436, \"Mr. Jones (1993)\", 1993, 2], [1437, \"House Party 3 (1994)\", 1994, 9], [1438, \"Panther (1995)\", 1995, 5], [1439, \"Jason's Lyric (1994)\", 1994, 8], [1440, \"Above the Rim (1994)\", 1994, 5], [1441, \"Moonlight and Valentino (1995)\", 1995, 7], [1442, \"Scarlet Letter, The (1995)\", 1995, 5], [1443, \"8 Seconds (1994)\", 1994, 4], [1444, \"That Darn Cat! (1965)\", 1965, 19], [1445, \"Ladybird Ladybird (1994)\", 1994, 4], [1446, \"Bye Bye, Love (1995)\", 1995, 15], [1447, \"Century (1993)\", 1993, 1], [1448, \"My Favorite Season (1993)\", 1996, 3], [1449, \"Pather Panchali (1955)\", 1996, 8], [1450, \"Golden Earrings (1947)\", 1947, 2], [1451, \"Foreign Correspondent (1940)\", 1940, 15], [1452, \"Lady of Burlesque (1943)\", 1943, 1], [1453, \"Angel on My Shoulder (1946)\", 1946, 1], [1454, \"Angel and the Badman (1947)\", 1947, 6], [1455, \"Outlaw, The (1943)\", 1943, 2], [1456, \"Beat the Devil (1954)\", 1954, 7], [1457, \"Love Is All There Is (1996)\", 1996, 1], [1458, \"Damsel in Distress, A (1937)\", 1937, 1], [1459, \"Madame Butterfly (1995)\", 1996, 7], [1460, \"Sleepover (1995)\", 1996, 1], [1461, \"Here Comes Cookie (1935)\", 1935, 1], [1462, \"Thieves (Voleurs, Les) (1996)\", 1996, 7], [1463, \"Boys, Les (1997)\", 1997, 3], [1464, \"Stars Fell on Henrietta, The (1995)\", 1995, 3], [1465, \"Last Summer in the Hamptons (1995)\", 1995, 3], [1466, \"Margaret's Museum (1995)\", 1995, 6], [1467, \"Saint of Fort Washington, The (1993)\", 1993, 2], [1468, \"Cure, The (1995)\", 1995, 6], [1469, \"Tom and Huck (1995)\", 1995, 12], [1470, \"Gumby: The Movie (1995)\", 1995, 5], [1471, \"Hideaway (1995)\", 1995, 9], [1472, \"Visitors, The (Visiteurs, Les) (1993)\", 1996, 2], [1473, \"Little Princess, The (1939)\", 1939, 9], [1474, \"Nina Takes a Lover (1994)\", 1994, 6], [1475, \"Bhaji on the Beach (1993)\", 1993, 8], [1476, \"Raw Deal (1948)\", 1948, 1], [1477, \"Nightwatch (1997)\", 1997, 2], [1478, \"Dead Presidents (1995)\", 1995, 18], [1479, \"Reckless (1995)\", 1995, 8], [1480, \"Herbie Rides Again (1974)\", 1974, 11], [1481, \"S.F.W. (1994)\", 1994, 2], [1482, \"Gate of Heavenly Peace, The (1995)\", 1996, 1], [1483, \"Man in the Iron Mask, The (1998)\", 1998, 12], [1484, \"Jerky Boys, The (1994)\", 1994, 3], [1485, \"Colonel Chabert, Le (1994)\", 1994, 4], [1486, \"Girl in the Cadillac (1995)\", 1995, 1], [1487, \"Even Cowgirls Get the Blues (1993)\", 1993, 5], [1488, \"Germinal (1993)\", 1993, 4], [1489, \"Chasers (1994)\", 1994, 5], [1490, \"Fausto (1993)\", 1993, 3], [1491, \"Tough and Deadly (1995)\", 1995, 2], [1492, \"Window to Paris (1994)\", 1994, 1], [1493, \"Modern Affair, A (1995)\", 1996, 1], [1494, \"Mostro, Il (1994)\", 1996, 1], [1495, \"Flirt (1995)\", 1996, 5], [1496, \"Carpool (1996)\", 1996, 5], [1497, \"Line King: Al Hirschfeld, The (1996)\", 1996, 2], [1498, \"Farmer & Chase (1995)\", 1997, 1], [1499, \"Grosse Fatigue (1994)\", 1994, 4], [1500, \"Santa with Muscles (1996)\", 1996, 2], [1501, \"Prisoner of the Mountains (Kavkazsky Plennik) (1996)\", 1997, 5], [1502, \"Naked in New York (1994)\", 1994, 2], [1503, \"Gold Diggers: The Secret of Bear Mountain (1995)\", 1995, 10], [1504, \"Bewegte Mann, Der (1994)\", 1996, 3], [1505, \"Killer: A Journal of Murder (1995)\", 1996, 1], [1506, \"Nelly & Monsieur Arnaud (1995)\", 1996, 3], [1507, \"Three Lives and Only One Death (1996)\", 1996, 1], [1508, \"Babysitter, The (1995)\", 1995, 3], [1509, \"Getting Even with Dad (1994)\", 1994, 5], [1510, \"Mad Dog Time (1996)\", 1996, 1], [1511, \"Children of the Revolution (1996)\", 1997, 5], [1512, \"World of Apu, The (Apur Sansar) (1959)\", 1996, 6], [1513, \"Sprung (1997)\", 1997, 3], [1514, \"Dream With the Fishes (1997)\", 1997, 7], [1515, \"Wings of Courage (1995)\", 1995, 1], [1516, \"Wedding Gift, The (1994)\", 1994, 3], [1517, \"Race the Sun (1996)\", 1996, 5], [1518, \"Losing Isaiah (1995)\", 1995, 12], [1519, \"New Jersey Drive (1995)\", 1995, 2], [1520, \"Fear, The (1995)\", 1995, 1], [1521, \"Mr. Wonderful (1993)\", 1993, 4], [1522, \"Trial by Jury (1994)\", 1994, 7], [1523, \"Good Man in Africa, A (1994)\", 1994, 2], [1524, \"Kaspar Hauser (1993)\", 1996, 8], [1525, \"Object of My Affection, The (1998)\", 1998, 1], [1526, \"Witness (1985)\", 1985, 1], [1527, \"Senseless (1998)\", 1998, 7], [1528, \"Nowhere (1997)\", 1997, 3], [1529, \"Underground (1995)\", 1996, 5], [1530, \"Jefferson in Paris (1995)\", 1995, 5], [1531, \"Far From Home: The Adventures of Yellow Dog (1995)\", 1995, 7], [1532, \"Foreign Student (1994)\", 1994, 2], [1533, \"I Don't Want to Talk About It (De eso no se habla) (1993)\", 1993, 1], [1534, \"Twin Town (1997)\", 1997, 6], [1535, \"Enfer, L' (1994)\", 1994, 4], [1536, \"Aiqing wansui (1994)\", 1996, 1], [1537, \"Cosi (1996)\", 1997, 4], [1538, \"All Over Me (1997)\", 1997, 3], [1539, \"Being Human (1993)\", 1993, 4], [1540, \"Amazing Panda Adventure, The (1995)\", 1995, 10], [1541, \"Beans of Egypt, Maine, The (1994)\", 1994, 2], [1542, \"Scarlet Letter, The (1926)\", 1926, 2], [1543, \"Johns (1996)\", 1996, 1], [1544, \"It Takes Two (1995)\", 1995, 3], [1545, \"Frankie Starlight (1995)\", 1995, 4], [1546, \"Shadows (Cienie) (1988)\", 1988, 1], [1547, \"Show, The (1995)\", 1995, 2], [1548, \"The Courtyard (1995)\", 1995, 1], [1549, \"Dream Man (1995)\", 1995, 2], [1550, \"Destiny Turns on the Radio (1995)\", 1995, 2], [1551, \"Glass Shield, The (1994)\", 1994, 2], [1552, \"Hunted, The (1995)\", 1995, 3], [1553, \"Underneath, The (1995)\", 1995, 4], [1554, \"Safe Passage (1994)\", 1994, 2], [1555, \"Secret Adventures of Tom Thumb, The (1993)\", 1993, 5], [1556, \"Condition Red (1995)\", 1995, 2], [1557, \"Yankee Zulu (1994)\", 1996, 1], [1558, \"Aparajito (1956)\", 1996, 7], [1559, \"Hostile Intentions (1994)\", 1994, 1], [1560, \"Clean Slate (Coup de Torchon) (1981)\", 1981, 4], [1561, \"Tigrero: A Film That Was Never Made (1994)\", 1994, 1], [1562, \"Eye of Vichy, The (Oeil de Vichy, L') (1993)\", 1993, 1], [1563, \"Promise, The (Versprechen, Das) (1994)\", 1994, 1], [1564, \"To Cross the Rubicon (1991)\", 1991, 1], [1565, \"Daens (1992)\", 1992, 1], [1566, \"Man from Down Under, The (1943)\", 1943, 1], [1567, \"Careful (1992)\", 1992, 1], [1568, \"Vermont Is For Lovers (1992)\", 1992, 1], [1569, \"Vie est belle, La (Life is Rosey) (1987)\", 1987, 1], [1570, \"Quartier Mozart (1992)\", 1992, 1], [1571, \"Touki Bouki (Journey of the Hyena) (1973)\", 1973, 1], [1572, \"Wend Kuuni (God's Gift) (1982)\", 1982, 1], [1573, \"Spirits of the Dead (Tre passi nel delirio) (1968)\", 1968, 2], [1574, \"Pharaoh's Army (1995)\", 1995, 1], [1575, \"I, Worst of All (Yo, la peor de todas) (1990)\", 1990, 1], [1576, \"Hungarian Fairy Tale, A (1987)\", 1987, 1], [1577, \"Death in the Garden (Mort en ce jardin, La) (1956)\", 1956, 1], [1578, \"Collectionneuse, La (1967)\", 1967, 2], [1579, \"Baton Rouge (1988)\", 1988, 1], [1580, \"Liebelei (1933)\", 1933, 1], [1581, \"Woman in Question, The (1950)\", 1950, 1], [1582, \"T-Men (1947)\", 1947, 1], [1583, \"Invitation, The (Zaproszenie) (1986)\", 1986, 1], [1584, \"Symphonie pastorale, La (1946)\", 1946, 1], [1585, \"American Dream (1990)\", 1990, 2], [1586, \"Lashou shentan (1992)\", 1992, 1], [1587, \"Terror in a Texas Town (1958)\", 1958, 1], [1588, \"Salut cousin! (1996)\", 1997, 2], [1589, \"Schizopolis (1996)\", 1997, 4], [1590, \"To Have, or Not (1995)\", 1997, 2], [1591, \"Duoluo tianshi (1995)\", 1998, 6], [1592, \"Magic Hour, The (1998)\", 1998, 5], [1593, \"Death in Brunswick (1991)\", 1996, 1], [1594, \"Everest (1998)\", 1998, 2], [1595, \"Shopping (1994)\", 1996, 1], [1596, \"Nemesis 2: Nebula (1995)\", 1995, 1], [1597, \"Romper Stomper (1992)\", 1992, 5], [1598, \"City of Industry (1997)\", 1997, 6], [1599, \"Someone Else's America (1995)\", 1996, 1], [1600, \"Guantanamera (1994)\", 1997, 4], [1601, \"Office Killer (1997)\", 1997, 1], [1602, \"Price Above Rubies, A (1998)\", 1998, 3], [1603, \"Angela (1995)\", 1996, 1], [1604, \"He Walked by Night (1948)\", 1948, 1], [1605, \"Love Serenade (1996)\", 1997, 4], [1606, \"Deceiver (1997)\", 1997, 1], [1607, \"Hurricane Streets (1998)\", 1998, 3], [1608, \"Buddy (1997)\", 1997, 4], [1609, \"B*A*P*S (1997)\", 1997, 3], [1610, \"Truth or Consequences, N.M. (1997)\", 1997, 3], [1611, \"Intimate Relations (1996)\", 1997, 2], [1612, \"Leading Man, The (1996)\", 1998, 4], [1613, \"Tokyo Fist (1995)\", 1998, 1], [1614, \"Reluctant Debutante, The (1958)\", 1958, 1], [1615, \"Warriors of Virtue (1997)\", 1997, 10], [1616, \"Desert Winds (1995)\", 1995, 1], [1617, \"Hugo Pool (1997)\", 1997, 2], [1618, \"King of New York (1990)\", 1990, 1], [1619, \"All Things Fair (1996)\", 1996, 1], [1620, \"Sixth Man, The (1997)\", 1997, 9], [1621, \"Butterfly Kiss (1995)\", 1996, 1], [1622, \"Paris, France (1993)\", 1993, 3], [1623, \"C\\u00e9r\\u00e9monie, La (1995)\", 1996, 3], [1624, \"Hush (1998)\", 1998, 1], [1625, \"Nightwatch (1997)\", 1997, 1], [1626, \"Nobody Loves Me (Keiner liebt mich) (1994)\", 1996, 1], [1627, \"Wife, The (1995)\", 1996, 1], [1628, \"Lamerica (1994)\", 1994, 4], [1629, \"Nico Icon (1995)\", 1995, 2], [1630, \"Silence of the Palace, The (Saimt el Qusur) (1994)\", 1996, 1], [1631, \"Slingshot, The (1993)\", 1993, 2], [1632, \"Land and Freedom (Tierra y libertad) (1995)\", 1996, 1], [1633, \"\\u00c1 k\\u00f6ldum klaka (Cold Fever) (1994)\", 1996, 1], [1634, \"Etz Hadomim Tafus (Under the Domin Tree) (1994)\", 1996, 1], [1635, \"Two Friends (1986) \", 1986, 1], [1636, \"Brothers in Trouble (1995)\", 1996, 1], [1637, \"Girls Town (1996)\", 1996, 1], [1638, \"Normal Life (1996)\", 1996, 1], [1639, \"Bitter Sugar (Azucar Amargo) (1996)\", 1996, 3], [1640, \"Eighth Day, The (1996)\", 1996, 1], [1641, \"Dadetown (1995)\", 1996, 1], [1642, \"Some Mother's Son (1996)\", 1996, 2], [1643, \"Angel Baby (1995)\", 1997, 4], [1644, \"Sudden Manhattan (1996)\", 1997, 2], [1645, \"Butcher Boy, The (1998)\", 1998, 1], [1646, \"Men With Guns (1997)\", 1998, 2], [1647, \"Hana-bi (1997)\", 1998, 1], [1648, \"Niagara, Niagara (1997)\", 1998, 1], [1649, \"Big One, The (1997)\", 1998, 1], [1650, \"Butcher Boy, The (1998)\", 1998, 1], [1651, \"Spanish Prisoner, The (1997)\", 1998, 1], [1652, \"Temptress Moon (Feng Yue) (1996)\", 1997, 3], [1653, \"Entertaining Angels: The Dorothy Day Story (1996)\", 1996, 1], [1654, \"Chairman of the Board (1998)\", 1998, 1], [1655, \"Favor, The (1994)\", 1994, 1], [1656, \"Little City (1998)\", 1998, 2], [1657, \"Target (1995)\", 1996, 1], [1658, \"Substance of Fire, The (1996)\", 1996, 3], [1659, \"Getting Away With Murder (1996)\", 1996, 1], [1660, \"Small Faces (1995)\", 1996, 1], [1661, \"New Age, The (1994)\", 1994, 1], [1662, \"Rough Magic (1995)\", 1997, 2], [1663, \"Nothing Personal (1995)\", 1997, 1], [1664, \"8 Heads in a Duffel Bag (1997)\", 1997, 4], [1665, \"Brother's Kiss, A (1997)\", 1997, 1], [1666, \"Ripe (1996)\", 1997, 1], [1667, \"Next Step, The (1995)\", 1997, 1], [1668, \"Wedding Bell Blues (1996)\", 1997, 1], [1669, \"MURDER and murder (1996)\", 1997, 1], [1670, \"Tainted (1998)\", 1998, 1], [1671, \"Further Gesture, A (1996)\", 1998, 1], [1672, \"Kika (1993)\", 1993, 2], [1673, \"Mirage (1995)\", 1995, 1], [1674, \"Mamma Roma (1962)\", 1962, 1], [1675, \"Sunchaser, The (1996)\", 1996, 1], [1676, \"War at Home, The (1996)\", 1996, 1], [1677, \"Sweet Nothing (1995)\", 1996, 1], [1678, \"Mat' i syn (1997)\", 1998, 1], [1679, \"B. Monkey (1998)\", 1998, 1], [1680, \"Sliding Doors (1998)\", 1998, 1], [1681, \"You So Crazy (1994)\", 1994, 1], [1682, \"Scream of Stone (Schrei aus Stein) (1991)\", 1996, 1]], \"hoverlabel\": {\"namelength\": 0}, \"hovertemplate\": \"tsne_1=%{x}<br>tsne_2=%{y}<br>item_id=%{customdata[0]}<br>title=%{customdata[1]}<br>release_year=%{customdata[2]}<br>popularity=%{marker.color}\", \"legendgroup\": \"\", \"marker\": {\"color\": [452, 131, 90, 209, 86, 26, 392, 219, 299, 89, 236, 267, 184, 183, 293, 39, 92, 10, 69, 72, 84, 297, 182, 174, 293, 73, 57, 276, 114, 37, 154, 81, 97, 7, 11, 13, 8, 120, 87, 57, 37, 148, 40, 79, 80, 27, 133, 117, 81, 583, 81, 91, 128, 104, 149, 394, 40, 175, 83, 64, 59, 127, 82, 283, 115, 162, 103, 134, 321, 251, 220, 129, 128, 7, 5, 54, 151, 33, 336, 68, 110, 261, 176, 18, 58, 150, 138, 213, 275, 95, 143, 104, 112, 137, 219, 295, 256, 390, 172, 508, 73, 54, 15, 5, 74, 71, 42, 65, 130, 31, 272, 20, 9, 67, 15, 125, 378, 293, 4, 67, 429, 106, 115, 187, 244, 97, 413, 65, 129, 23, 95, 246, 171, 198, 259, 105, 171, 19, 50, 61, 72, 57, 222, 243, 65, 10, 185, 128, 23, 157, 326, 82, 247, 174, 98, 148, 127, 60, 101, 69, 220, 106, 92, 151, 64, 58, 67, 316, 118, 121, 65, 367, 324, 420, 208, 284, 137, 125, 221, 221, 507, 226, 291, 116, 239, 251, 209, 170, 66, 124, 276, 116, 157, 241, 301, 251, 239, 127, 165, 206, 89, 280, 182, 350, 136, 50, 66, 200, 191, 331, 206, 92, 134, 114, 212, 290, 120, 171, 111, 66, 74, 365, 136, 44, 109, 166, 161, 244, 171, 199, 142, 101, 124, 280, 217, 45, 384, 256, 150, 156, 128, 117, 132, 48, 240, 124, 5, 160, 130, 197, 46, 158, 26, 62, 172, 16, 303, 509, 162, 127, 43, 66, 19, 101, 227, 35, 9, 255, 315, 136, 211, 198, 223, 190, 268, 298, 71, 60, 28, 85, 146, 232, 177, 193, 162, 481, 78, 478, 259, 96, 127, 114, 147, 485, 77, 6, 50, 194, 73, 431, 230, 297, 134, 149, 87, 96, 188, 30, 28, 145, 75, 80, 350, 5, 160, 112, 102, 298, 168, 20, 169, 218, 240, 125, 128, 175, 175, 295, 45, 41, 113, 143, 251, 64, 21, 43, 18, 91, 47, 189, 11, 52, 124, 55, 65, 126, 137, 27, 31, 41, 20, 26, 14, 72, 41, 97, 264, 143, 18, 10, 10, 28, 47, 37, 48, 47, 170, 31, 55, 39, 67, 34, 39, 11, 23, 24, 13, 101, 43, 116, 100, 111, 31, 69, 208, 87, 65, 28, 27, 10, 59, 68, 192, 12, 56, 54, 12, 26, 89, 18, 76, 170, 201, 101, 344, 49, 43, 112, 70, 162, 163, 93, 55, 62, 25, 64, 73, 129, 178, 81, 106, 26, 300, 19, 85, 32, 219, 121, 97, 93, 153, 174, 171, 67, 216, 99, 5, 6, 5, 14, 53, 4, 162, 46, 22, 9, 121, 85, 117, 63, 170, 66, 16, 16, 145, 48, 27, 90, 24, 28, 74, 148, 71, 27, 85, 52, 48, 64, 67, 108, 221, 158, 126, 194, 250, 160, 95, 104, 179, 179, 63, 128, 243, 138, 125, 64, 68, 65, 52, 50, 67, 59, 60, 56, 59, 231, 68, 152, 62, 31, 123, 57, 39, 122, 68, 90, 98, 215, 121, 121, 173, 57, 72, 180, 201, 63, 91, 89, 80, 124, 120, 35, 164, 46, 73, 124, 195, 121, 93, 80, 129, 22, 15, 13, 54, 10, 30, 66, 44, 43, 49, 51, 21, 71, 12, 254, 41, 12, 92, 151, 24, 45, 63, 102, 10, 12, 17, 70, 137, 22, 59, 48, 29, 27, 22, 179, 35, 230, 67, 50, 28, 29, 33, 15, 44, 93, 41, 92, 19, 32, 59, 168, 37, 79, 39, 34, 14, 202, 43, 18, 178, 9, 12, 5, 64, 127, 206, 4, 1, 2, 20, 50, 209, 81, 31, 66, 66, 30, 60, 41, 40, 34, 27, 51, 59, 64, 18, 18, 64, 43, 11, 39, 39, 22, 82, 4, 75, 169, 77, 31, 119, 58, 69, 24, 23, 91, 38, 44, 40, 82, 33, 89, 4, 35, 27, 38, 70, 67, 50, 72, 171, 90, 34, 147, 227, 44, 131, 79, 115, 153, 88, 82, 116, 46, 100, 5, 12, 6, 13, 36, 46, 65, 86, 48, 54, 77, 1, 219, 107, 34, 27, 100, 49, 169, 157, 50, 69, 44, 87, 155, 16, 164, 91, 44, 13, 79, 40, 10, 102, 15, 10, 53, 19, 24, 137, 6, 70, 101, 104, 79, 1, 51, 72, 13, 87, 58, 82, 16, 29, 86, 54, 58, 34, 76, 16, 14, 63, 45, 81, 24, 39, 180, 15, 27, 137, 78, 59, 31, 164, 63, 58, 267, 39, 92, 16, 119, 102, 316, 51, 124, 180, 39, 24, 57, 96, 128, 4, 21, 11, 46, 44, 115, 149, 29, 32, 9, 11, 52, 42, 57, 41, 49, 17, 32, 26, 9, 4, 76, 31, 69, 84, 10, 37, 2, 39, 14, 13, 3, 47, 66, 10, 86, 10, 46, 21, 36, 31, 9, 5, 26, 16, 40, 9, 8, 27, 50, 9, 31, 43, 45, 18, 18, 56, 1, 112, 21, 3, 25, 40, 93, 22, 4, 82, 49, 83, 80, 57, 13, 34, 1, 91, 22, 49, 25, 15, 26, 25, 4, 4, 53, 48, 27, 30, 42, 176, 44, 55, 9, 53, 4, 4, 1, 14, 16, 66, 36, 1, 3, 15, 16, 3, 18, 24, 86, 21, 119, 6, 5, 24, 9, 75, 42, 81, 39, 53, 47, 52, 33, 136, 59, 45, 34, 13, 7, 13, 53, 64, 15, 13, 43, 6, 53, 14, 19, 106, 44, 2, 58, 9, 42, 12, 42, 18, 20, 27, 21, 2, 20, 13, 4, 4, 9, 2, 11, 13, 18, 7, 8, 96, 5, 46, 34, 58, 85, 34, 101, 6, 104, 40, 80, 57, 40, 21, 68, 7, 32, 37, 25, 60, 32, 46, 45, 40, 43, 40, 61, 17, 48, 71, 30, 39, 45, 22, 11, 49, 46, 2, 14, 64, 25, 34, 23, 41, 9, 21, 26, 12, 18, 75, 8, 34, 28, 4, 32, 44, 12, 49, 27, 35, 22, 8, 20, 15, 44, 22, 23, 4, 86, 32, 33, 25, 4, 66, 7, 31, 14, 16, 16, 10, 10, 17, 8, 8, 9, 22, 23, 47, 37, 64, 44, 93, 100, 38, 98, 12, 137, 50, 32, 31, 35, 38, 32, 31, 15, 44, 4, 3, 148, 14, 20, 7, 16, 32, 27, 68, 24, 24, 17, 90, 25, 62, 28, 8, 40, 25, 46, 134, 73, 25, 43, 41, 25, 24, 23, 10, 10, 22, 15, 35, 39, 29, 12, 41, 4, 53, 16, 44, 12, 18, 27, 16, 7, 66, 77, 7, 12, 8, 22, 45, 2, 8, 8, 6, 21, 11, 21, 10, 13, 38, 37, 43, 12, 23, 12, 29, 3, 18, 42, 13, 8, 74, 7, 19, 4, 18, 4, 18, 5, 28, 41, 7, 15, 22, 10, 29, 13, 19, 47, 59, 17, 21, 1, 3, 12, 4, 32, 11, 13, 28, 1, 13, 32, 30, 38, 46, 29, 29, 5, 33, 17, 9, 44, 15, 3, 9, 3, 21, 9, 26, 9, 7, 28, 19, 12, 3, 1, 25, 4, 11, 26, 13, 5, 25, 6, 14, 12, 11, 22, 10, 27, 14, 15, 7, 8, 5, 22, 7, 19, 9, 10, 10, 13, 19, 10, 18, 3, 13, 44, 3, 11, 3, 13, 10, 31, 11, 3, 45, 7, 23, 7, 1, 8, 21, 18, 6, 19, 17, 20, 15, 38, 12, 6, 6, 9, 30, 6, 39, 26, 20, 30, 39, 25, 4, 12, 14, 32, 8, 48, 13, 18, 22, 17, 6, 8, 1, 1, 6, 8, 18, 26, 6, 5, 7, 36, 19, 7, 6, 19, 12, 6, 8, 9, 7, 11, 8, 3, 4, 23, 4, 4, 4, 8, 15, 7, 19, 12, 33, 10, 10, 7, 7, 5, 15, 11, 4, 8, 19, 16, 9, 16, 13, 9, 19, 26, 15, 17, 6, 7, 7, 2, 15, 3, 3, 7, 7, 20, 12, 9, 8, 9, 5, 5, 18, 2, 7, 2, 2, 2, 1, 1, 16, 7, 14, 11, 23, 7, 4, 3, 4, 1, 2, 6, 3, 5, 1, 6, 3, 6, 1, 4, 4, 2, 5, 2, 11, 10, 9, 4, 1, 1, 1, 2, 1, 5, 2, 5, 4, 1, 1, 2, 3, 1, 5, 2, 6, 3, 3, 2, 2, 2, 3, 2, 1, 1, 2, 1, 5, 6, 4, 3, 2, 3, 1, 2, 10, 7, 4, 5, 7, 6, 8, 4, 6, 3, 5, 6, 3, 6, 3, 2, 3, 5, 9, 7, 6, 5, 5, 2, 7, 10, 18, 4, 4, 13, 6, 5, 20, 3, 7, 4, 28, 6, 8, 1, 9, 5, 2, 3, 16, 3, 11, 4, 4, 3, 10, 8, 5, 12, 4, 3, 5, 3, 2, 10, 7, 2, 9, 5, 8, 5, 7, 5, 4, 19, 4, 15, 1, 3, 8, 2, 15, 1, 1, 6, 2, 7, 1, 1, 7, 1, 1, 7, 3, 3, 3, 6, 2, 6, 12, 5, 9, 2, 9, 6, 8, 1, 2, 18, 8, 11, 2, 1, 12, 3, 4, 1, 5, 4, 5, 3, 2, 1, 1, 1, 5, 5, 2, 1, 4, 2, 5, 2, 10, 3, 1, 3, 1, 3, 5, 1, 5, 6, 3, 7, 1, 3, 5, 12, 2, 1, 4, 7, 2, 8, 1, 1, 7, 3, 5, 5, 7, 2, 1, 6, 4, 1, 4, 3, 4, 10, 2, 2, 1, 3, 4, 1, 2, 1, 2, 2, 2, 3, 4, 2, 5, 2, 1, 7, 1, 4, 1, 1, 1, 1, 1, 1, 1, 1, 1, 1, 1, 1, 2, 1, 1, 1, 1, 2, 1, 1, 1, 1, 1, 1, 2, 1, 1, 2, 4, 2, 6, 5, 1, 2, 1, 1, 5, 6, 1, 4, 1, 3, 1, 1, 4, 1, 3, 4, 3, 3, 2, 4, 1, 1, 10, 1, 2, 1, 1, 9, 1, 3, 3, 1, 1, 1, 1, 4, 2, 1, 2, 1, 1, 1, 1, 1, 1, 1, 3, 1, 1, 2, 4, 2, 1, 2, 1, 1, 1, 1, 1, 3, 1, 1, 1, 2, 1, 3, 1, 1, 1, 2, 1, 4, 1, 1, 1, 1, 1, 1, 1, 2, 1, 1, 1, 1, 1, 1, 1, 1, 1, 1], \"coloraxis\": \"coloraxis\", \"symbol\": \"circle\"}, \"mode\": \"markers\", \"name\": \"\", \"showlegend\": false, \"type\": \"scattergl\", \"x\": [-4.594420909881592, 6.817095756530762, 16.43984031677246, -8.515491485595703, 1.0312256813049316, 9.63703727722168, 0.9062759280204773, 5.008308410644531, 2.161421298980713, 9.424225807189941, -1.4926899671554565, 24.031190872192383, 17.81473731994629, 14.455223083496094, -2.191371202468872, -6.543494701385498, 14.277194023132324, -17.810075759887695, 12.810981750488281, 8.429081916809082, -1.9988598823547363, -6.437309265136719, 6.401060581207275, 13.366257667541504, -7.899461269378662, -1.111531138420105, -0.4285160303115845, -2.5492238998413086, -2.2067456245422363, 8.168018341064453, -1.910836935043335, -5.903587341308594, 4.25691032409668, 10.503654479980469, -13.158637046813965, -8.19844913482666, 16.10122299194336, 9.970439910888672, 12.52861499786377, 7.039886474609375, 16.03852653503418, 1.1731197834014893, 10.052241325378418, 17.28864097595215, 7.221579551696777, 10.925966262817383, 17.629980087280273, -4.318570613861084, -19.22564697265625, 25.52674674987793, 10.938840866088867, 12.872332572937012, -11.24191665649414, 0.9621499180793762, 3.131033420562744, -0.3761484920978546, 3.539302349090576, 2.433636426925659, -9.669997215270996, -9.050889015197754, -10.021132469177246, 11.549379348754883, 10.45151424407959, 24.06049346923828, 3.494265556335449, -4.3907341957092285, 14.893586158752441, 14.4212646484375, -6.376389026641846, 4.1729583740234375, 0.5439422130584717, -3.190995693206787, -1.0660476684570312, -8.660237312316895, 1.445345163345337, -14.672052383422852, -2.3053383827209473, 2.5331432819366455, -5.7165374755859375, 15.809922218322754, -1.0990064144134521, -4.273816108703613, 20.154804229736328, 3.532445192337036, -8.260019302368164, 12.486993789672852, -16.58000946044922, -1.9445304870605469, 0.09087923169136047, -9.152562141418457, -0.42161962389945984, 9.457291603088379, 7.036674499511719, 6.411647796630859, -4.275580406188965, 25.342451095581055, -3.827861785888672, 6.404974460601807, 11.516240119934082, 7.551124095916748, 0.11447221040725708, 13.860177040100098, -8.755549430847168, -12.17451286315918, -7.863046169281006, -7.075812339782715, 16.16300392150879, 3.62172532081604, 4.508041858673096, -12.784980773925781, 5.992890357971191, 1.5473986864089966, 5.98325252532959, -0.6247385740280151, 12.339873313903809, 13.94451904296875, -3.7345242500305176, -18.28994369506836, -1.8804078102111816, 2.462104558944702, -18.236873626708984, -17.483348846435547, -5.810300350189209, 14.694303512573242, -1.9706472158432007, 7.931807518005371, 5.984526634216309, 3.291008234024048, 2.0370640754699707, -13.386434555053711, 5.749631404876709, 8.931821823120117, 9.559839248657227, 6.840090751647949, 2.8812427520751953, 0.26771292090415955, 13.228377342224121, 8.682347297668457, -2.1673614978790283, 12.621670722961426, -4.528820037841797, 10.61725902557373, -0.6174769997596741, 24.25320053100586, 0.823127269744873, 4.495509624481201, -3.505072832107544, 1.2272084951400757, -20.107440948486328, -6.175985336303711, 5.62485933303833, 0.5761628150939941, -8.088798522949219, -5.7160325050354, -0.2752654552459717, -0.8252735137939453, -0.44351986050605774, -3.460293769836426, 12.263440132141113, -21.94453239440918, 0.19551755487918854, -5.077336311340332, 0.8393197655677795, -3.0361855030059814, 19.945207595825195, 19.878032684326172, 7.391909599304199, 1.324170708656311, -9.355148315429688, 19.989858627319336, -5.580142498016357, 25.368610382080078, 25.2812557220459, 25.23874282836914, 2.465578556060791, 0.8916038870811462, -8.731614112854004, 5.844444274902344, 0.14116205275058746, 0.18699009716510773, 25.596860885620117, -4.532257080078125, -7.673807621002197, -2.838172435760498, 0.4408525824546814, -4.636311054229736, 5.774341583251953, -2.474055528640747, 9.324336051940918, 2.6335325241088867, 6.914851188659668, -5.743163108825684, 9.612255096435547, 11.743915557861328, 25.224544525146484, 4.581395149230957, 7.781553745269775, 1.9369183778762817, 4.249553680419922, 17.322956085205078, -3.5318763256073, -5.4079461097717285, 0.6279547810554504, 24.40531349182129, -6.360304832458496, -3.2725658416748047, 11.718504905700684, 1.3788381814956665, 6.859399795532227, -4.037264347076416, 5.25701904296875, -10.350250244140625, 10.856724739074707, 3.0957651138305664, -4.800759792327881, 20.312055587768555, -6.776598930358887, -8.349552154541016, -6.511584758758545, 5.412029266357422, 10.480328559875488, -4.078100204467773, 0.42543238401412964, 5.771039009094238, 2.6907570362091064, 0.10646457970142365, -1.5560846328735352, 25.21365737915039, 9.624478340148926, -0.07059968262910843, 3.305356025695801, -2.7682056427001953, 0.7220655083656311, 0.915317714214325, -5.580892086029053, 11.195663452148438, 0.7729079127311707, 2.5357465744018555, -3.352170705795288, -13.319817543029785, 0.8954169750213623, 14.743895530700684, -15.692423820495605, 9.92510986328125, -11.137991905212402, 5.362339019775391, 2.951455593109131, 3.895958185195923, -12.8242769241333, -8.391785621643066, 10.239056587219238, -1.1601266860961914, 17.05927085876465, 7.035900592803955, -4.642754554748535, 11.944289207458496, -8.554104804992676, 24.7679386138916, -13.317086219787598, -15.843243598937988, -10.578307151794434, 13.297658920288086, -7.990748882293701, -17.163816452026367, -4.62838077545166, 10.027778625488281, 6.997893333435059, -19.426054000854492, 16.476125717163086, -13.870211601257324, -0.47752660512924194, -16.914587020874023, -15.2874116897583, -1.2240887880325317, 10.979435920715332, 17.98363494873047, -5.36577844619751, -9.138694763183594, -4.967247486114502, -2.6647653579711914, -0.1812223345041275, -17.06348991394043, 6.420262813568115, 0.9663150906562805, 14.179779052734375, 16.49762725830078, 6.22374963760376, -17.27608299255371, 17.61627960205078, -5.52158784866333, -5.344801425933838, 12.046379089355469, 2.1705803871154785, -16.710350036621094, 2.2333381175994873, 0.65315181016922, 10.795116424560547, -17.09481430053711, -0.29583755135536194, -16.080820083618164, -15.694730758666992, -17.412689208984375, -19.248844146728516, -14.47433853149414, -20.252037048339844, 7.667852878570557, -15.478337287902832, 4.85031270980835, -12.999895095825195, -13.929436683654785, 17.004077911376953, 15.911545753479004, 24.512710571289062, -6.739890098571777, -16.45082664489746, -16.555479049682617, -2.330570936203003, 6.978692054748535, 14.417953491210938, -4.474587917327881, -4.559754848480225, -13.804388046264648, -15.646831512451172, -18.663476943969727, -16.08707046508789, -14.730744361877441, -14.65004825592041, -15.04680061340332, -10.561488151550293, 9.601089477539062, -15.715700149536133, -14.21578311920166, -15.867789268493652, -3.2357611656188965, -16.675798416137695, 9.267552375793457, -6.97272253036499, -0.7381060123443604, 4.550802707672119, -20.834625244140625, 6.22509241104126, 10.312723159790039, -12.59598159790039, -17.85858726501465, -11.773879051208496, -18.833072662353516, -16.398439407348633, -10.46352481842041, -12.791659355163574, -19.25695037841797, -10.629947662353516, -3.7512524127960205, -9.433815956115723, -2.183912754058838, 18.273828506469727, -2.6168205738067627, 6.961436748504639, 12.730868339538574, 9.39353084564209, 12.535490989685059, 10.975232124328613, -10.090442657470703, 5.724131107330322, 0.25725218653678894, 7.854162216186523, 2.2408134937286377, -7.820110321044922, -3.5424797534942627, 10.373050689697266, 0.7535384297370911, 14.988150596618652, 2.2615673542022705, 11.12699031829834, 6.597050666809082, -12.188822746276855, -3.1492807865142822, 6.083303451538086, 0.43350017070770264, 9.16246509552002, -0.38763490319252014, 6.055341720581055, 5.989626407623291, 2.628448724746704, 1.8340022563934326, -0.9773541688919067, -7.719494819641113, 9.006937026977539, 11.367684364318848, 2.3338406085968018, -4.068729400634766, 13.846068382263184, 12.98930835723877, 1.5090739727020264, 9.518943786621094, 4.427978992462158, -16.942848205566406, 5.095407485961914, 3.7979507446289062, -0.707330048084259, 15.168841361999512, -8.082917213439941, -1.2819472551345825, -2.4751944541931152, 10.835789680480957, -18.500640869140625, -3.8822953701019287, 7.20039701461792, -9.473264694213867, 2.867396354675293, -10.718578338623047, -7.681146144866943, -18.3166446685791, -12.801300048828125, -20.706039428710938, 12.395853996276855, -2.3888943195343018, 2.7951745986938477, 0.7951316237449646, -3.9653143882751465, 9.212855339050293, 3.053849220275879, -7.269891738891602, 10.381961822509766, -10.203468322753906, -3.4517345428466797, 10.963717460632324, 7.8577375411987305, 9.468677520751953, -6.3245344161987305, 2.921342134475708, -2.6280136108398438, 3.1339211463928223, -3.5324747562408447, -6.109053611755371, 12.991349220275879, -11.31997299194336, -8.072123527526855, -9.685885429382324, -8.118350982666016, -7.073399066925049, -3.165358781814575, -6.904940605163574, 7.2493367195129395, -3.115907907485962, -2.8271148204803467, -3.373654842376709, -23.208023071289062, -8.265558242797852, -7.829161167144775, -3.692681074142456, 17.35619354248047, 7.277917385101318, -2.612670421600342, -9.738096237182617, 5.253654479980469, 2.866420269012451, -10.322846412658691, 5.241218566894531, 13.650565147399902, 1.2687101364135742, 0.4102725386619568, 4.150356292724609, 10.570515632629395, -4.069429397583008, -1.05283784866333, -2.001143217086792, -1.179508924484253, -0.9900351762771606, -6.7034077644348145, 11.988106727600098, -9.332696914672852, 13.050568580627441, 14.021446228027344, 0.9207477569580078, 4.101240158081055, 4.098021507263184, -13.01050853729248, 5.03425407409668, 0.5092509984970093, 7.689817905426025, -0.4455502927303314, 8.912257194519043, 6.18635368347168, -3.575680732727051, -17.23967170715332, -1.7442232370376587, 10.832063674926758, -1.2592523097991943, 0.14842450618743896, 4.3349289894104, -0.736454427242279, 7.358312129974365, 0.9141422510147095, 5.330121040344238, -2.022357702255249, 11.232510566711426, -4.292315483093262, 4.409840106964111, 3.6169769763946533, -7.77641487121582, 10.88753890991211, -6.062121391296387, -2.4430992603302, -5.749423980712891, -4.065648078918457, 6.281696319580078, 8.70784854888916, 17.2764892578125, 5.68327522277832, 1.3903989791870117, 6.451806545257568, -5.959410190582275, -2.2746834754943848, 9.548377990722656, 7.820276260375977, 14.961918830871582, 9.120285987854004, -5.549039363861084, -3.9620041847229004, 11.782435417175293, -0.1466400921344757, 1.3376375436782837, -7.177835941314697, -0.6965091228485107, -3.9519710540771484, 11.429265975952148, 7.228546142578125, 7.165098190307617, 12.333581924438477, -3.926934242248535, -10.294417381286621, 14.479293823242188, -5.514753818511963, 2.4865472316741943, -7.155816078186035, 6.00105094909668, -3.6108999252319336, -10.053263664245605, -1.1912845373153687, 7.748743057250977, 9.120011329650879, 6.370417594909668, 8.041670799255371, 7.696552276611328, -7.788918495178223, -3.2508699893951416, -9.062016487121582, -9.313648223876953, 13.249983787536621, -0.9816969633102417, -5.20847749710083, 5.471405506134033, 9.087818145751953, 11.133980751037598, -5.292881011962891, -16.90716552734375, 2.8936827182769775, -7.787065505981445, 0.8150780200958252, 6.867023468017578, 3.5371556282043457, 14.898736953735352, 8.12173843383789, -3.8788299560546875, 2.106412649154663, -4.4634222984313965, -7.084107875823975, -3.334294319152832, 8.232043266296387, -0.4340493977069855, 5.814944744110107, 14.428394317626953, -13.920819282531738, 3.7139980792999268, 4.317424297332764, 15.518762588500977, -12.603693008422852, 0.6084368824958801, 4.101388931274414, -0.0011451910249888897, -11.142024040222168, 11.783589363098145, -7.0010504722595215, -5.807353496551514, 4.511692047119141, 4.369378566741943, 1.1565722227096558, -5.111480712890625, -2.256690263748169, -2.997769832611084, -3.417881488800049, -8.593294143676758, 0.7880408763885498, -21.186748504638672, 8.664148330688477, 3.348968982696533, 2.1266777515411377, -5.431394577026367, -4.202030181884766, -7.470096588134766, -3.526576519012451, 0.9893457293510437, 7.337335109710693, 4.3014373779296875, 3.854182720184326, 9.46297550201416, 9.632072448730469, 1.055759072303772, -4.414559364318848, 11.933341979980469, 3.4932312965393066, -5.162243366241455, 4.569342613220215, -4.973696231842041, -1.7278205156326294, -3.4097795486450195, -5.3142499923706055, 8.553861618041992, -10.80711555480957, 2.0258350372314453, -8.822209358215332, 12.265823364257812, 9.072403907775879, -10.422131538391113, -0.2679479122161865, 2.4672672748565674, 12.246769905090332, -5.07924747467041, 12.494476318359375, 1.8665014505386353, 11.634324073791504, 5.899866104125977, 4.866851806640625, -4.3036956787109375, -14.325827598571777, -11.191507339477539, -15.480546951293945, 3.3713245391845703, -1.020446538925171, -7.558368682861328, -4.699036598205566, -6.318168640136719, 1.820911169052124, 6.643335342407227, 3.6382439136505127, -1.3765497207641602, -1.7513902187347412, 3.3060779571533203, -5.483436107635498, -7.700982570648193, 4.589848041534424, -10.961589813232422, 8.188020706176758, -0.8024305701255798, -7.509517669677734, -0.8287978172302246, 4.846120357513428, 1.343090295791626, -1.601655125617981, 6.7154436111450195, 7.271632671356201, -13.980846405029297, -5.062167167663574, -6.038916110992432, -7.43716287612915, -4.394505977630615, -2.713670253753662, -10.548830032348633, -3.539809226989746, -12.582940101623535, 4.024097442626953, 0.33263227343559265, -4.748575210571289, 18.497568130493164, -2.208296060562134, 5.966630458831787, 1.7154871225357056, -15.686310768127441, -10.880887985229492, 10.418465614318848, 2.289158821105957, -13.443666458129883, -9.680160522460938, -1.2076616287231445, -5.2417097091674805, -8.008708000183105, 7.0947957038879395, -14.234952926635742, -12.597234725952148, -13.588335037231445, -2.833116054534912, -2.935943365097046, -4.574311256408691, 1.8508602380752563, -14.979989051818848, 6.617410182952881, 9.09977912902832, 8.655084609985352, 4.638113021850586, 12.430621147155762, -3.128760814666748, 5.677606582641602, 3.147024631500244, -6.9466166496276855, 1.7736259698867798, 13.8941650390625, 11.138818740844727, 5.452920436859131, 13.509318351745605, -5.4863386154174805, 4.118501663208008, -16.601194381713867, 6.98963737487793, 2.0698328018188477, 4.025271892547607, 19.577877044677734, 3.172597646713257, 13.908543586730957, 0.6083385348320007, 11.86631965637207, 15.433223724365234, 7.185947895050049, 16.539621353149414, 11.687091827392578, 8.967001914978027, -3.337476968765259, 4.811439037322998, 6.451711654663086, -1.0533860921859741, -2.272294521331787, 0.9569612741470337, -5.469155311584473, -3.228024482727051, 9.434682846069336, 2.1125667095184326, -0.25460466742515564, -2.919006586074829, 15.089613914489746, -2.015169143676758, 13.488633155822754, -12.187156677246094, -17.423105239868164, 3.317574977874756, 6.35462760925293, 13.956021308898926, -6.87312650680542, -6.868118762969971, -13.538724899291992, -16.196617126464844, 2.1397829055786133, -12.741825103759766, 11.178972244262695, 13.996915817260742, 4.781004428863525, 12.759869575500488, 1.5930055379867554, 10.176175117492676, 1.5132365226745605, 5.437930107116699, 2.826059103012085, 14.088990211486816, -1.7432929277420044, -10.67441463470459, 14.149259567260742, 7.587341785430908, -2.098794460296631, -21.63856315612793, 14.205729484558105, 8.699736595153809, 3.182265281677246, 12.059755325317383, -1.349159598350525, -15.70564079284668, 4.299232006072998, 6.54457426071167, 13.382638931274414, -5.065280437469482, -7.856975078582764, 5.129558086395264, 16.210872650146484, 6.093477725982666, -14.925393104553223, 7.192037105560303, 4.3449273109436035, 8.899725914001465, -4.256286144256592, -1.912099003791809, 0.6463901996612549, -5.904836177825928, 11.55445671081543, -6.349879741668701, 7.562744617462158, -3.561333417892456, 3.9976279735565186, 6.3273210525512695, 3.6109344959259033, 15.30958080291748, -7.407545566558838, -2.4414377212524414, 5.567021369934082, 13.719346046447754, 8.286388397216797, -20.618484497070312, 6.677567958831787, -3.3669090270996094, -2.6416995525360107, 13.968618392944336, 6.841251373291016, 5.9870829582214355, 15.152073860168457, -9.569042205810547, 11.405036926269531, 7.660036563873291, 1.3244729042053223, -4.131900787353516, -14.539652824401855, 14.143791198730469, -12.11562442779541, -8.395544052124023, 10.948309898376465, 7.451411724090576, -0.6865597367286682, -11.113171577453613, -1.009184718132019, -0.5937725305557251, 13.16322135925293, 0.17552389204502106, 2.742537021636963, 9.059743881225586, -5.658268928527832, 13.011611938476562, -5.661799430847168, 10.622336387634277, -1.501397728919983, 12.458030700683594, 0.08316728472709656, -4.680062294006348, -10.067716598510742, -5.748781681060791, 15.031828880310059, 4.15587854385376, 18.834705352783203, -4.406009197235107, -10.996842384338379, 1.1851829290390015, -7.428516387939453, -2.2260117530822754, -1.9579477310180664, -2.337217092514038, -0.8788561224937439, -8.109614372253418, -5.075192451477051, -8.37682056427002, -8.601482391357422, 9.2049560546875, -6.204531669616699, -2.790327787399292, -8.984522819519043, -10.229246139526367, -6.917385578155518, -8.8984956741333, 0.6592895984649658, -2.7495784759521484, -6.36789083480835, -11.012202262878418, 4.023736953735352, -3.3280577659606934, -3.812671184539795, 8.472532272338867, -8.041960716247559, 4.547163486480713, -4.3317108154296875, -14.501343727111816, -21.14728355407715, -5.683716773986816, -1.3426647186279297, -13.078971862792969, -10.653651237487793, -13.76529312133789, 19.383729934692383, -9.749083518981934, 8.663774490356445, 11.930879592895508, 11.063908576965332, -10.56135368347168, -11.47804069519043, 12.941177368164062, 7.43990421295166, 11.617940902709961, 2.5583958625793457, -13.429777145385742, 13.8856840133667, -16.535844802856445, -8.407315254211426, -17.404842376708984, -11.889296531677246, -10.12257194519043, 4.877516746520996, 6.979106903076172, 12.0786771774292, -9.909772872924805, 7.590534687042236, -18.196332931518555, 6.163496971130371, -10.088088035583496, 3.894127368927002, -4.604336738586426, 11.783534049987793, 10.105207443237305, -22.720691680908203, -21.442123413085938, -20.391551971435547, -4.454256057739258, -17.119478225708008, -3.7123968601226807, 13.954388618469238, -1.6928558349609375, -2.451664686203003, -4.222530364990234, -3.8337199687957764, -4.512009620666504, 10.179259300231934, -0.6204936504364014, -8.857510566711426, -9.523000717163086, 9.480749130249023, -10.018790245056152, -5.864161968231201, 6.454743385314941, -0.46022891998291016, -0.09669125825166702, 8.351592063903809, -5.14610481262207, 3.506470203399658, -0.762933611869812, 9.08505630493164, 5.278325080871582, -15.267334938049316, 5.365055084228516, -8.80673885345459, 14.958494186401367, 1.6543476581573486, 10.582566261291504, 7.935954570770264, -16.662296295166016, -3.144263982772827, -9.921422004699707, -15.491410255432129, -3.486341953277588, -18.637880325317383, -12.721367835998535, -13.811001777648926, 14.459192276000977, -0.6448010802268982, 5.620227336883545, 0.45021364092826843, -6.654262542724609, 7.423614978790283, -2.9000091552734375, -7.7345499992370605, 10.382301330566406, -12.767800331115723, -8.804121971130371, 3.009406805038452, 9.078906059265137, -0.00750300008803606, -5.5190629959106445, 12.41958236694336, 14.33678913116455, 2.679169178009033, 11.399820327758789, 10.878011703491211, 4.331753253936768, 8.75171184539795, -11.455101013183594, -1.2526527643203735, 4.535243511199951, 1.309036135673523, 1.9753708839416504, -8.173274993896484, -4.230040073394775, 0.23422659933567047, -7.370792388916016, -15.728408813476562, 2.119002342224121, 2.328035831451416, -3.985089063644409, -8.382925033569336, 12.5018310546875, 6.731740474700928, -21.652732849121094, -5.482682704925537, 7.306612491607666, 3.412818431854248, 12.109233856201172, 2.6333043575286865, -4.212879657745361, 7.734285354614258, 15.116947174072266, 3.002223014831543, 2.1282734870910645, 2.165666341781616, -7.8523359298706055, 13.658897399902344, -2.891005277633667, -16.655517578125, 4.413011074066162, 15.729488372802734, 14.82577133178711, 15.93919849395752, -5.5315399169921875, -1.1841940879821777, -13.289240837097168, 3.0393247604370117, 10.674820899963379, -3.2889621257781982, -9.928584098815918, -5.6340789794921875, 17.884963989257812, 8.003329277038574, -7.229789733886719, -9.623061180114746, -9.086986541748047, 10.332165718078613, -11.041833877563477, 8.778366088867188, -9.05878734588623, 1.7268754243850708, 3.036855459213257, 1.4454315900802612, 9.539454460144043, 3.5319747924804688, 1.581432819366455, -0.30891966819763184, 12.340402603149414, 6.332348823547363, -12.869939804077148, 12.0609712600708, -7.281795024871826, 7.307857036590576, 12.777481079101562, 7.23358678817749, 8.983644485473633, 16.95244789123535, -6.638792514801025, -6.022815227508545, 2.715787887573242, -2.27345871925354, 3.7292630672454834, 4.525698661804199, 4.598536491394043, -0.26074904203414917, 1.081270694732666, -9.247718811035156, 11.1842041015625, -12.29942512512207, -15.892485618591309, 5.0731329917907715, 7.561849594116211, 18.447914123535156, 1.585221767425537, 6.268327713012695, -5.065830707550049, 8.595112800598145, 14.957651138305664, -13.096439361572266, 5.968369007110596, 5.097465991973877, 15.286370277404785, 11.701316833496094, 10.386581420898438, 4.598404884338379, -0.7448477745056152, 1.0294559001922607, 8.56822395324707, -4.25692081451416, -10.099087715148926, 11.440956115722656, -6.150468826293945, -3.2675466537475586, 11.543055534362793, -18.859891891479492, -6.651185512542725, 2.636213779449463, -11.957758903503418, -6.692812442779541, -12.043399810791016, -11.188077926635742, 5.761685848236084, 4.264816761016846, 2.4190595149993896, -2.111830472946167, 3.7264721393585205, -10.063944816589355, -6.806086540222168, -11.526620864868164, 8.363007545471191, -3.811943292617798, -5.208371639251709, -21.424922943115234, 4.922933578491211, -1.3257473707199097, -0.29101893305778503, -7.143094539642334, -9.844281196594238, 7.159755229949951, -23.682109832763672, 7.397087574005127, 10.038390159606934, 8.825751304626465, 5.480820178985596, 12.240293502807617, 12.921782493591309, 11.067831039428711, -1.0620734691619873, 12.22680377960205, 10.34522819519043, -0.027949970215559006, -1.7905125617980957, 1.9597539901733398, -12.048471450805664, -3.1885085105895996, -4.737060070037842, -2.8454508781433105, 12.334097862243652, 3.0729715824127197, -13.754904747009277, -18.209115982055664, -11.12421703338623, -1.6255615949630737, 12.997297286987305, 6.94748592376709, -0.4916543960571289, -13.367774963378906, 1.1047598123550415, 12.66705322265625, 12.860869407653809, 5.187445163726807, -3.7718253135681152, -5.183950424194336, 9.242314338684082, -7.77217960357666, -4.490373134613037, -2.2863898277282715, 9.883766174316406, -10.46345329284668, -4.876814365386963, 8.069526672363281, -2.7331902980804443, 11.321253776550293, -4.853268623352051, -11.650531768798828, 10.568954467773438, -15.283575057983398, 2.2101027965545654, -0.35878661274909973, 7.6774373054504395, -1.1491786241531372, 13.869949340820312, 16.37213134765625, -4.388108730316162, -0.36825844645500183, -7.954134464263916, 9.437581062316895, -0.919242262840271, 8.338582038879395, 10.656025886535645, 16.018102645874023, -7.794076919555664, -6.772608757019043, 11.285691261291504, -0.11628571152687073, 7.632448673248291, -17.258893966674805, 9.394552230834961, 9.219910621643066, -11.630669593811035, 5.629929542541504, 6.324593544006348, 7.696962356567383, -1.3698866367340088, 7.444014072418213, -1.1403324604034424, 12.066776275634766, 7.740487098693848, -13.941459655761719, -18.42683982849121, 16.537076950073242, -0.21787171065807343, -3.3910632133483887, 6.5584716796875, -3.200293779373169, -1.6372014284133911, -1.2707494497299194, 6.706227779388428, 8.501487731933594, 17.153348922729492, 6.47363805770874, -10.402968406677246, 3.9569950103759766, 2.7237629890441895, 3.9065234661102295, 4.448635578155518, 7.8272318840026855, 6.703306674957275, 5.895873546600342, -0.8431703448295593, -14.266387939453125, 3.469940662384033, 7.972463607788086, 10.744649887084961, -10.193195343017578, -4.601507186889648, -14.397056579589844, -10.991955757141113, 1.2890667915344238, 10.151318550109863, -1.9901219606399536, -5.253201484680176, -9.03928279876709, 18.711179733276367, -12.56420612335205, -3.9817683696746826, 9.400544166564941, 5.410786151885986, 3.1024155616760254, -5.4736762046813965, 9.608942985534668, 3.7142434120178223, -0.4577391445636749, 0.11555027961730957, -14.924079895019531, -20.393278121948242, 3.278803825378418, -11.612174034118652, 2.9509170055389404, 9.94684886932373, 8.832762718200684, 7.804599761962891, 8.515054702758789, 5.37846040725708, 0.9244890809059143, -14.026788711547852, -5.102430820465088, -2.135956287384033, 2.726632833480835, -0.726445198059082, -4.533657073974609, 9.113601684570312, -12.221745491027832, 7.890730857849121, 7.53973388671875, 6.682171821594238, -14.649474143981934, -19.907381057739258, -22.946094512939453, -9.187942504882812, -11.165566444396973, -7.450461387634277, -4.381753921508789, 11.361715316772461, -3.2481000423431396, 7.59567928314209, 1.9884535074234009, 5.508784294128418, 9.045021057128906, 8.251140594482422, 12.197919845581055, -3.576341152191162, 6.57041597366333, -5.303518295288086, -10.457633018493652, -6.7067646980285645, -0.49037280678749084, 7.141951560974121, 2.219780206680298, -8.879271507263184, -8.548853874206543, 6.2636542320251465, 4.3932929039001465, -19.07560157775879, 8.244697570800781, 9.248367309570312, 11.803884506225586, 8.168224334716797, 10.912174224853516, -12.425329208374023, 0.9757583737373352, -8.389575958251953, 3.34066104888916, -14.364749908447266, -14.25787353515625, 6.7367963790893555, -12.20343017578125, 7.077054977416992, 6.2867937088012695, 17.05697250366211, 0.6038756370544434, 6.786982536315918, -2.66343092918396, 1.787443995475769, 8.4119873046875, -5.008501052856445, 0.47957420349121094, 1.0104838609695435, 6.306483268737793, -5.487148761749268, -8.013507843017578, 2.4977402687072754, 1.2181130647659302, 17.841482162475586, 2.8989953994750977, 1.9219812154769897, 11.860654830932617, -8.819344520568848, 10.517748832702637, -10.75899887084961, -6.238669395446777, -21.893136978149414, -10.847997665405273, 2.804750680923462, -1.6729334592819214, 8.213486671447754, -5.2934699058532715, -10.723006248474121, 10.114996910095215, -7.104187488555908, 8.14883804321289, 1.314704179763794, 5.865890979766846, 12.333664894104004, -6.107883453369141, 7.281391143798828, -10.18918228149414, -9.616092681884766, -13.044501304626465, 7.025101661682129, 3.5867621898651123, -11.163578987121582, -11.362704277038574, -10.677339553833008, 12.194771766662598, -10.21491527557373, 6.273117542266846, -3.611703872680664, 6.775332450866699, -7.717637062072754, -10.667882919311523, 2.8205225467681885, -10.992979049682617, -21.46360206604004, -10.53589153289795, 7.639496803283691, -11.348211288452148, 3.1109094619750977, -21.191492080688477, -9.890945434570312, 10.947588920593262, -11.711580276489258, -5.981432914733887, 8.21883773803711, -10.110676765441895, -11.305371284484863, 3.3972396850585938, -10.17558479309082, -10.845480918884277, -8.809660911560059, 12.470545768737793, 0.9860679507255554, 10.604326248168945, -8.950246810913086, -1.900736689567566, -10.259374618530273, -10.692465782165527, 11.813421249389648, -5.088332176208496, 10.4043550491333, 5.426424026489258, 3.695650577545166, -20.859745025634766, 7.326484680175781, 4.027672290802002, -13.991512298583984, -10.584519386291504, 10.432737350463867, -11.905146598815918, -14.76938247680664, 13.871962547302246, -15.052329063415527, -14.864209175109863, -15.209512710571289, -2.8186275959014893, 1.6100496053695679, 4.362143516540527, -13.720959663391113, 13.536952018737793, 7.448493480682373, -22.739116668701172, -21.638978958129883, -0.8650280833244324, 4.795901775360107, -6.130609512329102, -20.01741600036621, -5.89399528503418, 12.644423484802246, 3.6691370010375977, 5.72269344329834, -6.174746036529541, 9.713475227355957, 4.044907093048096, -10.826634407043457, -9.034558296203613, 6.370447158813477, -6.728271007537842, 4.231502056121826, -11.295904159545898, -11.827054023742676, 12.10539722442627, 11.664673805236816, -9.791868209838867, -2.23683500289917, -6.51491641998291, -5.646572113037109, -15.510242462158203, -14.653813362121582, -9.647315979003906, -13.728116989135742, 10.404997825622559, 8.32534122467041, 3.148353099822998, 10.719680786132812, -12.967801094055176, 9.933219909667969, 9.804067611694336, 6.0280914306640625, -22.026884078979492, 4.75577449798584, -7.455629825592041, 12.716166496276855, 2.3534066677093506, 8.894810676574707, -1.2435920238494873, -0.48940786719322205, -4.4416184425354, 6.975697994232178, 10.656562805175781, -14.050236701965332, 1.2077287435531616, -0.100002221763134, -13.898716926574707, 0.5871781706809998, 8.33803939819336, 3.3114755153656006, -1.2920399904251099, 7.383841514587402, 3.2888002395629883, -14.046285629272461, 8.431000709533691, -1.8326174020767212, 0.7618719339370728, -14.429681777954102, -5.399429798126221, -13.555500984191895, 7.39294958114624, 2.3708314895629883, 6.205468654632568, -8.836554527282715, 13.23391342163086, 4.270481586456299, -3.9924099445343018, 1.4801040887832642, 4.364490509033203, -1.126275658607483, 17.935373306274414, 1.7925546169281006, 2.4322359561920166, -14.517555236816406, 10.502151489257812, 7.153201580047607, 3.6338040828704834, 6.304871082305908, -20.808319091796875, -0.9362959265708923, 9.58546257019043, 0.32923680543899536, -4.817234992980957, -8.766660690307617, 9.040023803710938, 0.9844475984573364, 5.268117427825928, 1.6609386205673218, 1.813789963722229, 2.9403774738311768, -5.985054016113281, 12.607497215270996, -0.3496127724647522, -2.9826278686523438, 1.63051176071167, -7.325448989868164, -8.776972770690918, -23.081727981567383, -5.53314208984375, -2.184539556503296, 9.713766098022461, 2.0452940464019775, 6.112857818603516, -6.7862372398376465, 5.281397819519043, -8.135457038879395, -9.857307434082031, 10.546943664550781, -1.3093405961990356, -6.015429496765137, 14.159126281738281, -3.0699820518493652, -4.398118495941162, 10.593480110168457, 10.188064575195312, 0.9571771621704102, 3.2365903854370117, 1.1403350830078125, 7.798750400543213, -8.87218952178955, -7.320070266723633, 1.5767492055892944, 2.000497341156006, -12.452143669128418, -8.052306175231934, -8.466552734375, -8.144968032836914, -6.387442111968994, -11.53564167022705, 1.2956678867340088, -3.1822681427001953, 6.294508457183838, -7.1324639320373535, -4.85145902633667, -17.788949966430664, -4.6234025955200195, 4.104996204376221, -0.10775718092918396, 3.5434999465942383, 3.6288864612579346, 10.061726570129395, 3.439842462539673, -9.269054412841797, 3.9785969257354736, -10.561359405517578, -10.861072540283203, -17.783676147460938, 2.0682108402252197, -2.5773112773895264, 10.284332275390625, -17.748558044433594, 5.514605522155762, -3.1861183643341064, -8.560330390930176, 4.58587646484375, -10.02330493927002, 8.115398406982422, -10.439603805541992, -9.588146209716797, -10.219182968139648, 1.5830694437026978, -9.174202919006348, 0.021946076303720474, 3.0818958282470703, -10.795982360839844, -6.176366329193115, 3.138244867324829, -6.046458721160889, -6.181947708129883, -9.830427169799805, -9.815126419067383, -10.183884620666504, -10.24693489074707, -9.347085952758789, -21.170888900756836, -10.09138011932373, -9.639572143554688, 2.608506202697754, -10.122610092163086, 4.560801029205322, 5.048216342926025, -21.12942123413086, -9.303140640258789, -9.493463516235352, -15.255738258361816, 13.613513946533203, -15.519092559814453, -2.1237494945526123, 2.7920315265655518, 4.711159706115723, 1.1496012210845947, 4.984191417694092, -5.689022541046143, -19.577852249145508, -11.171006202697754, 9.948241233825684, -0.455160528421402, -6.436522960662842, 2.905475616455078, 0.9342390894889832, -3.605349540710449, 8.984222412109375, -6.959126949310303, 7.6775431632995605, -14.400884628295898, -6.458517551422119, -7.365435600280762, 1.2664377689361572, 7.7308669090271, -11.910575866699219, 4.288461685180664, 0.3522557020187378, 1.1160612106323242, 6.823680877685547, 2.622004985809326, -7.123539924621582, 5.3955206871032715, -4.739265441894531, -5.937927722930908, -1.1208529472351074, -9.683968544006348, -17.002470016479492, -5.137970924377441, -8.690537452697754, 2.483060598373413, -2.019137382507324, -21.69934844970703, -1.568415880203247, -22.095842361450195, -22.169710159301758, -21.540943145751953, -21.90436363220215, 2.4739067554473877, -21.66207504272461, 0.3129531741142273, -22.39898109436035, -21.708890914916992, 1.2779432535171509, 6.982326030731201, 2.6481122970581055, 3.7013609409332275, 2.710848093032837, 7.564629077911377, -21.900102615356445, 4.094927787780762, -21.944841384887695, 1.4994107484817505, 3.148400068283081, 2.438215732574463, 1.9728823900222778, 3.973998546600342, 3.5445902347564697, -9.19591236114502, 2.974219799041748, -11.623405456542969, -4.800865650177002, -6.288336753845215, -6.10609245300293, -14.439114570617676, -10.809545516967773, 3.3966023921966553, 1.9589903354644775, -12.195321083068848, -15.38530158996582, -15.390188217163086, -12.016075134277344, -15.409943580627441, -5.065077781677246, -6.30098819732666, -6.05722713470459, -7.323176860809326, 3.2496774196624756, -6.569208145141602, -12.4656400680542, -5.006059169769287, -12.821561813354492, -10.932303428649902, -9.421792030334473, -12.463561058044434], \"xaxis\": \"x\", \"y\": [-5.990853786468506, -10.801307678222656, -11.6310453414917, -6.4534525871276855, -13.52495288848877, 15.169266700744629, 20.11302375793457, 37.30989074707031, 36.58723831176758, 19.8702335357666, 15.05050277709961, 11.272263526916504, 26.79361343383789, 26.41353416442871, -2.6497092247009277, 14.175275802612305, -7.662266731262207, 2.473543643951416, 16.286056518554688, 23.623327255249023, -15.543596267700195, -5.043612003326416, 42.99803924560547, -5.5815629959106445, -12.748260498046875, 12.82587718963623, 7.876593112945557, -2.0878493785858154, -18.99893569946289, 16.712942123413086, -6.982168674468994, 20.963136672973633, -8.862630844116211, 3.8632993698120117, -42.53944778442383, -27.287256240844727, -3.7946479320526123, -14.6976900100708, 4.2992072105407715, -23.41618537902832, -6.895196914672852, 16.754491806030273, -4.308842658996582, 19.939285278320312, 18.1166934967041, 25.682754516601562, 26.393089294433594, 27.293508529663086, 20.17694664001465, 1.6650128364562988, -8.690591812133789, 30.775476455688477, 13.865482330322266, -9.128334045410156, 17.280818939208984, 19.606477737426758, 28.23250961303711, 25.893354415893555, 21.847885131835938, 21.75598907470703, 22.417293548583984, -23.39714241027832, -12.420166015625, 11.317251205444336, 15.419172286987305, -3.9485363960266113, -8.053736686706543, -5.384651184082031, -4.946826457977295, 18.27938461303711, -1.017188549041748, -10.157591819763184, -5.455694675445557, 7.077879428863525, -11.542280197143555, -3.9542124271392822, -5.8123064041137695, -26.022809982299805, -5.424508571624756, -13.249870300292969, 22.063106536865234, -9.271929740905762, 21.4998779296875, -3.022636890411377, -6.632749080657959, 32.49999237060547, 24.49223518371582, -4.1983256340026855, 21.97612762451172, 2.423203945159912, 21.03890609741211, 12.266615867614746, 16.765031814575195, -13.464183807373047, -4.392358779907227, 0.5493840575218201, -0.38001328706741333, 38.80068588256836, 39.280242919921875, 43.16404342651367, -11.322495460510254, -13.628798484802246, -36.73713302612305, -38.668312072753906, -21.98656463623047, -19.816619873046875, 22.856618881225586, 1.965118646621704, -8.28454875946045, -22.286113739013672, 5.667046070098877, -22.119169235229492, 18.57400894165039, 23.023698806762695, -9.261091232299805, 25.0144100189209, -13.031618118286133, -13.988565444946289, 30.914844512939453, -24.932186126708984, -12.519020080566406, 4.489361763000488, -8.443337440490723, 27.230037689208984, -13.133626937866211, 5.936071395874023, 42.59695053100586, -8.907973289489746, 19.841886520385742, -29.570308685302734, 35.30723571777344, 39.309024810791016, 39.34053039550781, 42.57905197143555, 40.54172134399414, 34.73239517211914, 26.704452514648438, -26.640159606933594, -29.228431701660156, -19.135284423828125, 0.6061968207359314, -10.551342010498047, -0.5873622894287109, 2.843130111694336, -17.87595558166504, -2.872163772583008, -9.573071479797363, -17.133983612060547, 8.42916488647461, 26.63204002380371, 23.81923484802246, 26.003402709960938, 30.05524444580078, 17.4698543548584, -4.408255100250244, 20.025854110717773, 15.87790584564209, -31.333858489990234, -0.3101065754890442, 10.705370903015137, -6.580691337585449, 38.41545104980469, -3.3439364433288574, -5.043227195739746, 22.81452178955078, 23.006332397460938, -8.843186378479004, 21.275407791137695, 27.073572158813477, 22.57603645324707, 22.942371368408203, 1.508467435836792, 0.5375834107398987, 1.6614258289337158, 22.57920265197754, 19.260412216186523, 29.44268035888672, 37.66332244873047, 40.04570007324219, 22.83481216430664, 1.644179344177246, 15.861897468566895, 31.822538375854492, 14.294018745422363, 40.65657043457031, -8.05154800415039, 41.53529357910156, 15.787606239318848, 17.8146915435791, 36.43745040893555, 39.92061996459961, 19.69654655456543, 40.72470474243164, 39.699947357177734, -0.5448622107505798, 20.598796844482422, 36.81351852416992, 16.91546058654785, 39.56903076171875, 25.81668472290039, 16.92780303955078, -3.3259875774383545, 21.08910369873047, 0.9855303764343262, 34.41951370239258, 17.354537963867188, 19.419063568115234, 36.331600189208984, 30.022335052490234, -5.186251163482666, 38.25970458984375, 18.315486907958984, 34.47856140136719, 21.202482223510742, -3.766770124435425, 21.050052642822266, -7.624947547912598, -10.08156967163086, -10.508496284484863, -4.589173316955566, 22.69327735900879, -6.3387064933776855, 22.396455764770508, 18.636953353881836, -1.9049514532089233, -11.167889595031738, -10.758341789245605, -0.6597468852996826, -9.26948356628418, -14.56895923614502, -29.941110610961914, -6.739821910858154, -10.351198196411133, 41.45997619628906, -17.905120849609375, 14.65509033203125, 1.1661008596420288, 23.03092384338379, -7.432332515716553, 11.367671966552734, -7.648142337799072, 28.77140998840332, -15.919877052307129, 4.996887683868408, -12.429333686828613, 14.508820533752441, -24.97524642944336, 17.92807388305664, -4.0420966148376465, 0.4401618540287018, 16.891775131225586, -13.577275276184082, 8.690450668334961, -30.74559211730957, -14.393535614013672, 13.129976272583008, -4.075534343719482, 12.608957290649414, -16.68863868713379, -26.929906845092773, -21.46653938293457, 27.002117156982422, -37.83421325683594, -21.525625228881836, -4.868792533874512, -7.150548934936523, -0.6280178427696228, 15.658567428588867, 29.78172492980957, -7.980356693267822, -11.792055130004883, 17.084192276000977, -4.244904518127441, -4.622089862823486, 32.41974639892578, 27.49955177307129, 31.61595916748047, -8.861772537231445, 29.471254348754883, -13.41511058807373, -19.479007720947266, -13.107369422912598, 16.209970474243164, 1.4532734155654907, 28.531192779541016, 30.037158966064453, 7.016757488250732, -9.192326545715332, 4.675395965576172, 4.250922203063965, -12.180680274963379, 20.366653442382812, 17.92811393737793, -12.695650100708008, -6.224895477294922, 3.581202745437622, 15.708230972290039, -5.731507301330566, 9.759315490722656, -13.549013137817383, -9.751779556274414, 16.727027893066406, 13.933948516845703, -10.447101593017578, 13.570693969726562, 19.14907455444336, -9.358713150024414, 11.766216278076172, -13.590921401977539, -10.764015197753906, 29.098682403564453, 3.364316701889038, 12.006507873535156, -36.04113006591797, 16.394317626953125, 16.372154235839844, 22.675769805908203, 39.4193000793457, 25.485553741455078, 13.410977363586426, 10.728720664978027, -14.909526824951172, -15.892565727233887, 7.458047389984131, -25.663372039794922, -13.645212173461914, -8.784354209899902, -13.199042320251465, -16.918533325195312, 3.943089723587036, -8.512472152709961, -10.93671989440918, -12.52923583984375, 9.387581825256348, -19.075071334838867, -17.28940200805664, 28.210309982299805, -16.310495376586914, 5.2965087890625, 12.96306037902832, 9.26449203491211, -25.108522415161133, -12.600397109985352, 12.078529357910156, 19.224082946777344, 13.689997673034668, 15.316983222961426, -16.656578063964844, -14.672039985656738, -20.54772186279297, -17.089862823486328, -34.11039352416992, -24.99993896484375, -10.98446273803711, -6.647977352142334, -0.5137296915054321, 41.57123565673828, -24.963638305664062, 10.511998176574707, 11.577178955078125, 6.5940022468566895, 9.392606735229492, -19.14202308654785, -25.801998138427734, -6.109159469604492, -9.221792221069336, -1.5826548337936401, -32.59141159057617, 0.10457025468349457, -19.749799728393555, 19.5615291595459, 14.462122917175293, -25.091691970825195, -29.462688446044922, -31.787158966064453, -24.823015213012695, -26.490379333496094, -1.692677617073059, 2.7083866596221924, -7.4451422691345215, 16.797250747680664, 22.910409927368164, -32.32732391357422, -28.767269134521484, -8.505354881286621, 9.100564956665039, 16.279640197753906, -25.71855354309082, -3.198218822479248, 4.324988842010498, -21.75300407409668, -11.576231956481934, -2.4753835201263428, -20.013505935668945, -31.056594848632812, 6.345347881317139, -21.602182388305664, -32.937896728515625, -9.74470043182373, -19.984859466552734, 6.147945880889893, -3.979865312576294, -11.186087608337402, 41.00896453857422, -14.086539268493652, -22.8911190032959, -21.901355743408203, 27.2665958404541, -4.473511695861816, -4.858174800872803, -20.99884796142578, 2.405160903930664, -5.60692834854126, 10.884029388427734, -16.782451629638672, 1.3719829320907593, -0.7483779191970825, -0.4110895097255707, 0.35214534401893616, 32.23664855957031, 0.4287833571434021, 6.025346755981445, 39.478614807128906, -40.504730224609375, 21.051145553588867, -16.620359420776367, 37.32883071899414, 33.65616989135742, 32.46990203857422, 18.874488830566406, -7.90280818939209, 38.62282943725586, 13.93778133392334, 32.60324478149414, 36.45922088623047, -4.249022483825684, -42.60805130004883, -41.20044708251953, -42.73516082763672, -40.156227111816406, -20.57195281982422, -39.358463287353516, 33.25698471069336, 5.084510326385498, 21.618144989013672, -19.22329330444336, 9.339123725891113, 0.8144388794898987, 7.997196197509766, -28.56250762939453, -1.9651442766189575, -17.376569747924805, -31.15582275390625, -15.854398727416992, -10.027592658996582, -21.70281410217285, -22.250946044921875, 8.59022045135498, 8.343342781066895, 2.2671589851379395, 15.942495346069336, 28.411176681518555, 19.151657104492188, 23.39609146118164, 1.448501467704773, 26.633018493652344, 26.120731353759766, -5.210147380828857, 16.999391555786133, -9.06412410736084, -2.94952130317688, -15.7838134765625, 23.081430435180664, 38.27149200439453, 22.631874084472656, -4.746622085571289, 21.814016342163086, 35.55031967163086, 39.70676803588867, 37.72611999511719, 37.10850524902344, 39.81924057006836, 37.39706802368164, 33.95561218261719, 25.009302139282227, 0.9330508708953857, 36.73715591430664, 38.26446533203125, 27.553089141845703, 31.957996368408203, 33.65354919433594, 31.57550811767578, 34.4897346496582, 40.206443786621094, -0.18086040019989014, 39.79147720336914, 30.177827835083008, 33.99089431762695, 26.981090545654297, 32.65040969848633, 41.004249572753906, 30.41103744506836, 15.795680046081543, 29.090065002441406, 33.17266845703125, 32.42837905883789, 36.99435043334961, 28.95490074157715, 33.43057632446289, 33.09700012207031, 40.598045349121094, 21.886051177978516, 31.10961151123047, 28.909011840820312, 41.078033447265625, 13.55813980102539, 29.216115951538086, 17.928295135498047, 34.85105514526367, 42.09548568725586, 24.649303436279297, 31.29508399963379, 30.07115364074707, 33.46477127075195, 34.85587692260742, 41.57908248901367, 39.480438232421875, 39.57719802856445, 32.59672546386719, 30.139482498168945, 26.39634132385254, 15.541552543640137, 20.38809585571289, 30.412708282470703, -14.136719703674316, 25.80885124206543, 28.924833297729492, -13.271002769470215, -17.513547897338867, -14.716656684875488, -21.4405460357666, -30.2098388671875, 27.331954956054688, 11.519719123840332, -34.38240432739258, -14.119976997375488, 14.633434295654297, -29.97679328918457, 19.857585906982422, -8.707725524902344, -30.926921844482422, -16.201568603515625, -14.90226936340332, -18.4139461517334, -32.65376281738281, 5.3919525146484375, 29.088115692138672, 15.232016563415527, -11.710413932800293, -17.691627502441406, -10.212454795837402, -0.40054887533187866, -7.536616325378418, -25.678285598754883, -28.577560424804688, -8.008386611938477, -16.746496200561523, -3.169088125228882, 0.30909550189971924, 6.0027899742126465, -31.706438064575195, -17.109159469604492, -5.634902477264404, -25.797998428344727, -22.46734046936035, -17.146522521972656, -41.722225189208984, -16.12227439880371, -14.622788429260254, 17.687862396240234, 14.636554718017578, 24.73073387145996, 12.459158897399902, 9.44941234588623, -30.140810012817383, -29.204280853271484, 15.223143577575684, -3.301764726638794, 37.46179962158203, -34.87093734741211, -2.770764112472534, 11.185900688171387, 29.978628158569336, 5.5922160148620605, -18.12645721435547, -6.832230091094971, -14.64365005493164, -25.59572410583496, -41.04448699951172, 8.561756134033203, 28.31342315673828, 31.248552322387695, 41.48208999633789, 30.636106491088867, 25.692529678344727, 34.306827545166016, 34.58415603637695, 27.896442413330078, 1.9755898714065552, 33.49405288696289, 34.88842010498047, 31.463451385498047, 15.245265007019043, 28.570932388305664, 28.89818000793457, 12.409902572631836, 30.701438903808594, 30.820228576660156, -0.6744424700737, -12.555312156677246, 11.330733299255371, -16.940357208251953, -15.816119194030762, 9.197067260742188, 0.4613110423088074, 32.33833694458008, -9.918253898620605, -12.98632526397705, 6.4034199714660645, -9.990221977233887, 24.51891326904297, 31.092954635620117, 32.38414764404297, 31.68840789794922, 6.418564319610596, 11.099719047546387, 6.810644626617432, 33.30820846557617, 27.507593154907227, 16.86297607421875, 20.41306495666504, 15.784167289733887, 26.425338745117188, 34.50424575805664, 27.48896598815918, 20.669076919555664, 36.94679260253906, 29.893325805664062, 25.428422927856445, 19.116954803466797, 40.53462219238281, 19.776073455810547, 28.15839195251465, 38.52518081665039, 35.835227966308594, 37.82155227661133, 35.86704635620117, -4.60822868347168, 33.617313385009766, 5.966522216796875, 34.521305084228516, 13.41591739654541, 24.141258239746094, 18.933990478515625, 3.499950885772705, -26.149993896484375, -21.487045288085938, 7.423682689666748, -35.87821578979492, -5.376842975616455, 24.013736724853516, -21.935420989990234, -2.3472347259521484, 10.583433151245117, 38.09364318847656, 6.436041831970215, -62.187530517578125, -15.908442497253418, 11.190902709960938, -6.893438816070557, -21.104785919189453, -16.625978469848633, -21.07264518737793, -1.938534140586853, -13.092545509338379, 32.00153350830078, -25.287582397460938, -25.108776092529297, -14.632822036743164, -9.20344352722168, 29.109230041503906, -4.762765407562256, 15.625149726867676, 28.026443481445312, 8.435680389404297, -2.376620054244995, 8.681916236877441, -0.9778428077697754, 19.087322235107422, -2.3187639713287354, 23.813358306884766, -9.085862159729004, 18.09494972229004, 4.788625240325928, 33.4128532409668, 1.916656494140625, 17.731468200683594, 29.80929183959961, 29.763822555541992, -7.8400468826293945, -63.60361862182617, 10.932449340820312, 8.041833877563477, 9.972807884216309, 23.338289260864258, 4.5497145652771, -15.312744140625, 11.981929779052734, -24.782081604003906, -14.084498405456543, -8.42940902709961, -5.333279132843018, 4.661137104034424, 38.27617263793945, -4.306000709533691, -16.67734146118164, 3.224881649017334, -13.526827812194824, -6.2958245277404785, 27.551607131958008, -5.897383689880371, -1.9118645191192627, 18.370285034179688, -29.2686767578125, 0.5194878578186035, 31.340707778930664, 7.6199140548706055, -12.474310874938965, -3.9848599433898926, 18.68735122680664, 11.712224006652832, -13.196951866149902, -27.072641372680664, 8.394579887390137, 9.756494522094727, 10.796089172363281, 10.219832420349121, -13.373970985412598, -19.280624389648438, 12.822591781616211, -8.040873527526855, 3.55983567237854, 16.657243728637695, -6.708971977233887, -13.21735668182373, -19.04197883605957, -1.559647560119629, -30.90680503845215, -25.006912231445312, 7.504861831665039, -1.8410013914108276, 11.679115295410156, -4.973122596740723, 4.109766483306885, 3.0081028938293457, 5.8652448654174805, -1.8859539031982422, -23.29486656188965, -26.67107582092285, 23.37731170654297, -24.70853042602539, 16.86279296875, 5.647040843963623, -13.844439506530762, -6.667418956756592, 0.6899213790893555, -29.038555145263672, 34.14316940307617, -17.72069549560547, -0.1098196730017662, -12.004069328308105, 1.2178747653961182, -12.24012279510498, -62.190345764160156, -5.961672782897949, 5.856851577758789, -9.999175071716309, -62.01942825317383, 26.663076400756836, -11.12775707244873, -31.868709564208984, 32.38996505737305, 13.224677085876465, -1.3990329504013062, -30.478662490844727, -11.5852632522583, -20.066787719726562, -31.457414627075195, 25.230382919311523, -15.141239166259766, -21.67950439453125, -12.541799545288086, 4.951429843902588, -21.09791374206543, 26.733814239501953, 23.440372467041016, 2.8771908283233643, -15.815455436706543, -12.226411819458008, -21.389169692993164, 19.594242095947266, -17.500633239746094, 21.05738067626953, -62.78939437866211, -15.121563911437988, -26.20785140991211, 1.7211894989013672, 4.611751079559326, -18.346641540527344, -20.289615631103516, -11.432353019714355, 9.695823669433594, -6.707946300506592, 5.054641246795654, -13.350078582763672, -21.247732162475586, -18.05898666381836, -17.832643508911133, -13.890144348144531, -37.57784652709961, -29.75994300842285, 5.431548118591309, -18.11907958984375, -21.73076629638672, 18.55512046813965, 28.630416870117188, 33.43585968017578, -35.513851165771484, -37.298038482666016, -16.947998046875, -16.62051773071289, 5.4297099113464355, 6.664548397064209, 15.234659194946289, -0.11228170245885849, -13.066873550415039, 25.04765510559082, 21.619182586669922, -19.04975128173828, 29.750064849853516, 22.837902069091797, -39.7559700012207, 14.931624412536621, 14.817928314208984, 18.649723052978516, 23.195730209350586, 5.227447509765625, -43.92451477050781, 6.406930923461914, -16.962087631225586, 8.090582847595215, -36.20613098144531, 32.425872802734375, 0.9935808777809143, 15.872154235839844, -4.537065029144287, 24.89630699157715, 24.288131713867188, -11.445942878723145, -1.8639757633209229, -25.032371520996094, 11.943583488464355, -11.019744873046875, 14.487895011901855, 6.986453533172607, -22.975488662719727, -19.37166976928711, -21.034582138061523, -14.492544174194336, 14.085654258728027, -19.028295516967773, 13.997572898864746, 10.71436595916748, 12.982715606689453, -24.681127548217773, -9.857686042785645, 17.35720443725586, 7.328274250030518, 16.705474853515625, -32.45980453491211, -17.55071449279785, -21.969837188720703, -20.249629974365234, -39.78413391113281, -8.04482650756836, 19.28301429748535, -24.34185791015625, 9.733423233032227, 14.013808250427246, 12.443338394165039, -33.166133880615234, 17.701353073120117, 10.60054874420166, 13.540668487548828, -13.046367645263672, 10.724773406982422, -21.20998764038086, -3.068626642227173, 13.305388450622559, 3.9846973419189453, 5.061067581176758, -5.391278266906738, -40.681922912597656, -7.397973537445068, 25.60695457458496, -3.924192428588867, 7.331486701965332, -6.3285627365112305, 19.262771606445312, 6.193300247192383, 22.805559158325195, 26.174346923828125, 31.18657875061035, -1.5917123556137085, -13.316645622253418, -23.412399291992188, -38.121273040771484, -10.572683334350586, 0.8333673477172852, -17.454708099365234, -27.916135787963867, -12.346965789794922, -18.263370513916016, -18.533178329467773, 28.685733795166016, 6.94207239151001, 10.517148971557617, -19.91705894470215, 1.84902822971344, -23.828784942626953, -11.851958274841309, 25.087921142578125, 10.183688163757324, -23.662565231323242, 24.59913444519043, 2.606076717376709, 18.923709869384766, -26.762508392333984, 6.44281530380249, 5.8374714851379395, -1.452452540397644, 7.393830299377441, 21.019044876098633, 3.084139108657837, 26.262897491455078, 15.937255859375, -25.38363265991211, 14.2146577835083, 18.97495460510254, 20.304584503173828, 20.318588256835938, 9.13034725189209, 26.480806350708008, 31.997472763061523, 25.622631072998047, -2.3254265785217285, 30.890716552734375, 8.225118637084961, 17.895517349243164, 32.19411849975586, 17.974882125854492, 29.740190505981445, 1.7546049356460571, -9.146109580993652, -0.06327682733535767, -35.824745178222656, -17.6259822845459, 7.0294108390808105, -7.620645523071289, 18.132917404174805, -31.99787139892578, -23.404436111450195, -19.916316986083984, -15.952470779418945, 5.5875020027160645, -20.62246322631836, -39.34521484375, -18.3455810546875, 2.2608578205108643, 9.531579971313477, 0.031305644661188126, -26.14820671081543, -1.2076895236968994, 9.676342964172363, 23.36512565612793, -23.696409225463867, -26.7318115234375, -21.956266403198242, -12.855317115783691, -11.09607219696045, -33.812042236328125, -20.9030704498291, -30.248016357421875, -1.5444546937942505, 20.215673446655273, -1.1833064556121826, 19.571285247802734, 11.054342269897461, 7.126120090484619, 11.212989807128906, 11.959197998046875, 13.873987197875977, -23.404705047607422, -12.145161628723145, -13.669943809509277, -12.271581649780273, 29.390382766723633, 1.066311240196228, 10.787650108337402, 35.12055206298828, 22.919025421142578, 31.833606719970703, -22.194133758544922, 21.301227569580078, -19.370880126953125, 9.882610321044922, -44.68621826171875, -18.162450790405273, -30.60140609741211, -33.159812927246094, -11.320326805114746, -17.87767219543457, -20.83197784423828, -29.62697982788086, -19.190523147583008, -24.2470645904541, -42.34874725341797, 2.257047414779663, 35.421485900878906, -26.896419525146484, -13.258566856384277, 2.7784812450408936, -17.932960510253906, 1.0040509700775146, 14.67131519317627, 2.976431369781494, -14.96676254272461, 12.035173416137695, -23.028541564941406, 0.9449998140335083, -12.41788387298584, -33.179405212402344, -5.3993024826049805, -35.01459884643555, -18.109128952026367, 29.107275009155273, 4.475640296936035, 0.00534909637644887, -18.95426368713379, 17.217445373535156, -16.35515785217285, 12.577744483947754, -2.000307321548462, 33.99343490600586, 10.30756664276123, 26.671035766601562, 4.152527809143066, 10.2598237991333, 8.646754264831543, 27.798187255859375, -1.45650053024292, -10.863965034484863, 27.714208602905273, -8.839176177978516, 4.888866901397705, -29.992788314819336, 17.130380630493164, -11.058637619018555, -29.1742000579834, 22.917470932006836, 5.170936107635498, -20.647127151489258, 6.727138996124268, 28.564401626586914, 5.96998405456543, 8.10820484161377, -36.79595947265625, -26.86725425720215, -26.596799850463867, -20.6638240814209, 2.661287784576416, -25.431337356567383, 12.352635383605957, -32.9893684387207, -24.114578247070312, 2.0629396438598633, 11.93466854095459, 19.403791427612305, 22.66923713684082, 4.250018119812012, 16.35379981994629, -35.91731262207031, 23.969791412353516, -29.731529235839844, -19.017593383789062, 4.4131364822387695, 7.0296502113342285, 25.792083740234375, 7.929605960845947, 1.1422715187072754, 15.704571723937988, -6.795058727264404, 24.116018295288086, -2.1390602588653564, 18.68351936340332, 30.465965270996094, 31.65201187133789, 11.437378883361816, -0.4803810715675354, 3.4316279888153076, 31.353736877441406, 22.848453521728516, 29.771455764770508, 2.0611419677734375, 17.463499069213867, 33.59314727783203, -35.08601760864258, 6.514089584350586, 24.11338233947754, 21.305856704711914, 27.711410522460938, -3.8046011924743652, 4.178466796875, 24.362998962402344, 9.143470764160156, 0.781913697719574, 14.150572776794434, -1.0704365968704224, -18.54781723022461, -26.43558120727539, 30.56014633178711, 26.89842414855957, 20.54011344909668, 27.255420684814453, -12.046648025512695, -45.964656829833984, 25.50722885131836, 28.93603515625, 30.205421447753906, 11.359715461730957, -24.046472549438477, -9.6028470993042, 30.74150848388672, 20.5157470703125, -64.77944946289062, 5.085859298706055, -20.46682357788086, 29.033466339111328, 10.683746337890625, 15.175387382507324, 8.825765609741211, -33.70446014404297, -20.662952423095703, -18.83217430114746, -24.66022491455078, 7.367452144622803, 8.724878311157227, 0.22555266320705414, 24.45887565612793, 16.98984146118164, 10.117177963256836, 32.44816970825195, -7.9310736656188965, 10.607282638549805, 14.058582305908203, 21.90436553955078, -33.35037612915039, -20.004104614257812, -27.86998176574707, -14.71297836303711, -33.79362106323242, -23.485300064086914, -28.46014404296875, -4.571722984313965, -28.188621520996094, 1.8140933513641357, 7.085389614105225, -6.962372303009033, -2.1444344520568848, -13.23193645477295, 15.120119094848633, 27.664461135864258, 29.866636276245117, 23.763011932373047, 27.667186737060547, 30.682552337646484, 17.923934936523438, 28.680984497070312, 10.00191593170166, 3.1550638675689697, -60.95018005371094, 30.6684513092041, 31.97542381286621, 30.761873245239258, -16.92452049255371, -22.520780563354492, -26.998191833496094, 4.68328857421875, -28.78753662109375, -15.45095157623291, 27.989099502563477, 6.6483683586120605, -27.82573699951172, -31.101646423339844, -35.4316291809082, 5.3370771408081055, -23.02547836303711, -9.72559642791748, -20.172468185424805, -15.184924125671387, 5.217392444610596, -0.9823892712593079, 11.08110237121582, -4.10036563873291, -16.426677703857422, 25.089128494262695, -23.541481018066406, -11.824966430664062, -24.072269439697266, -32.26059341430664, -26.170055389404297, 8.665821075439453, 6.598462104797363, 10.87236213684082, -10.234695434570312, -63.16249465942383, 6.784158706665039, -8.003087997436523, -26.803211212158203, 14.949283599853516, 11.772283554077148, 6.3030853271484375, -9.31396770477295, -18.896453857421875, 20.007564544677734, -25.380826950073242, -27.898426055908203, 9.186644554138184, -14.450142860412598, -42.601531982421875, 14.459507942199707, 11.802141189575195, -15.77612018585205, -31.410924911499023, 7.988159656524658, 4.76578426361084, -32.239410400390625, -23.5179386138916, -24.653963088989258, -25.064380645751953, 11.754745483398438, 11.162041664123535, 25.815872192382812, -1.3794431686401367, 9.080390930175781, 25.89397621154785, 23.586557388305664, 9.660752296447754, -5.515113353729248, -27.009984970092773, -27.209524154663086, -30.607528686523438, -27.842391967773438, -33.33043670654297, -9.154153823852539, -17.600393295288086, -3.0825750827789307, -8.653777122497559, -17.221750259399414, 7.445117950439453, 9.09621524810791, 10.719324111938477, -29.313440322875977, -0.3320598304271698, -10.356673240661621, 36.438873291015625, -38.9904899597168, 13.973301887512207, -26.62730598449707, -64.8070068359375, 6.028601169586182, -24.214017868041992, 15.377071380615234, -17.985164642333984, -6.755972385406494, 20.705951690673828, -10.40882396697998, 29.185964584350586, 27.72031593322754, -31.052722930908203, 0.10935888439416885, 14.349593162536621, -24.133441925048828, -63.755985260009766, -33.195281982421875, 2.446599245071411, -29.850940704345703, -43.54972457885742, -65.23660278320312, 4.809203624725342, -14.838093757629395, 3.2044172286987305, 26.736270904541016, -21.156652450561523, -12.666662216186523, 1.502477765083313, -36.760318756103516, -31.060209274291992, 5.555558681488037, -38.40348815917969, -11.195639610290527, 4.690474987030029, 9.606849670410156, -25.130647659301758, -38.229759216308594, 11.53110122680664, -32.74047088623047, 11.858104705810547, -64.78050994873047, 27.885669708251953, 18.622112274169922, -25.834074020385742, 22.813426971435547, -38.774085998535156, 2.9861350059509277, -38.126625061035156, -27.529434204101562, 8.468180656433105, -39.45927047729492, -39.15662384033203, -38.247215270996094, 18.1299991607666, -37.818973541259766, 14.53175163269043, -17.828407287597656, 10.535120010375977, -25.380823135375977, -37.50059509277344, -61.157894134521484, -37.84121322631836, 6.509657382965088, -38.6812629699707, 1.6126909255981445, -38.511375427246094, -16.731632232666016, 7.664213180541992, -36.48336410522461, 11.96317195892334, -37.37924575805664, -30.8934326171875, 29.338266372680664, -37.235233306884766, -39.56856155395508, -63.82986068725586, -35.75315475463867, -37.55858612060547, 25.359079360961914, 27.652467727661133, 24.43787956237793, 11.590906143188477, -36.02655792236328, 26.77631950378418, -38.41694641113281, -37.13116455078125, 13.75570011138916, -36.65635299682617, 12.31315803527832, 25.41898536682129, 13.417250633239746, 6.406040668487549, 6.513562202453613, 12.978845596313477, -21.0589656829834, -44.99692916870117, 11.227413177490234, -44.851234436035156, -21.46213150024414, 12.392816543579102, -20.772659301757812, -22.059162139892578, -20.89336585998535, -23.60408592224121, -17.473663330078125, 13.499090194702148, 17.458541870117188, 10.881939888000488, 33.17729187011719, 9.282975196838379, -1.8331350088119507, 26.043794631958008, -0.1479228436946869, -34.26936721801758, 7.64653205871582, 19.069183349609375, 21.646596908569336, 3.145498037338257, -24.73925018310547, -37.20949172973633, -2.0662457942962646, -13.837183952331543, 7.770405292510986, -30.707666397094727, -20.209856033325195, -25.4599609375, -31.049245834350586, -28.792741775512695, 0.6545590758323669, 27.665109634399414, -21.189353942871094, -33.16777420043945, 9.660489082336426, 6.8828229904174805, -29.366918563842773, 5.389706611633301, 3.9884769916534424, 5.28475284576416, -30.080474853515625, 26.508529663085938, 0.8996148109436035, -10.095316886901855, 6.650772571563721, -35.52482986450195, 1.725477695465088, 10.747878074645996, -8.79054069519043, 4.801760196685791, -20.320871353149414, 6.896854400634766, -0.8591628670692444, -3.8147640228271484, -3.634326457977295, -20.287025451660156, -1.7184903621673584, -10.820722579956055, 25.2003116607666, -22.701013565063477, 1.5070911645889282, -61.08382797241211, 22.632720947265625, 1.5997285842895508, 34.20710754394531, 33.88265609741211, -60.93445587158203, 6.022214889526367, -6.508513927459717, 33.3865852355957, 1.5529085397720337, 33.8674201965332, 18.045364379882812, -61.41592025756836, 1.0073868036270142, 21.44228172302246, -34.76728820800781, 1.7706820964813232, 3.8227596282958984, 12.506591796875, 25.76631736755371, 8.845906257629395, -10.087994575500488, -31.75571632385254, -21.886249542236328, -61.345829010009766, 13.468489646911621, 17.359607696533203, 11.671212196350098, -62.05522155761719, -22.413633346557617, -5.010704040527344, -8.538607597351074, -29.77308464050293, -20.486486434936523, 10.693517684936523, -7.735050678253174, -0.24082693457603455, 14.046186447143555, -40.474246978759766, -30.329538345336914, -2.0986037254333496, -23.63755989074707, -20.001258850097656, -64.591552734375, -10.593975067138672, -62.94184112548828, -38.911888122558594, 7.977209091186523, -33.78480911254883, -34.238468170166016, -10.638781547546387, 21.327749252319336, 25.89737892150879, 6.109678745269775, -38.780174255371094, 3.8073742389678955, 4.608282566070557, -61.08549880981445, 24.250652313232422, 8.850509643554688, -23.781055450439453, -36.21209716796875, 2.8715267181396484, 18.75514030456543, 32.50590133666992, -26.604080200195312, 6.423804759979248, 16.461477279663086, 27.366104125976562, -19.578161239624023, -12.37349796295166, -8.762857437133789, -23.84220314025879, 4.333737373352051, -10.40770435333252, -28.956981658935547, 22.567310333251953, 30.22422981262207, -61.78614807128906, -25.915740966796875, 7.313822269439697, 4.701849460601807, -27.57399559020996, 24.74563217163086, -31.94243049621582, 30.326536178588867, -27.232954025268555, 24.460147857666016, 21.277048110961914, 22.458818435668945, 10.67906379699707, -29.1125545501709, -29.45227813720703, 24.2032413482666, -10.823589324951172, -60.6483039855957, -0.7990918159484863, 4.694004535675049, -42.78046417236328, -61.58450698852539, -43.818115234375, -44.750343322753906, -40.06494140625, -60.19582748413086, -21.033456802368164, -3.258345365524292, -40.09027099609375, 28.48556900024414, -16.736677169799805, -43.8995475769043, 29.8878231048584, -43.244895935058594, 15.488909721374512, -43.580543518066406, -43.88703918457031, -44.139892578125, -62.21815490722656, -42.819217681884766, -62.286895751953125, -61.895111083984375, -44.05043411254883, -43.859378814697266, -62.223907470703125, -43.789676666259766, -43.86867904663086, -43.40317916870117, -44.16074752807617, -43.98196029663086, -43.038909912109375, -45.001365661621094, 7.319443225860596, -44.44182586669922, -44.72528076171875, -62.74225616455078, -45.07777404785156, -62.932350158691406, -61.822330474853516, 8.018929481506348, -43.388763427734375, -44.07070541381836, -21.724519729614258, 9.439103126525879, -21.15431785583496, 17.62648582458496, 14.679429054260254, -64.13719940185547, -3.4900739192962646, -64.08668518066406, -27.232547760009766, 6.9016265869140625, -23.484071731567383, 31.36355972290039, 26.055089950561523, -34.37140655517578, 8.650262832641602, -63.40553665161133, 22.442001342773438, -8.704055786132812, -26.219913482666016, 14.735907554626465, -23.31252098083496, -38.128761291503906, -26.075151443481445, 4.559823989868164, 13.755535125732422, -10.657988548278809, -63.5387077331543, -9.41283893585205, -63.39461898803711, 15.284446716308594, -63.9747200012207, 6.9260478019714355, -4.616199016571045, -39.45981979370117, -22.545799255371094, 29.178007125854492, -24.004547119140625, -7.200830936431885, -36.8655891418457, 9.519372940063477, 8.467896461486816, 21.599716186523438, 6.686148643493652, 5.2454729080200195, 6.877439022064209, 6.67681360244751, 5.020266532897949, 7.006520748138428, -62.338768005371094, 7.054591655731201, -63.08148956298828, 8.165665626525879, 7.123918056488037, -61.508338928222656, 15.6629056930542, 8.991987228393555, -62.55393600463867, -64.03134155273438, 15.035462379455566, 7.236274719238281, -62.71100997924805, 6.437158584594727, -64.08558654785156, -63.27986526489258, 5.8382439613342285, -63.40607452392578, -61.640560150146484, -64.2467041015625, -22.29953384399414, -11.28972053527832, 5.787534713745117, -40.01664352416992, -35.25144577026367, -35.613128662109375, -23.583404541015625, -24.94119644165039, 13.742791175842285, -62.81591033935547, -25.22258186340332, -21.476839065551758, -21.733171463012695, -25.131559371948242, -21.450145721435547, -40.40696334838867, -26.107513427734375, -29.76007652282715, 8.439824104309082, -65.03614044189453, -33.5390739440918, 2.775301456451416, -40.64939498901367, -19.07758140563965, -25.98692512512207, 2.7187604904174805, 3.3263227939605713], \"yaxis\": \"y\"}],\n",
              "                        {\"coloraxis\": {\"colorbar\": {\"title\": {\"text\": \"popularity\"}}, \"colorscale\": [[0.0, \"#0d0887\"], [0.1111111111111111, \"#46039f\"], [0.2222222222222222, \"#7201a8\"], [0.3333333333333333, \"#9c179e\"], [0.4444444444444444, \"#bd3786\"], [0.5555555555555556, \"#d8576b\"], [0.6666666666666666, \"#ed7953\"], [0.7777777777777778, \"#fb9f3a\"], [0.8888888888888888, \"#fdca26\"], [1.0, \"#f0f921\"]]}, \"legend\": {\"tracegroupgap\": 0}, \"margin\": {\"t\": 60}, \"template\": {\"data\": {\"bar\": [{\"error_x\": {\"color\": \"#2a3f5f\"}, \"error_y\": {\"color\": \"#2a3f5f\"}, \"marker\": {\"line\": {\"color\": \"#E5ECF6\", \"width\": 0.5}}, \"type\": \"bar\"}], \"barpolar\": [{\"marker\": {\"line\": {\"color\": \"#E5ECF6\", \"width\": 0.5}}, \"type\": \"barpolar\"}], \"carpet\": [{\"aaxis\": {\"endlinecolor\": \"#2a3f5f\", \"gridcolor\": \"white\", \"linecolor\": \"white\", \"minorgridcolor\": \"white\", \"startlinecolor\": \"#2a3f5f\"}, \"baxis\": {\"endlinecolor\": \"#2a3f5f\", \"gridcolor\": \"white\", \"linecolor\": \"white\", \"minorgridcolor\": \"white\", \"startlinecolor\": \"#2a3f5f\"}, \"type\": \"carpet\"}], \"choropleth\": [{\"colorbar\": {\"outlinewidth\": 0, \"ticks\": \"\"}, \"type\": \"choropleth\"}], \"contour\": [{\"colorbar\": {\"outlinewidth\": 0, \"ticks\": \"\"}, \"colorscale\": [[0.0, \"#0d0887\"], [0.1111111111111111, \"#46039f\"], [0.2222222222222222, \"#7201a8\"], [0.3333333333333333, \"#9c179e\"], [0.4444444444444444, \"#bd3786\"], [0.5555555555555556, \"#d8576b\"], [0.6666666666666666, \"#ed7953\"], [0.7777777777777778, \"#fb9f3a\"], [0.8888888888888888, \"#fdca26\"], [1.0, \"#f0f921\"]], \"type\": \"contour\"}], \"contourcarpet\": [{\"colorbar\": {\"outlinewidth\": 0, \"ticks\": \"\"}, \"type\": \"contourcarpet\"}], \"heatmap\": [{\"colorbar\": {\"outlinewidth\": 0, \"ticks\": \"\"}, \"colorscale\": [[0.0, \"#0d0887\"], [0.1111111111111111, \"#46039f\"], [0.2222222222222222, \"#7201a8\"], [0.3333333333333333, \"#9c179e\"], [0.4444444444444444, \"#bd3786\"], [0.5555555555555556, \"#d8576b\"], [0.6666666666666666, \"#ed7953\"], [0.7777777777777778, \"#fb9f3a\"], [0.8888888888888888, \"#fdca26\"], [1.0, \"#f0f921\"]], \"type\": \"heatmap\"}], \"heatmapgl\": [{\"colorbar\": {\"outlinewidth\": 0, \"ticks\": \"\"}, \"colorscale\": [[0.0, \"#0d0887\"], [0.1111111111111111, \"#46039f\"], [0.2222222222222222, \"#7201a8\"], [0.3333333333333333, \"#9c179e\"], [0.4444444444444444, \"#bd3786\"], [0.5555555555555556, \"#d8576b\"], [0.6666666666666666, \"#ed7953\"], [0.7777777777777778, \"#fb9f3a\"], [0.8888888888888888, \"#fdca26\"], [1.0, \"#f0f921\"]], \"type\": \"heatmapgl\"}], \"histogram\": [{\"marker\": {\"colorbar\": {\"outlinewidth\": 0, \"ticks\": \"\"}}, \"type\": \"histogram\"}], \"histogram2d\": [{\"colorbar\": {\"outlinewidth\": 0, \"ticks\": \"\"}, \"colorscale\": [[0.0, \"#0d0887\"], [0.1111111111111111, \"#46039f\"], [0.2222222222222222, \"#7201a8\"], [0.3333333333333333, \"#9c179e\"], [0.4444444444444444, \"#bd3786\"], [0.5555555555555556, \"#d8576b\"], [0.6666666666666666, \"#ed7953\"], [0.7777777777777778, \"#fb9f3a\"], [0.8888888888888888, \"#fdca26\"], [1.0, \"#f0f921\"]], \"type\": \"histogram2d\"}], \"histogram2dcontour\": [{\"colorbar\": {\"outlinewidth\": 0, \"ticks\": \"\"}, \"colorscale\": [[0.0, \"#0d0887\"], [0.1111111111111111, \"#46039f\"], [0.2222222222222222, \"#7201a8\"], [0.3333333333333333, \"#9c179e\"], [0.4444444444444444, \"#bd3786\"], [0.5555555555555556, \"#d8576b\"], [0.6666666666666666, \"#ed7953\"], [0.7777777777777778, \"#fb9f3a\"], [0.8888888888888888, \"#fdca26\"], [1.0, \"#f0f921\"]], \"type\": \"histogram2dcontour\"}], \"mesh3d\": [{\"colorbar\": {\"outlinewidth\": 0, \"ticks\": \"\"}, \"type\": \"mesh3d\"}], \"parcoords\": [{\"line\": {\"colorbar\": {\"outlinewidth\": 0, \"ticks\": \"\"}}, \"type\": \"parcoords\"}], \"pie\": [{\"automargin\": true, \"type\": \"pie\"}], \"scatter\": [{\"marker\": {\"colorbar\": {\"outlinewidth\": 0, \"ticks\": \"\"}}, \"type\": \"scatter\"}], \"scatter3d\": [{\"line\": {\"colorbar\": {\"outlinewidth\": 0, \"ticks\": \"\"}}, \"marker\": {\"colorbar\": {\"outlinewidth\": 0, \"ticks\": \"\"}}, \"type\": \"scatter3d\"}], \"scattercarpet\": [{\"marker\": {\"colorbar\": {\"outlinewidth\": 0, \"ticks\": \"\"}}, \"type\": \"scattercarpet\"}], \"scattergeo\": [{\"marker\": {\"colorbar\": {\"outlinewidth\": 0, \"ticks\": \"\"}}, \"type\": \"scattergeo\"}], \"scattergl\": [{\"marker\": {\"colorbar\": {\"outlinewidth\": 0, \"ticks\": \"\"}}, \"type\": \"scattergl\"}], \"scattermapbox\": [{\"marker\": {\"colorbar\": {\"outlinewidth\": 0, \"ticks\": \"\"}}, \"type\": \"scattermapbox\"}], \"scatterpolar\": [{\"marker\": {\"colorbar\": {\"outlinewidth\": 0, \"ticks\": \"\"}}, \"type\": \"scatterpolar\"}], \"scatterpolargl\": [{\"marker\": {\"colorbar\": {\"outlinewidth\": 0, \"ticks\": \"\"}}, \"type\": \"scatterpolargl\"}], \"scatterternary\": [{\"marker\": {\"colorbar\": {\"outlinewidth\": 0, \"ticks\": \"\"}}, \"type\": \"scatterternary\"}], \"surface\": [{\"colorbar\": {\"outlinewidth\": 0, \"ticks\": \"\"}, \"colorscale\": [[0.0, \"#0d0887\"], [0.1111111111111111, \"#46039f\"], [0.2222222222222222, \"#7201a8\"], [0.3333333333333333, \"#9c179e\"], [0.4444444444444444, \"#bd3786\"], [0.5555555555555556, \"#d8576b\"], [0.6666666666666666, \"#ed7953\"], [0.7777777777777778, \"#fb9f3a\"], [0.8888888888888888, \"#fdca26\"], [1.0, \"#f0f921\"]], \"type\": \"surface\"}], \"table\": [{\"cells\": {\"fill\": {\"color\": \"#EBF0F8\"}, \"line\": {\"color\": \"white\"}}, \"header\": {\"fill\": {\"color\": \"#C8D4E3\"}, \"line\": {\"color\": \"white\"}}, \"type\": \"table\"}]}, \"layout\": {\"annotationdefaults\": {\"arrowcolor\": \"#2a3f5f\", \"arrowhead\": 0, \"arrowwidth\": 1}, \"coloraxis\": {\"colorbar\": {\"outlinewidth\": 0, \"ticks\": \"\"}}, \"colorscale\": {\"diverging\": [[0, \"#8e0152\"], [0.1, \"#c51b7d\"], [0.2, \"#de77ae\"], [0.3, \"#f1b6da\"], [0.4, \"#fde0ef\"], [0.5, \"#f7f7f7\"], [0.6, \"#e6f5d0\"], [0.7, \"#b8e186\"], [0.8, \"#7fbc41\"], [0.9, \"#4d9221\"], [1, \"#276419\"]], \"sequential\": [[0.0, \"#0d0887\"], [0.1111111111111111, \"#46039f\"], [0.2222222222222222, \"#7201a8\"], [0.3333333333333333, \"#9c179e\"], [0.4444444444444444, \"#bd3786\"], [0.5555555555555556, \"#d8576b\"], [0.6666666666666666, \"#ed7953\"], [0.7777777777777778, \"#fb9f3a\"], [0.8888888888888888, \"#fdca26\"], [1.0, \"#f0f921\"]], \"sequentialminus\": [[0.0, \"#0d0887\"], [0.1111111111111111, \"#46039f\"], [0.2222222222222222, \"#7201a8\"], [0.3333333333333333, \"#9c179e\"], [0.4444444444444444, \"#bd3786\"], [0.5555555555555556, \"#d8576b\"], [0.6666666666666666, \"#ed7953\"], [0.7777777777777778, \"#fb9f3a\"], [0.8888888888888888, \"#fdca26\"], [1.0, \"#f0f921\"]]}, \"colorway\": [\"#636efa\", \"#EF553B\", \"#00cc96\", \"#ab63fa\", \"#FFA15A\", \"#19d3f3\", \"#FF6692\", \"#B6E880\", \"#FF97FF\", \"#FECB52\"], \"font\": {\"color\": \"#2a3f5f\"}, \"geo\": {\"bgcolor\": \"white\", \"lakecolor\": \"white\", \"landcolor\": \"#E5ECF6\", \"showlakes\": true, \"showland\": true, \"subunitcolor\": \"white\"}, \"hoverlabel\": {\"align\": \"left\"}, \"hovermode\": \"closest\", \"mapbox\": {\"style\": \"light\"}, \"paper_bgcolor\": \"white\", \"plot_bgcolor\": \"#E5ECF6\", \"polar\": {\"angularaxis\": {\"gridcolor\": \"white\", \"linecolor\": \"white\", \"ticks\": \"\"}, \"bgcolor\": \"#E5ECF6\", \"radialaxis\": {\"gridcolor\": \"white\", \"linecolor\": \"white\", \"ticks\": \"\"}}, \"scene\": {\"xaxis\": {\"backgroundcolor\": \"#E5ECF6\", \"gridcolor\": \"white\", \"gridwidth\": 2, \"linecolor\": \"white\", \"showbackground\": true, \"ticks\": \"\", \"zerolinecolor\": \"white\"}, \"yaxis\": {\"backgroundcolor\": \"#E5ECF6\", \"gridcolor\": \"white\", \"gridwidth\": 2, \"linecolor\": \"white\", \"showbackground\": true, \"ticks\": \"\", \"zerolinecolor\": \"white\"}, \"zaxis\": {\"backgroundcolor\": \"#E5ECF6\", \"gridcolor\": \"white\", \"gridwidth\": 2, \"linecolor\": \"white\", \"showbackground\": true, \"ticks\": \"\", \"zerolinecolor\": \"white\"}}, \"shapedefaults\": {\"line\": {\"color\": \"#2a3f5f\"}}, \"ternary\": {\"aaxis\": {\"gridcolor\": \"white\", \"linecolor\": \"white\", \"ticks\": \"\"}, \"baxis\": {\"gridcolor\": \"white\", \"linecolor\": \"white\", \"ticks\": \"\"}, \"bgcolor\": \"#E5ECF6\", \"caxis\": {\"gridcolor\": \"white\", \"linecolor\": \"white\", \"ticks\": \"\"}}, \"title\": {\"x\": 0.05}, \"xaxis\": {\"automargin\": true, \"gridcolor\": \"white\", \"linecolor\": \"white\", \"ticks\": \"\", \"title\": {\"standoff\": 15}, \"zerolinecolor\": \"white\", \"zerolinewidth\": 2}, \"yaxis\": {\"automargin\": true, \"gridcolor\": \"white\", \"linecolor\": \"white\", \"ticks\": \"\", \"title\": {\"standoff\": 15}, \"zerolinecolor\": \"white\", \"zerolinewidth\": 2}}}, \"xaxis\": {\"anchor\": \"y\", \"domain\": [0.0, 1.0], \"title\": {\"text\": \"tsne_1\"}}, \"yaxis\": {\"anchor\": \"x\", \"domain\": [0.0, 1.0], \"title\": {\"text\": \"tsne_2\"}}},\n",
              "                        {\"responsive\": true}\n",
              "                    ).then(function(){\n",
              "                            \n",
              "var gd = document.getElementById('5ad419b9-19ec-4e10-807c-ba283244f0e2');\n",
              "var x = new MutationObserver(function (mutations, observer) {{\n",
              "        var display = window.getComputedStyle(gd).display;\n",
              "        if (!display || display === 'none') {{\n",
              "            console.log([gd, 'removed!']);\n",
              "            Plotly.purge(gd);\n",
              "            observer.disconnect();\n",
              "        }}\n",
              "}});\n",
              "\n",
              "// Listen for the removal of the full notebook cells\n",
              "var notebookContainer = gd.closest('#notebook-container');\n",
              "if (notebookContainer) {{\n",
              "    x.observe(notebookContainer, {childList: true});\n",
              "}}\n",
              "\n",
              "// Listen for the clearing of the current output cell\n",
              "var outputEl = gd.closest('.output');\n",
              "if (outputEl) {{\n",
              "    x.observe(outputEl, {childList: true});\n",
              "}}\n",
              "\n",
              "                        })\n",
              "                };\n",
              "                \n",
              "            </script>\n",
              "        </div>\n",
              "</body>\n",
              "</html>"
            ]
          },
          "metadata": {
            "tags": []
          }
        }
      ]
    },
    {
      "cell_type": "markdown",
      "metadata": {
        "id": "VP5qe2bWR7Ag",
        "colab_type": "text"
      },
      "source": [
        "Alternatively with [Uniform Manifold Approximation and Projection](https://github.com/lmcinnes/umap):"
      ]
    },
    {
      "cell_type": "code",
      "metadata": {
        "id": "Vo0QiGNyR7Ah",
        "colab_type": "code",
        "colab": {}
      },
      "source": [
        " %pip install umap-learn"
      ],
      "execution_count": 0,
      "outputs": []
    },
    {
      "cell_type": "code",
      "metadata": {
        "id": "C4etbr2HR7Al",
        "colab_type": "code",
        "colab": {
          "base_uri": "https://localhost:8080/",
          "height": 578
        },
        "outputId": "50b0c57a-a491-4abd-ba28-c3ab039cd13d"
      },
      "source": [
        "import umap\n",
        "\n",
        "item_umap = umap.UMAP().fit_transform(item_embeddings)\n",
        "plt.figure(figsize=(10, 10))\n",
        "plt.scatter(item_umap[:, 0], item_umap[:, 1]);\n",
        "plt.xticks(()); plt.yticks(());\n",
        "plt.show()"
      ],
      "execution_count": 73,
      "outputs": [
        {
          "output_type": "display_data",
          "data": {
            "image/png": "[encoded data removed]",
            "text/plain": [
              "<Figure size 720x720 with 1 Axes>"
            ]
          },
          "metadata": {
            "tags": []
          }
        }
      ]
    },
    {
      "cell_type": "markdown",
      "metadata": {
        "id": "2EwwDll7R7Ap",
        "colab_type": "text"
      },
      "source": [
        "## A Deep recommender model\n",
        "\n",
        "Using a similar framework as previously, the following deep model described in the course was built (with only two fully connected)\n",
        "\n"
      ]
    },
    {
      "cell_type": "code",
      "metadata": {
        "id": "yKRaIOAhY0-g",
        "colab_type": "code",
        "colab": {
          "base_uri": "https://localhost:8080/",
          "height": 392
        },
        "outputId": "f3292949-7893-42ed-a31c-2cb96a63fe5d"
      },
      "source": [
        "from IPython.display import Image\n",
        "Image('rec_archi_2.png', width=600)"
      ],
      "execution_count": 74,
      "outputs": [
        {
          "output_type": "execute_result",
          "data": {
            "image/png": "[encoded data removed]",
            "text/plain": [
              "<IPython.core.display.Image object>"
            ]
          },
          "metadata": {
            "tags": [],
            "image/png": {
              "width": 600
            }
          },
          "execution_count": 74
        }
      ]
    },
    {
      "cell_type": "markdown",
      "metadata": {
        "id": "_fgcjdnzY9VB",
        "colab_type": "text"
      },
      "source": [
        "\n",
        "To build this model we will need a new kind of layer:"
      ]
    },
    {
      "cell_type": "code",
      "metadata": {
        "id": "aiJMw3_3R7Aq",
        "colab_type": "code",
        "colab": {}
      },
      "source": [
        "from tensorflow.keras.layers import Concatenate"
      ],
      "execution_count": 0,
      "outputs": []
    },
    {
      "cell_type": "markdown",
      "metadata": {
        "id": "iNaTdesrR7Aw",
        "colab_type": "text"
      },
      "source": [
        "\n",
        "### Exercise\n",
        "\n",
        "- The following code has **4 errors** that prevent it from working correctly. **Correct them and explain** why they are critical."
      ]
    },
    {
      "cell_type": "code",
      "metadata": {
        "id": "l6WDgkH1R7Ay",
        "colab_type": "code",
        "colab": {
          "base_uri": "https://localhost:8080/",
          "height": 54
        },
        "outputId": "709f9d34-e098-4816-a044-5834a4e63e6a"
      },
      "source": [
        "class DeepRegressionModel(Model):\n",
        "\n",
        "    def __init__(self, embedding_size, max_user_id, max_item_id):\n",
        "        super().__init__()\n",
        "        \n",
        "        self.user_embedding = Embedding(output_dim=embedding_size,\n",
        "                                        input_dim=max_user_id + 1,\n",
        "                                        input_length=1,\n",
        "                                        name='user_embedding')\n",
        "        self.item_embedding = Embedding(output_dim=embedding_size,\n",
        "                                        input_dim=max_item_id + 1,\n",
        "                                        input_length=1,\n",
        "                                        name='item_embedding')\n",
        "        \n",
        "        # The following two layers don't have parameters.\n",
        "        self.flatten = Flatten()\n",
        "        self.concat = Concatenate()\n",
        "        \n",
        "        self.dropout = Dropout(0.99)\n",
        "        self.dense1 = Dense(64, activation=\"relu\")\n",
        "        self.dense2 = Dense(2, activation=\"tanh\")\n",
        "        \n",
        "    def call(self, inputs):\n",
        "        user_inputs = inputs[0]\n",
        "        item_inputs = inputs[1]\n",
        "        \n",
        "        user_vecs = self.flatten(self.user_embedding(user_inputs))\n",
        "        item_vecs = self.flatten(self.item_embedding(item_inputs))\n",
        "        \n",
        "        input_vecs = self.concat([user_vecs, item_vecs])\n",
        "        \n",
        "        y = self.dropout(input_vecs)\n",
        "        y = self.dense1(y)\n",
        "        y = self.dense2(y)\n",
        "        \n",
        "        return y\n",
        "        \n",
        "model = DeepRegressionModel(64, max_user_id, max_item_id)\n",
        "model.compile(optimizer='adam', loss='binary_crossentropy')\n",
        "\n",
        "initial_train_preds = model.predict([user_id_train, item_id_train])"
      ],
      "execution_count": 50,
      "outputs": [
        {
          "output_type": "stream",
          "text": [
            "WARNING:tensorflow:Large dropout rate: 0.99 (>0.5). In TensorFlow 2.x, dropout() uses dropout rate instead of keep_prob. Please ensure that this is intended.\n"
          ],
          "name": "stdout"
        }
      ]
    },
    {
      "cell_type": "code",
      "metadata": {
        "id": "OJA8_2SpR7A4",
        "colab_type": "code",
        "colab": {}
      },
      "source": [
        "# %load solutions/deep_explicit_feedback_recsys.py\n",
        "# For each sample we input the integer identifiers\n",
        "# of a single user and a single item\n",
        "class DeepRegressionModel(Model):\n",
        "\n",
        "    def __init__(self, embedding_size, max_user_id, max_item_id):\n",
        "        super().__init__()\n",
        "\n",
        "        self.user_embedding = Embedding(\n",
        "            output_dim=embedding_size,\n",
        "            input_dim=max_user_id + 1,\n",
        "            input_length=1,\n",
        "            name='user_embedding'\n",
        "        )\n",
        "        self.item_embedding = Embedding(\n",
        "            output_dim=embedding_size,\n",
        "            input_dim=max_item_id + 1,\n",
        "            input_length=1,\n",
        "            name='item_embedding'\n",
        "        )\n",
        "\n",
        "        # The following two layers don't have parameters.\n",
        "        self.flatten = Flatten()\n",
        "        self.concat = Concatenate()\n",
        "\n",
        "        ## Error 1: Dropout was too high, preventing any training\n",
        "        self.dropout = Dropout(0.5)\n",
        "        self.dense1 = Dense(64, activation=\"relu\")\n",
        "        ## Error 2: output dimension was 2 where we predict only 1-d rating\n",
        "        ## Error 3: tanh activation squashes the outputs between -1 and 1\n",
        "        ## when we want to predict values between 1 and 5\n",
        "        self.dense2 = Dense(1)\n",
        "\n",
        "    def call(self, inputs, training=False):\n",
        "        user_inputs = inputs[0]\n",
        "        item_inputs = inputs[1]\n",
        "\n",
        "        user_vecs = self.flatten(self.user_embedding(user_inputs))\n",
        "        item_vecs = self.flatten(self.item_embedding(item_inputs))\n",
        "\n",
        "        input_vecs = self.concat([user_vecs, item_vecs])\n",
        "\n",
        "        y = self.dropout(input_vecs, training=training)\n",
        "        y = self.dense1(y)\n",
        "        y = self.dropout(y, training=training)\n",
        "        y = self.dense2(y)\n",
        "\n",
        "        return y\n",
        "\n",
        "\n",
        "model = DeepRegressionModel(64, max_user_id, max_item_id)\n",
        "## Error 4: A binary crossentropy loss is only useful for binary\n",
        "## classification, while we are in regression (use mse or mae)\n",
        "model.compile(optimizer='adam', loss='mae')\n",
        "\n",
        "initial_train_preds = model.predict([user_id_train, item_id_train])\n"
      ],
      "execution_count": 0,
      "outputs": []
    },
    {
      "cell_type": "code",
      "metadata": {
        "id": "S6taO8keR7BC",
        "colab_type": "code",
        "colab": {
          "base_uri": "https://localhost:8080/",
          "height": 416
        },
        "outputId": "51593fad-01b0-4034-d44a-2256f4430be6"
      },
      "source": [
        "%%time\n",
        "history = model.fit([user_id_train, item_id_train], rating_train,\n",
        "                    batch_size=64, epochs=10, validation_split=0.1,\n",
        "                    shuffle=True)"
      ],
      "execution_count": 52,
      "outputs": [
        {
          "output_type": "stream",
          "text": [
            "Train on 72000 samples, validate on 8000 samples\n",
            "Epoch 1/10\n",
            "72000/72000 [==============================] - 4s 54us/sample - loss: 1.1256 - val_loss: 0.7850\n",
            "Epoch 2/10\n",
            "72000/72000 [==============================] - 4s 50us/sample - loss: 0.8743 - val_loss: 0.7568\n",
            "Epoch 3/10\n",
            "72000/72000 [==============================] - 4s 49us/sample - loss: 0.8427 - val_loss: 0.7617\n",
            "Epoch 4/10\n",
            "72000/72000 [==============================] - 4s 49us/sample - loss: 0.8152 - val_loss: 0.7497\n",
            "Epoch 5/10\n",
            "72000/72000 [==============================] - 4s 50us/sample - loss: 0.7937 - val_loss: 0.7505\n",
            "Epoch 6/10\n",
            "72000/72000 [==============================] - 4s 50us/sample - loss: 0.7778 - val_loss: 0.7465\n",
            "Epoch 7/10\n",
            "72000/72000 [==============================] - 4s 50us/sample - loss: 0.7654 - val_loss: 0.7431\n",
            "Epoch 8/10\n",
            "72000/72000 [==============================] - 4s 50us/sample - loss: 0.7541 - val_loss: 0.7420\n",
            "Epoch 9/10\n",
            "72000/72000 [==============================] - 4s 49us/sample - loss: 0.7440 - val_loss: 0.7364\n",
            "Epoch 10/10\n",
            "72000/72000 [==============================] - 4s 49us/sample - loss: 0.7370 - val_loss: 0.7345\n",
            "CPU times: user 47.6 s, sys: 3.48 s, total: 51.1 s\n",
            "Wall time: 36.1 s\n"
          ],
          "name": "stdout"
        }
      ]
    },
    {
      "cell_type": "code",
      "metadata": {
        "id": "g3DNFScJR7BG",
        "colab_type": "code",
        "colab": {
          "base_uri": "https://localhost:8080/",
          "height": 281
        },
        "outputId": "7a17e125-09b8-4966-9079-ac96c6b3a710"
      },
      "source": [
        "plt.plot(history.history['loss'], label='train')\n",
        "plt.plot(history.history['val_loss'], label='validation')\n",
        "plt.ylim(0, 2)\n",
        "plt.legend(loc='best')\n",
        "plt.title('Loss');"
      ],
      "execution_count": 53,
      "outputs": [
        {
          "output_type": "display_data",
          "data": {
            "image/png": "[encoded data removed]",
            "text/plain": [
              "<Figure size 432x288 with 1 Axes>"
            ]
          },
          "metadata": {
            "tags": []
          }
        }
      ]
    },
    {
      "cell_type": "code",
      "metadata": {
        "id": "MmzfAMTaR7BQ",
        "colab_type": "code",
        "colab": {
          "base_uri": "https://localhost:8080/",
          "height": 52
        },
        "outputId": "d188427a-1375-4591-d1d2-b59f6046c7dd"
      },
      "source": [
        "train_preds = model.predict([user_id_train, item_id_train])\n",
        "print(\"Final train MSE: %0.3f\" % mean_squared_error(train_preds, rating_train))\n",
        "print(\"Final train MAE: %0.3f\" % mean_absolute_error(train_preds, rating_train))"
      ],
      "execution_count": 54,
      "outputs": [
        {
          "output_type": "stream",
          "text": [
            "Final train MSE: 0.840\n",
            "Final train MAE: 0.700\n"
          ],
          "name": "stdout"
        }
      ]
    },
    {
      "cell_type": "code",
      "metadata": {
        "id": "Vfdhxr5fR7BW",
        "colab_type": "code",
        "colab": {
          "base_uri": "https://localhost:8080/",
          "height": 52
        },
        "outputId": "eec467c1-c276-43ce-f4ed-ae79c8a1622c"
      },
      "source": [
        "test_preds = model.predict([user_id_test, item_id_test])\n",
        "print(\"Final test MSE: %0.3f\" % mean_squared_error(test_preds, rating_test))\n",
        "print(\"Final test MAE: %0.3f\" % mean_absolute_error(test_preds, rating_test))"
      ],
      "execution_count": 55,
      "outputs": [
        {
          "output_type": "stream",
          "text": [
            "Final test MSE: 0.899\n",
            "Final test MAE: 0.731\n"
          ],
          "name": "stdout"
        }
      ]
    },
    {
      "cell_type": "markdown",
      "metadata": {
        "id": "QYyYqJWWR7Bf",
        "colab_type": "text"
      },
      "source": [
        "The performance of this model is not necessarily significantly better than the previous model but you can notice that the gap between train and test is lower, probably thanks to the use of dropout.\n",
        "\n",
        "Furthermore this model is more flexible in the sense that we can extend it to include metadata for hybrid recsys as we will see in the following."
      ]
    },
    {
      "cell_type": "markdown",
      "metadata": {
        "id": "GQeL4Hz5R7Bi",
        "colab_type": "text"
      },
      "source": [
        "### Home assignment: \n",
        " - Add another layer, compare train/test error.\n",
        " - Can you improve the test MAE? \n",
        " - Try adding more dropout and change layer sizes.\n",
        " \n",
        " \n",
        "Manual tuning of so many hyperparameters is tedious. In practice it's better to automate the design of the model using an hyperparameter search tool such as:\n",
        "\n",
        "- https://keras-team.github.io/keras-tuner/ (Keras specific)\n",
        "- https://optuna.org/ (any machine learning framework, Keras included)"
      ]
    },
    {
      "cell_type": "markdown",
      "metadata": {
        "id": "93REGdQ5R7Bj",
        "colab_type": "text"
      },
      "source": [
        "## Using item metadata in the model\n",
        "\n",
        "Using a similar framework as previously, we will build another deep model that can also leverage additional metadata. The resulting system is therefore an **Hybrid Recommender System** that does both **Collaborative Filtering** and **Content-based recommendations**.\n"
      ]
    },
    {
      "cell_type": "code",
      "metadata": {
        "id": "DH0-xfICZMtG",
        "colab_type": "code",
        "colab": {
          "base_uri": "https://localhost:8080/",
          "height": 392
        },
        "outputId": "b9e6ae36-9419-4f33-e1f3-5c7b7c644e13"
      },
      "source": [
        "from IPython.display import Image\n",
        "Image('rec_archi_3.png', width=600)"
      ],
      "execution_count": 78,
      "outputs": [
        {
          "output_type": "execute_result",
          "data": {
            "image/png": "[encoded data removed]",
            "text/plain": [
              "<IPython.core.display.Image object>"
            ]
          },
          "metadata": {
            "tags": [],
            "image/png": {
              "width": 600
            }
          },
          "execution_count": 78
        }
      ]
    },
    {
      "cell_type": "code",
      "metadata": {
        "id": "s61sKiTgR7Bk",
        "colab_type": "code",
        "colab": {}
      },
      "source": [
        "from sklearn.preprocessing import QuantileTransformer\n",
        "\n",
        "meta_columns = ['popularity', 'release_year']\n",
        "\n",
        "scaler = QuantileTransformer()\n",
        "item_meta_train = scaler.fit_transform(ratings_train[meta_columns])\n",
        "item_meta_test = scaler.transform(ratings_test[meta_columns])"
      ],
      "execution_count": 0,
      "outputs": []
    },
    {
      "cell_type": "code",
      "metadata": {
        "id": "94_ejjosR7Bn",
        "colab_type": "code",
        "colab": {}
      },
      "source": [
        "class HybridModel(Model):\n",
        "\n",
        "    def __init__(self, embedding_size, max_user_id, max_item_id):\n",
        "        super().__init__()\n",
        "        \n",
        "        self.user_embedding = Embedding(output_dim=embedding_size,\n",
        "                                        input_dim=max_user_id + 1,\n",
        "                                        input_length=1,\n",
        "                                        name='user_embedding')\n",
        "        self.item_embedding = Embedding(output_dim=embedding_size,\n",
        "                                        input_dim=max_item_id + 1,\n",
        "                                        input_length=1,\n",
        "                                        name='item_embedding')\n",
        "        \n",
        "        # The following two layers don't have parameters.\n",
        "        self.flatten = Flatten()\n",
        "        self.concat = Concatenate()\n",
        "        \n",
        "        self.dense1 = Dense(64, activation=\"relu\")\n",
        "        self.dropout = Dropout(0.3)\n",
        "        self.dense2 = Dense(64, activation='relu')\n",
        "        self.dense3 = Dense(1)\n",
        "        \n",
        "    def call(self, inputs, training=False):\n",
        "        user_inputs = inputs[0]\n",
        "        item_inputs = inputs[1]\n",
        "        meta_inputs = inputs[2]\n",
        "\n",
        "        user_vecs = self.flatten(self.user_embedding(user_inputs))\n",
        "        user_vecs = self.dropout(user_vecs, training=training)\n",
        "\n",
        "        item_vecs = self.flatten(self.item_embedding(item_inputs))\n",
        "        item_vecs = self.dropout(item_vecs, training=training)\n",
        "\n",
        "        input_vecs = self.concat([user_vecs, item_vecs, meta_inputs])\n",
        "\n",
        "        y = self.dense1(input_vecs)\n",
        "        y = self.dropout(y, training=training)\n",
        "        y = self.dense2(y)\n",
        "        y = self.dropout(y, training=training)\n",
        "        y = self.dense3(y)\n",
        "        return y\n",
        "        \n",
        "model = HybridModel(64, max_user_id, max_item_id)\n",
        "model.compile(optimizer='adam', loss='mae')\n",
        "\n",
        "initial_train_preds = model.predict([user_id_train,\n",
        "                                     item_id_train,\n",
        "                                     item_meta_train])"
      ],
      "execution_count": 0,
      "outputs": []
    },
    {
      "cell_type": "code",
      "metadata": {
        "id": "lPeOfe48R7Bx",
        "colab_type": "code",
        "colab": {
          "base_uri": "https://localhost:8080/",
          "height": 416
        },
        "outputId": "291fab04-9f66-4e7b-8a9c-a4f310bfbeb8"
      },
      "source": [
        "%%time\n",
        "history = model.fit([user_id_train, item_id_train, item_meta_train],\n",
        "                    rating_train,\n",
        "                    batch_size=64, epochs=10, validation_split=0.1,\n",
        "                    shuffle=True)"
      ],
      "execution_count": 58,
      "outputs": [
        {
          "output_type": "stream",
          "text": [
            "Train on 72000 samples, validate on 8000 samples\n",
            "Epoch 1/10\n",
            "72000/72000 [==============================] - 4s 60us/sample - loss: 0.9677 - val_loss: 0.7679\n",
            "Epoch 2/10\n",
            "72000/72000 [==============================] - 4s 54us/sample - loss: 0.8260 - val_loss: 0.7492\n",
            "Epoch 3/10\n",
            "72000/72000 [==============================] - 4s 54us/sample - loss: 0.7947 - val_loss: 0.7406\n",
            "Epoch 4/10\n",
            "72000/72000 [==============================] - 4s 54us/sample - loss: 0.7756 - val_loss: 0.7352\n",
            "Epoch 5/10\n",
            "72000/72000 [==============================] - 4s 54us/sample - loss: 0.7613 - val_loss: 0.7315\n",
            "Epoch 6/10\n",
            "72000/72000 [==============================] - 4s 54us/sample - loss: 0.7497 - val_loss: 0.7370\n",
            "Epoch 7/10\n",
            "72000/72000 [==============================] - 4s 54us/sample - loss: 0.7378 - val_loss: 0.7265\n",
            "Epoch 8/10\n",
            "72000/72000 [==============================] - 4s 53us/sample - loss: 0.7274 - val_loss: 0.7311\n",
            "Epoch 9/10\n",
            "72000/72000 [==============================] - 4s 54us/sample - loss: 0.7193 - val_loss: 0.7234\n",
            "Epoch 10/10\n",
            "72000/72000 [==============================] - 4s 54us/sample - loss: 0.7084 - val_loss: 0.7181\n",
            "CPU times: user 51.5 s, sys: 3.93 s, total: 55.4 s\n",
            "Wall time: 39.5 s\n"
          ],
          "name": "stdout"
        }
      ]
    },
    {
      "cell_type": "code",
      "metadata": {
        "id": "FRZJcM3yR7B1",
        "colab_type": "code",
        "colab": {
          "base_uri": "https://localhost:8080/",
          "height": 52
        },
        "outputId": "081c825c-da60-4293-85dd-484d3fd18fbd"
      },
      "source": [
        "test_preds = model.predict([user_id_test, item_id_test, item_meta_test])\n",
        "print(\"Final test MSE: %0.3f\" % mean_squared_error(test_preds, rating_test))\n",
        "print(\"Final test MAE: %0.3f\" % mean_absolute_error(test_preds, rating_test))"
      ],
      "execution_count": 59,
      "outputs": [
        {
          "output_type": "stream",
          "text": [
            "Final test MSE: 0.879\n",
            "Final test MAE: 0.719\n"
          ],
          "name": "stdout"
        }
      ]
    },
    {
      "cell_type": "markdown",
      "metadata": {
        "id": "iRJozrriR7B6",
        "colab_type": "text"
      },
      "source": [
        "The additional metadata seems to improve the predictive power of the model a bit but this should be re-run several times to see the impact of the random initialization of the model.\n",
        "\n",
        "\n",
        "### A recommendation function for a given user\n",
        "\n",
        "Once the model is trained, the system can be used to recommend a few items for a user, that he/she hasn't already seen:\n",
        "- we use the `model.predict` to compute the ratings a user would have given to all items\n",
        "- we build a reco function that sorts these items and exclude those the user has already seen"
      ]
    },
    {
      "cell_type": "code",
      "metadata": {
        "scrolled": true,
        "id": "klAaJmEzR7CA",
        "colab_type": "code",
        "colab": {}
      },
      "source": [
        "def recommend(user_id, top_n=10):\n",
        "    item_ids = range(1, max_item_id)\n",
        "    seen_mask = all_ratings[\"user_id\"] == user_id\n",
        "    seen_movies = set(all_ratings[seen_mask][\"item_id\"])\n",
        "    item_ids = list(filter(lambda x: x not in seen_movies, item_ids))\n",
        "\n",
        "    print(\"User %d has seen %d movies, including:\" % (user_id, len(seen_movies)))\n",
        "    for title in all_ratings[seen_mask].nlargest(20, 'popularity')['title']:\n",
        "        print(\"   \", title)\n",
        "    print(\"Computing ratings for %d other movies:\" % len(item_ids))\n",
        "    \n",
        "    item_ids = np.array(item_ids)\n",
        "    user_ids = np.zeros_like(item_ids)\n",
        "    user_ids[:] = user_id\n",
        "    items_meta = scaler.transform(indexed_items[meta_columns].loc[item_ids])\n",
        "    \n",
        "    rating_preds = model.predict([user_ids, item_ids, items_meta])\n",
        "    \n",
        "    item_ids = np.argsort(rating_preds[:, 0])[::-1].tolist()\n",
        "    rec_items = item_ids[:top_n]\n",
        "    return [(items[\"title\"][movie], rating_preds[movie][0])\n",
        "            for movie in rec_items]"
      ],
      "execution_count": 0,
      "outputs": []
    },
    {
      "cell_type": "code",
      "metadata": {
        "id": "t9uCk-jwR7CE",
        "colab_type": "code",
        "colab": {
          "base_uri": "https://localhost:8080/",
          "height": 573
        },
        "outputId": "ace80a45-93c7-484b-b62c-e85844c80782"
      },
      "source": [
        "for title, pred_rating in recommend(5):\n",
        "    print(\"    %0.1f: %s\" % (pred_rating, title))"
      ],
      "execution_count": 61,
      "outputs": [
        {
          "output_type": "stream",
          "text": [
            "User 5 has seen 175 movies, including:\n",
            "    Star Wars (1977)\n",
            "    Fargo (1996)\n",
            "    Return of the Jedi (1983)\n",
            "    Toy Story (1995)\n",
            "    Independence Day (ID4) (1996)\n",
            "    Raiders of the Lost Ark (1981)\n",
            "    Silence of the Lambs, The (1991)\n",
            "    Empire Strikes Back, The (1980)\n",
            "    Star Trek: First Contact (1996)\n",
            "    Back to the Future (1985)\n",
            "    Mission: Impossible (1996)\n",
            "    Fugitive, The (1993)\n",
            "    Indiana Jones and the Last Crusade (1989)\n",
            "    Willy Wonka and the Chocolate Factory (1971)\n",
            "    Princess Bride, The (1987)\n",
            "    Forrest Gump (1994)\n",
            "    Monty Python and the Holy Grail (1974)\n",
            "    Men in Black (1997)\n",
            "    E.T. the Extra-Terrestrial (1982)\n",
            "    Birdcage, The (1996)\n",
            "Computing ratings for 1506 other movies:\n",
            "    5.1: Romy and Michele's High School Reunion (1997)\n",
            "    4.8: August (1996)\n",
            "    4.8: Robocop 3 (1993)\n",
            "    4.8: Boys of St. Vincent, The (1993)\n",
            "    4.6: Cowboy Way, The (1994)\n",
            "    4.6: Milk Money (1994)\n",
            "    4.6: Last Time I Committed Suicide, The (1997)\n",
            "    4.6: Mille bolle blu (1993)\n",
            "    4.6: Up in Smoke (1978)\n",
            "    4.6: Highlander III: The Sorcerer (1994)\n"
          ],
          "name": "stdout"
        }
      ]
    },
    {
      "cell_type": "markdown",
      "metadata": {
        "id": "27PhzL-aR7CK",
        "colab_type": "text"
      },
      "source": [
        "### Home assignment: Predicting ratings as a classification problem\n",
        "\n",
        "In this dataset, the ratings all belong to a finite set of possible values:"
      ]
    },
    {
      "cell_type": "code",
      "metadata": {
        "id": "B1DbDwutR7CQ",
        "colab_type": "code",
        "colab": {
          "base_uri": "https://localhost:8080/",
          "height": 34
        },
        "outputId": "4b67aed6-a882-4e1c-c129-edc24c45e7f3"
      },
      "source": [
        "import numpy as np\n",
        "\n",
        "np.unique(rating_train)"
      ],
      "execution_count": 62,
      "outputs": [
        {
          "output_type": "execute_result",
          "data": {
            "text/plain": [
              "array([1, 2, 3, 4, 5])"
            ]
          },
          "metadata": {
            "tags": []
          },
          "execution_count": 62
        }
      ]
    },
    {
      "cell_type": "markdown",
      "metadata": {
        "id": "FjE6GJlMR7Cj",
        "colab_type": "text"
      },
      "source": [
        "Maybe we can help the model by forcing it to predict those values by treating the problem as a multiclassification problem. The only required changes are:\n",
        "\n",
        "- setting the final layer to output class membership probabities using a softmax activation with 5 outputs;\n",
        "- optimize the categorical cross-entropy classification loss instead of a regression loss such as MSE or MAE."
      ]
    },
    {
      "cell_type": "code",
      "metadata": {
        "id": "aCEB5XA3R7Cl",
        "colab_type": "code",
        "colab": {
          "base_uri": "https://localhost:8080/",
          "height": 889
        },
        "outputId": "8455d6ed-7dd4-4868-8b2e-40fb47008923"
      },
      "source": [
        "# %load solutions/classification.py\n",
        "class ClassificationModel(Model):\n",
        "    def __init__(self, embedding_size, max_user_id, max_item_id):\n",
        "        super().__init__()\n",
        "\n",
        "        self.user_embedding = Embedding(output_dim=embedding_size, input_dim=max_user_id + 1,\n",
        "                                        input_length=1, name='user_embedding')\n",
        "        self.item_embedding = Embedding(output_dim=embedding_size, input_dim=max_item_id + 1,\n",
        "                                        input_length=1, name='item_embedding')\n",
        "\n",
        "        # The following two layers don't have parameters.\n",
        "        self.flatten = Flatten()\n",
        "        self.concat = Concatenate()\n",
        "\n",
        "        self.dropout1 = Dropout(0.5)\n",
        "        self.dense1 = Dense(128, activation=\"relu\")\n",
        "        self.dropout2 = Dropout(0.2)\n",
        "        self.dense2 = Dense(128, activation='relu')\n",
        "        self.dense3 = Dense(5, activation=\"softmax\")\n",
        "\n",
        "    def call(self, inputs):\n",
        "        user_inputs = inputs[0]\n",
        "        item_inputs = inputs[1]\n",
        "\n",
        "        user_vecs = self.flatten(self.user_embedding(user_inputs))\n",
        "        item_vecs = self.flatten(self.item_embedding(item_inputs))\n",
        "\n",
        "        input_vecs = self.concat([user_vecs, item_vecs])\n",
        "\n",
        "        y = self.dropout1(input_vecs)\n",
        "        y = self.dense1(y)\n",
        "        y = self.dropout2(y)\n",
        "        y = self.dense2(y)\n",
        "        y = self.dense3(y)\n",
        "\n",
        "        return y\n",
        "\n",
        "model = ClassificationModel(16, max_user_id, max_item_id)\n",
        "model.compile(optimizer='adam', loss='sparse_categorical_crossentropy')\n",
        "\n",
        "initial_train_preds = model.predict([user_id_train, item_id_train]).argmax(axis=1) + 1\n",
        "print(\"Random init MSE: %0.3f\" % mean_squared_error(initial_train_preds, rating_train))\n",
        "print(\"Random init MAE: %0.3f\" % mean_absolute_error(initial_train_preds, rating_train))\n",
        "\n",
        "history = model.fit([user_id_train, item_id_train], rating_train - 1,\n",
        "                    batch_size=64, epochs=15, validation_split=0.1,\n",
        "                    shuffle=True)\n",
        "\n",
        "plt.plot(history.history['loss'], label='train')\n",
        "plt.plot(history.history['val_loss'], label='validation')\n",
        "plt.ylim(0, 2)\n",
        "plt.legend(loc='best')\n",
        "plt.title('loss');\n",
        "\n",
        "test_preds = model.predict([user_id_test, item_id_test]).argmax(axis=1) + 1\n",
        "print(\"Final test MSE: %0.3f\" % mean_squared_error(test_preds, rating_test))\n",
        "print(\"Final test MAE: %0.3f\" % mean_absolute_error(test_preds, rating_test))\n"
      ],
      "execution_count": 63,
      "outputs": [
        {
          "output_type": "stream",
          "text": [
            "Random init MSE: 3.231\n",
            "Random init MAE: 1.443\n",
            "Train on 72000 samples, validate on 8000 samples\n",
            "Epoch 1/15\n",
            "72000/72000 [==============================] - 4s 53us/sample - loss: 1.3688 - val_loss: 1.2767\n",
            "Epoch 2/15\n",
            "72000/72000 [==============================] - 3s 48us/sample - loss: 1.2842 - val_loss: 1.2574\n",
            "Epoch 3/15\n",
            "72000/72000 [==============================] - 3s 48us/sample - loss: 1.2654 - val_loss: 1.2540\n",
            "Epoch 4/15\n",
            "72000/72000 [==============================] - 3s 47us/sample - loss: 1.2539 - val_loss: 1.2488\n",
            "Epoch 5/15\n",
            "72000/72000 [==============================] - 3s 47us/sample - loss: 1.2467 - val_loss: 1.2476\n",
            "Epoch 6/15\n",
            "72000/72000 [==============================] - 3s 48us/sample - loss: 1.2395 - val_loss: 1.2459\n",
            "Epoch 7/15\n",
            "72000/72000 [==============================] - 3s 47us/sample - loss: 1.2346 - val_loss: 1.2436\n",
            "Epoch 8/15\n",
            "72000/72000 [==============================] - 3s 48us/sample - loss: 1.2298 - val_loss: 1.2434\n",
            "Epoch 9/15\n",
            "72000/72000 [==============================] - 3s 48us/sample - loss: 1.2253 - val_loss: 1.2433\n",
            "Epoch 10/15\n",
            "72000/72000 [==============================] - 3s 48us/sample - loss: 1.2217 - val_loss: 1.2426\n",
            "Epoch 11/15\n",
            "72000/72000 [==============================] - 4s 49us/sample - loss: 1.2191 - val_loss: 1.2437\n",
            "Epoch 12/15\n",
            "72000/72000 [==============================] - 4s 49us/sample - loss: 1.2161 - val_loss: 1.2376\n",
            "Epoch 13/15\n",
            "72000/72000 [==============================] - 3s 48us/sample - loss: 1.2138 - val_loss: 1.2411\n",
            "Epoch 14/15\n",
            "72000/72000 [==============================] - 4s 49us/sample - loss: 1.2126 - val_loss: 1.2387\n",
            "Epoch 15/15\n",
            "72000/72000 [==============================] - 4s 50us/sample - loss: 1.2099 - val_loss: 1.2384\n",
            "Final test MSE: 1.183\n",
            "Final test MAE: 0.729\n"
          ],
          "name": "stdout"
        },
        {
          "output_type": "display_data",
          "data": {
            "image/png": "[encoded data removed]",
            "text/plain": [
              "<Figure size 432x288 with 1 Axes>"
            ]
          },
          "metadata": {
            "tags": []
          }
        }
      ]
    },
    {
      "cell_type": "code",
      "metadata": {
        "id": "tN668GX3R7C2",
        "colab_type": "code",
        "colab": {}
      },
      "source": [
        ""
      ],
      "execution_count": 0,
      "outputs": []
    }
  ]
}